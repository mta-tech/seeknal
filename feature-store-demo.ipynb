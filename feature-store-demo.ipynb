{
 "cells": [
  {
   "cell_type": "code",
   "execution_count": 1,
   "metadata": {},
   "outputs": [],
   "source": [
    "import findspark\n",
    "findspark.init()"
   ]
  },
  {
   "cell_type": "code",
   "execution_count": null,
   "metadata": {},
   "outputs": [],
   "source": [
    "from dotenv import load_dotenv\n",
    "load_dotenv()"
   ]
  },
  {
   "cell_type": "code",
   "execution_count": 3,
   "metadata": {},
   "outputs": [],
   "source": [
    "\n",
    "import pyspark\n",
    "from pyspark.conf import SparkConf\n",
    "from pyspark.sql import SparkSession\n",
    "import pandas as pd\n",
    "import os\n",
    "\n",
    "SPARK_VERSION = pyspark.__version__\n",
    "SPARK_MINOR_VERSION = '.'.join(SPARK_VERSION.split('.')[:2])\n",
    "ICEBERG_VERSION = \"1.6.1\""
   ]
  },
  {
   "cell_type": "code",
   "execution_count": 4,
   "metadata": {},
   "outputs": [],
   "source": [
    "cur_dir = os.path.realpath(\"./\")\n",
    "external_libs_dir = os.path.join(cur_dir, \"engines\")\n",
    "external_libs_jars = [\n",
    "    os.path.join(external_libs_dir, f) for f in os.listdir(external_libs_dir)\n",
    "]"
   ]
  },
  {
   "cell_type": "code",
   "execution_count": 5,
   "metadata": {},
   "outputs": [],
   "source": [
    "config = {\n",
    "    \"spark.jars\": \",\".join(external_libs_jars),\n",
    "    \"spark.jars.repositories\": \"http://packages.confluent.io/maven/,https://repo1.maven.org/maven2/\",\n",
    "    \"spark.jars.packages\": f\"org.apache.spark:spark-avro_2.12:3.5.3,za.co.absa:abris_2.12:6.4.0,com.lihaoyi:os-lib_2.12:0.8.1,org.apache.kafka:kafka-clients:3.8.0,io.delta:delta-spark_2.12:3.2.0,org.apache.iceberg:iceberg-aws-bundle:1.6.1,org.apache.hadoop:hadoop-aws:3.2.2,org.apache.hadoop:hadoop-client:3.2.2,org.apache.hadoop:hadoop-client-runtime:3.2.2,org.apache.iceberg:iceberg-spark-runtime-{SPARK_MINOR_VERSION}_2.12:{ICEBERG_VERSION}\",\n",
    "    \"spark.sql.extensions\": \"io.delta.sql.DeltaSparkSessionExtension,org.apache.iceberg.spark.extensions.IcebergSparkSessionExtensions\",\n",
    "    \"spark.sql.catalog.spark_catalog\": \"org.apache.spark.sql.delta.catalog.DeltaCatalog\",\n",
    "    \"spark.sql.defaultCatalog\": \"spark_catalog\"\n",
    "}"
   ]
  },
  {
   "cell_type": "code",
   "execution_count": null,
   "metadata": {},
   "outputs": [],
   "source": [
    "spark_config = SparkConf().setMaster('local').setAppName(\"seeknal-test\")\n",
    "for k, v in config.items():\n",
    "    spark_config = spark_config.set(k, v)\n",
    "\n",
    "spark = SparkSession.builder.config(conf=spark_config).getOrCreate()\n",
    "\n",
    "spark.sql(\"USE spark_catalog\")"
   ]
  },
  {
   "cell_type": "code",
   "execution_count": 7,
   "metadata": {},
   "outputs": [],
   "source": [
    "from datetime import datetime, timedelta\n",
    "\n",
    "from seeknal.entity import Entity\n",
    "from seeknal.featurestore.feature_group import (\n",
    "    FeatureGroup,\n",
    "    Materialization,\n",
    "    OfflineMaterialization,\n",
    "    OfflineStore,\n",
    "    OfflineStoreEnum,\n",
    "    FeatureStoreFileOutput,\n",
    "    OnlineStore,\n",
    "    OnlineStoreEnum,\n",
    "    HistoricalFeatures,\n",
    "    FeatureLookup,\n",
    "    FillNull,\n",
    "    GetLatestTimeStrategy,\n",
    "    OnlineFeatures,\n",
    ")\n",
    "\n",
    "from seeknal.flow import *\n",
    "from seeknal.featurestore.featurestore import Feature\n",
    "from seeknal.common_artifact import Source, Rule, Common, Dataset\n",
    "from seeknal.project import Project\n",
    "from seeknal.workspace import Workspace\n",
    "from seeknal.tasks.sparkengine import aggregators as G\n",
    "from seeknal.tasks.sparkengine import transformers as T\n",
    "from seeknal.tasks.sparkengine.transformers.spark_engine_transformers import (\n",
    "    JoinTablesByExpr,\n",
    "    JoinType,\n",
    "    TableJoinDef,\n",
    ")\n",
    "from pyspark import SparkContext\n",
    "from pyspark.sql import DataFrame\n",
    "import pandas as pd"
   ]
  },
  {
   "cell_type": "code",
   "execution_count": null,
   "metadata": {},
   "outputs": [],
   "source": [
    "project = Project(name=\"demo_project\", description=\"demo project\")\n",
    "# attach project\n",
    "project.get_or_create()\n",
    "# create or use a workspace\n",
    "Workspace(name=\"dev\", description=\"dev workspace\").get_or_create()\n",
    "\n",
    "# check which workspace is active\n",
    "Workspace.current()"
   ]
  },
  {
   "cell_type": "code",
   "execution_count": 9,
   "metadata": {},
   "outputs": [],
   "source": [
    "columns = \"day:string, feature1:float, feature2:float, id:string\"\n",
    "vals = [\n",
    "    (\"20190620\", 1.0, 1.0, \"1\"),\n",
    "    (\"20190610\", -1.0, -1.0, \"1\"),\n",
    "    (\"20190602\", 50.0, 50.0, \"1\"),\n",
    "    (\"20190601\", 0.0, 0.0, \"1\"),\n",
    "    (\"20190520\", 22.2, 22.2, \"1\"),\n",
    "    (\"20190510\", 2.0, 2.0, \"1\"),\n",
    "    (\"20190501\", 2.1, 2.1, \"1\"),\n",
    "    (\"20190620\", 1.0, 1.0, \"2\"),\n",
    "    (\"20190710\", None, None, \"2\"),\n",
    "    (\"20190602\", 50.0, 50.0, \"2\"),\n",
    "    (\"20190601\", 0.0, 0.0, \"2\"),\n",
    "    (\"20190520\", 22.2, 22.2, \"2\"),\n",
    "    (\"20190510\", 2.0, 2.0, \"2\"),\n",
    "    (\"20190501\", 2.1, 2.1, \"2\"),\n",
    "]\n",
    "\n",
    "daily_features_1 = spark.createDataFrame(vals, columns)"
   ]
  },
  {
   "cell_type": "markdown",
   "metadata": {},
   "source": [
    "## Feature Engineering"
   ]
  },
  {
   "cell_type": "code",
   "execution_count": null,
   "metadata": {},
   "outputs": [],
   "source": [
    "# example transformer\n",
    "format_date = T.Transformer(\n",
    "    T.ClassName.ADD_DATE,\n",
    "    inputCol=\"day\",\n",
    "    outputCol=\"new_date\",\n",
    "    inputDateFormat=\"yyyyMMdd\",\n",
    "    outputDateFormat=\"yyyy-MM-dd\",\n",
    ")\n",
    "res = (\n",
    "    SparkEngineTask()\n",
    "    .add_input(dataframe=daily_features_1)\n",
    "    .add_stage(transformer=format_date)\n",
    "    .add_stage(transformer=T.SQL(statement=\"SELECT id as msisdn, feature1, feature2, new_date as day FROM __THIS__\"))\n",
    "    .transform(spark)\n",
    ")\n",
    "res.show()"
   ]
  },
  {
   "cell_type": "markdown",
   "metadata": {},
   "source": [
    "## Save feature group to offline store"
   ]
  },
  {
   "cell_type": "code",
   "execution_count": 11,
   "metadata": {},
   "outputs": [],
   "source": [
    "# set materialization to dummy feature store\n",
    "dummy_store = OfflineStore(kind=OfflineStoreEnum.FILE, \n",
    "                           name=\"demo_feature_store\",\n",
    "                           value=FeatureStoreFileOutput(path=f\"file:///{cur_dir}/feature_store\")\n",
    "                          )\n",
    "materialization = Materialization(event_time_col=\"day\", \n",
    "                                  offline_materialization=OfflineMaterialization(\n",
    "                                                            store=dummy_store,\n",
    "                                                            mode=\"overwrite\", \n",
    "                                                            ttl=None\n",
    "                                                          ),\n",
    "                                  offline=True)"
   ]
  },
  {
   "cell_type": "code",
   "execution_count": null,
   "metadata": {},
   "outputs": [],
   "source": [
    "dummy_fg = FeatureGroup(\n",
    "    name=\"dummy_feature_group\",\n",
    "    entity=Entity(name=\"msisdn\", join_keys=[\"msisdn\"]).get_or_create(),\n",
    "    materialization=materialization,\n",
    ").set_dataframe(res)\n",
    "dummy_fg.set_features()\n",
    "dummy_fg.get_or_create()"
   ]
  },
  {
   "cell_type": "code",
   "execution_count": null,
   "metadata": {},
   "outputs": [],
   "source": [
    "res.printSchema()"
   ]
  },
  {
   "cell_type": "code",
   "execution_count": null,
   "metadata": {},
   "outputs": [],
   "source": [
    "# write feature group\n",
    "dummy_fg.set_dataframe(res).write(\n",
    "    feature_start_time=datetime(2019, 3, 5)\n",
    ")"
   ]
  },
  {
   "cell_type": "markdown",
   "metadata": {},
   "source": [
    "## Load feature group from offline store"
   ]
  },
  {
   "cell_type": "code",
   "execution_count": null,
   "metadata": {},
   "outputs": [],
   "source": [
    "my_fg = FeatureGroup(name=\"dummy_feature_group\")\n",
    "fs = FeatureLookup(source=my_fg)\n",
    "fillnull = FillNull(value=\"0.0\", dataType=\"double\")\n",
    "hist = HistoricalFeatures(lookups=[fs], fill_nulls=[fillnull])\n",
    "df = hist.to_dataframe(feature_start_time=datetime(2019, 3, 5))\n",
    "df.show()"
   ]
  }
 ],
 "metadata": {
  "kernelspec": {
   "display_name": "test_seeknal",
   "language": "python",
   "name": "test_seeknal"
  },
  "language_info": {
   "codemirror_mode": {
    "name": "ipython",
    "version": 3
   },
   "file_extension": ".py",
   "mimetype": "text/x-python",
   "name": "python",
   "nbconvert_exporter": "python",
   "pygments_lexer": "ipython3",
   "version": "3.11.11"
  }
 },
 "nbformat": 4,
 "nbformat_minor": 2
}
