{
 "cells": [
  {
   "cell_type": "code",
   "execution_count": 1,
   "metadata": {},
   "outputs": [
    {
     "data": {
      "text/plain": [
       "True"
      ]
     },
     "execution_count": 1,
     "metadata": {},
     "output_type": "execute_result"
    }
   ],
   "source": [
    "from dotenv import load_dotenv\n",
    "load_dotenv()"
   ]
  },
  {
   "cell_type": "code",
   "execution_count": 2,
   "metadata": {},
   "outputs": [],
   "source": [
    "from __future__ import absolute_import\n",
    "import os\n",
    "import findspark\n",
    "findspark.init(\n",
    "    os.getenv(\"SPARK_HOME\", \"/Users/fitrakacamarga/.sdkman/candidates/spark/current\")\n",
    ")\n",
    "import pyspark  # noqa\n",
    "from pyspark.sql import SparkSession  # noqa"
   ]
  },
  {
   "cell_type": "code",
   "execution_count": 3,
   "metadata": {},
   "outputs": [],
   "source": [
    "cur_dir = os.path.dirname(os.path.realpath(\"./\"))\n",
    "external_libs_dir = os.path.join(cur_dir, \"signal\", \"lib\", \"external\")\n",
    "external_libs_jars = [\n",
    "    os.path.join(external_libs_dir, f) for f in os.listdir(external_libs_dir)\n",
    "]\n",
    "spark_warehouse_dir, meta_dir = \"/tmp/spark-warehouse\", \"/tmp/spark-meta\""
   ]
  },
  {
   "cell_type": "code",
   "execution_count": 4,
   "metadata": {},
   "outputs": [
    {
     "name": "stderr",
     "output_type": "stream",
     "text": [
      "http://packages.confluent.io/maven/ added as a remote repository with the name: repo-1\n",
      "https://repo1.maven.org/maven2/ added as a remote repository with the name: repo-2\n",
      "Ivy Default Cache set to: /Users/fitrakacamarga/.ivy2/cache\n",
      "The jars for the packages stored in: /Users/fitrakacamarga/.ivy2/jars\n",
      "org.apache.spark#spark-avro_2.12 added as a dependency\n",
      "za.co.absa#abris_2.12 added as a dependency\n",
      "com.lihaoyi#os-lib_2.12 added as a dependency\n",
      "org.apache.kafka#kafka-clients added as a dependency\n",
      "io.delta#delta-spark_2.12 added as a dependency\n",
      "org.apache.iceberg#iceberg-aws-bundle added as a dependency\n",
      "org.apache.hadoop#hadoop-aws added as a dependency\n",
      "org.apache.hadoop#hadoop-client added as a dependency\n",
      "org.apache.hadoop#hadoop-client-runtime added as a dependency\n",
      ":: resolving dependencies :: org.apache.spark#spark-submit-parent-4584ca95-6d50-4e26-8bd8-6181bd36ca6d;1.0\n",
      "\tconfs: [default]\n",
      "\tfound org.apache.spark#spark-avro_2.12;3.5.3 in central\n",
      "\tfound org.tukaani#xz;1.9 in local-m2-cache\n",
      "\tfound za.co.absa#abris_2.12;6.4.0 in central\n",
      "\tfound io.confluent#kafka-avro-serializer;6.2.1 in spark-list\n",
      "\tfound org.apache.avro#avro;1.10.2 in central\n"
     ]
    },
    {
     "name": "stdout",
     "output_type": "stream",
     "text": [
      ":: loading settings :: url = jar:file:/Users/fitrakacamarga/.sdkman/candidates/spark/3.5.3/jars/ivy-2.5.1.jar!/org/apache/ivy/core/settings/ivysettings.xml\n"
     ]
    },
    {
     "name": "stderr",
     "output_type": "stream",
     "text": [
      "\tfound com.fasterxml.jackson.core#jackson-core;2.12.3 in central\n",
      "\tfound com.fasterxml.jackson.core#jackson-databind;2.10.5.1 in central\n",
      "\tfound com.fasterxml.jackson.core#jackson-annotations;2.10.5 in central\n",
      "\tfound org.apache.commons#commons-compress;1.21 in central\n",
      "\tfound org.slf4j#slf4j-api;1.7.30 in spark-list\n",
      "\tfound io.confluent#kafka-schema-serializer;6.2.1 in spark-list\n",
      "\tfound io.confluent#kafka-schema-registry-client;6.2.1 in spark-list\n",
      "\tfound jakarta.ws.rs#jakarta.ws.rs-api;2.1.6 in central\n",
      "\tfound org.glassfish.jersey.core#jersey-common;2.34 in central\n",
      "\tfound jakarta.annotation#jakarta.annotation-api;1.3.5 in central\n",
      "\tfound org.glassfish.hk2.external#jakarta.inject;2.6.1 in central\n",
      "\tfound org.glassfish.hk2#osgi-resource-locator;1.0.3 in central\n",
      "\tfound io.swagger#swagger-annotations;1.6.2 in central\n",
      "\tfound io.swagger#swagger-core;1.6.2 in central\n",
      "\tfound org.apache.commons#commons-lang3;3.2.1 in central\n",
      "\tfound com.fasterxml.jackson.dataformat#jackson-dataformat-yaml;2.10.5 in central\n",
      "\tfound org.yaml#snakeyaml;1.26 in central\n",
      "\tfound io.swagger#swagger-models;1.6.2 in spark-list\n",
      "\tfound com.google.guava#guava;30.1.1-jre in central\n",
      "\tfound com.google.guava#failureaccess;1.0.1 in central\n",
      "\tfound com.google.guava#listenablefuture;9999.0-empty-to-avoid-conflict-with-guava in central\n",
      "\tfound com.google.code.findbugs#jsr305;3.0.2 in central\n",
      "\tfound org.checkerframework#checker-qual;3.8.0 in central\n",
      "\tfound com.google.errorprone#error_prone_annotations;2.5.1 in central\n",
      "\tfound com.google.j2objc#j2objc-annotations;1.3 in central\n",
      "\tfound io.confluent#common-utils;6.2.1 in spark-list\n",
      "\tfound za.co.absa.commons#commons_2.12;1.0.0 in central\n",
      "\tfound com.lihaoyi#os-lib_2.12;0.8.1 in central\n",
      "\tfound com.lihaoyi#geny_2.12;0.7.1 in central\n",
      "\tfound org.apache.kafka#kafka-clients;3.8.0 in central\n",
      "\tfound com.github.luben#zstd-jni;1.5.6-3 in central\n",
      "\tfound org.lz4#lz4-java;1.8.0 in local-m2-cache\n",
      "\tfound org.xerial.snappy#snappy-java;1.1.10.5 in central\n",
      "\tfound org.slf4j#slf4j-api;1.7.36 in local-m2-cache\n",
      "\tfound io.delta#delta-spark_2.12;3.2.1 in central\n",
      "\tfound io.delta#delta-storage;3.2.1 in central\n",
      "\tfound org.antlr#antlr4-runtime;4.9.3 in central\n",
      "\tfound org.apache.iceberg#iceberg-aws-bundle;1.6.1 in central\n",
      "\tfound org.apache.hadoop#hadoop-aws;3.2.2 in central\n",
      "\tfound com.amazonaws#aws-java-sdk-bundle;1.11.563 in central\n",
      "\tfound org.apache.hadoop#hadoop-client;3.2.2 in central\n",
      "\tfound org.apache.hadoop#hadoop-common;3.2.2 in central\n",
      "\tfound org.apache.hadoop#hadoop-annotations;3.2.2 in central\n",
      "\tfound commons-cli#commons-cli;1.2 in local-m2-cache\n",
      "\tfound org.apache.commons#commons-math3;3.1.1 in central\n",
      "\tfound org.apache.httpcomponents#httpclient;4.5.13 in local-m2-cache\n",
      "\tfound org.apache.httpcomponents#httpcore;4.4.13 in local-m2-cache\n",
      "\tfound commons-logging#commons-logging;1.1.3 in central\n",
      "\tfound commons-codec#commons-codec;1.11 in local-m2-cache\n",
      "\tfound commons-io#commons-io;2.5 in local-m2-cache\n",
      "\tfound commons-net#commons-net;3.6 in central\n",
      "\tfound commons-collections#commons-collections;3.2.2 in local-m2-cache\n",
      "\tfound org.eclipse.jetty#jetty-servlet;9.4.20.v20190813 in central\n",
      "\tfound org.eclipse.jetty#jetty-security;9.4.20.v20190813 in central\n",
      "\tfound org.eclipse.jetty#jetty-webapp;9.4.20.v20190813 in central\n",
      "\tfound org.eclipse.jetty#jetty-xml;9.4.20.v20190813 in central\n",
      "\tfound com.sun.jersey#jersey-servlet;1.19 in central\n",
      "\tfound log4j#log4j;1.2.17 in central\n",
      "\tfound commons-beanutils#commons-beanutils;1.9.4 in local-m2-cache\n",
      "\tfound org.apache.commons#commons-configuration2;2.1.1 in central\n",
      "\tfound org.apache.commons#commons-lang3;3.7 in local-m2-cache\n",
      "\tfound org.apache.commons#commons-text;1.4 in central\n",
      "\tfound com.google.re2j#re2j;1.1 in central\n",
      "\tfound com.google.protobuf#protobuf-java;2.5.0 in central\n",
      "\tfound com.google.code.gson#gson;2.2.4 in central\n",
      "\tfound org.apache.hadoop#hadoop-auth;3.2.2 in central\n",
      "\tfound com.nimbusds#nimbus-jose-jwt;7.9 in central\n",
      "\tfound com.github.stephenc.jcip#jcip-annotations;1.0-1 in local-m2-cache\n",
      "\tfound net.minidev#json-smart;2.3 in local-m2-cache\n",
      "\tfound net.minidev#accessors-smart;1.2 in local-m2-cache\n",
      "\tfound org.ow2.asm#asm;5.0.4 in local-m2-cache\n",
      "\tfound org.apache.curator#curator-framework;2.13.0 in central\n",
      "\tfound org.apache.curator#curator-client;2.13.0 in central\n",
      "\tfound org.apache.kerby#kerb-simplekdc;1.0.1 in central\n",
      "\tfound org.apache.kerby#kerb-client;1.0.1 in central\n",
      "\tfound org.apache.kerby#kerby-config;1.0.1 in central\n",
      "\tfound org.apache.kerby#kerb-core;1.0.1 in central\n",
      "\tfound org.apache.kerby#kerby-pkix;1.0.1 in central\n",
      "\tfound org.apache.kerby#kerby-asn1;1.0.1 in central\n",
      "\tfound org.apache.kerby#kerby-util;1.0.1 in central\n",
      "\tfound org.apache.kerby#kerb-common;1.0.1 in central\n",
      "\tfound org.apache.kerby#kerb-crypto;1.0.1 in central\n",
      "\tfound org.apache.kerby#kerb-util;1.0.1 in central\n",
      "\tfound org.apache.kerby#token-provider;1.0.1 in central\n",
      "\tfound org.apache.kerby#kerb-admin;1.0.1 in central\n",
      "\tfound org.apache.kerby#kerb-server;1.0.1 in central\n",
      "\tfound org.apache.kerby#kerb-identity;1.0.1 in central\n",
      "\tfound org.apache.kerby#kerby-xdr;1.0.1 in central\n",
      "\tfound org.apache.curator#curator-recipes;2.13.0 in central\n",
      "\tfound org.apache.htrace#htrace-core4;4.1.0-incubating in central\n",
      "\tfound org.codehaus.woodstox#stax2-api;3.1.4 in central\n",
      "\tfound com.fasterxml.woodstox#woodstox-core;5.0.3 in central\n",
      "\tfound dnsjava#dnsjava;2.1.7 in central\n",
      "\tfound javax.activation#javax.activation-api;1.2.0 in local-m2-cache\n",
      "\tfound javax.servlet.jsp#jsp-api;2.1 in central\n",
      "\tfound org.apache.hadoop#hadoop-hdfs-client;3.2.2 in central\n",
      "\tfound com.squareup.okhttp#okhttp;2.7.5 in central\n",
      "\tfound com.squareup.okio#okio;1.6.0 in central\n",
      "\tfound org.apache.hadoop#hadoop-yarn-api;3.2.2 in central\n",
      "\tfound javax.xml.bind#jaxb-api;2.2.11 in central\n",
      "\tfound org.apache.hadoop#hadoop-yarn-client;3.2.2 in central\n",
      "\tfound org.apache.hadoop#hadoop-mapreduce-client-core;3.2.2 in central\n",
      "\tfound org.apache.hadoop#hadoop-yarn-common;3.2.2 in central\n",
      "\tfound javax.servlet#javax.servlet-api;3.1.0 in local-m2-cache\n",
      "\tfound org.eclipse.jetty#jetty-util;9.4.20.v20190813 in central\n",
      "\tfound com.sun.jersey#jersey-core;1.19 in central\n",
      "\tfound javax.ws.rs#jsr311-api;1.1.1 in central\n",
      "\tfound com.sun.jersey#jersey-client;1.19 in central\n",
      "\tfound com.fasterxml.jackson.module#jackson-module-jaxb-annotations;2.9.10 in central\n",
      "\tfound com.fasterxml.jackson.jaxrs#jackson-jaxrs-json-provider;2.9.10 in central\n",
      "\tfound com.fasterxml.jackson.jaxrs#jackson-jaxrs-base;2.9.10 in central\n",
      "\tfound org.apache.hadoop#hadoop-mapreduce-client-jobclient;3.2.2 in central\n",
      "\tfound org.apache.hadoop#hadoop-mapreduce-client-common;3.2.2 in central\n",
      "\tfound org.apache.hadoop#hadoop-client-runtime;3.2.2 in central\n",
      "\tfound org.apache.hadoop#hadoop-client-api;3.2.2 in central\n",
      ":: resolution report :: resolve 1062ms :: artifacts dl 79ms\n",
      "\t:: modules in use:\n",
      "\tcom.amazonaws#aws-java-sdk-bundle;1.11.563 from central in [default]\n",
      "\tcom.fasterxml.jackson.core#jackson-annotations;2.10.5 from central in [default]\n",
      "\tcom.fasterxml.jackson.core#jackson-core;2.12.3 from central in [default]\n",
      "\tcom.fasterxml.jackson.core#jackson-databind;2.10.5.1 from central in [default]\n",
      "\tcom.fasterxml.jackson.dataformat#jackson-dataformat-yaml;2.10.5 from central in [default]\n",
      "\tcom.fasterxml.jackson.jaxrs#jackson-jaxrs-base;2.9.10 from central in [default]\n",
      "\tcom.fasterxml.jackson.jaxrs#jackson-jaxrs-json-provider;2.9.10 from central in [default]\n",
      "\tcom.fasterxml.jackson.module#jackson-module-jaxb-annotations;2.9.10 from central in [default]\n",
      "\tcom.fasterxml.woodstox#woodstox-core;5.0.3 from central in [default]\n",
      "\tcom.github.luben#zstd-jni;1.5.6-3 from central in [default]\n",
      "\tcom.github.stephenc.jcip#jcip-annotations;1.0-1 from local-m2-cache in [default]\n",
      "\tcom.google.code.findbugs#jsr305;3.0.2 from central in [default]\n",
      "\tcom.google.code.gson#gson;2.2.4 from central in [default]\n",
      "\tcom.google.errorprone#error_prone_annotations;2.5.1 from central in [default]\n",
      "\tcom.google.guava#failureaccess;1.0.1 from central in [default]\n",
      "\tcom.google.guava#guava;30.1.1-jre from central in [default]\n",
      "\tcom.google.guava#listenablefuture;9999.0-empty-to-avoid-conflict-with-guava from central in [default]\n",
      "\tcom.google.j2objc#j2objc-annotations;1.3 from central in [default]\n",
      "\tcom.google.protobuf#protobuf-java;2.5.0 from central in [default]\n",
      "\tcom.google.re2j#re2j;1.1 from central in [default]\n",
      "\tcom.lihaoyi#geny_2.12;0.7.1 from central in [default]\n",
      "\tcom.lihaoyi#os-lib_2.12;0.8.1 from central in [default]\n",
      "\tcom.nimbusds#nimbus-jose-jwt;7.9 from central in [default]\n",
      "\tcom.squareup.okhttp#okhttp;2.7.5 from central in [default]\n",
      "\tcom.squareup.okio#okio;1.6.0 from central in [default]\n",
      "\tcom.sun.jersey#jersey-client;1.19 from central in [default]\n",
      "\tcom.sun.jersey#jersey-core;1.19 from central in [default]\n",
      "\tcom.sun.jersey#jersey-servlet;1.19 from central in [default]\n",
      "\tcommons-beanutils#commons-beanutils;1.9.4 from local-m2-cache in [default]\n",
      "\tcommons-cli#commons-cli;1.2 from local-m2-cache in [default]\n",
      "\tcommons-codec#commons-codec;1.11 from local-m2-cache in [default]\n",
      "\tcommons-collections#commons-collections;3.2.2 from local-m2-cache in [default]\n",
      "\tcommons-io#commons-io;2.5 from local-m2-cache in [default]\n",
      "\tcommons-logging#commons-logging;1.1.3 from central in [default]\n",
      "\tcommons-net#commons-net;3.6 from central in [default]\n",
      "\tdnsjava#dnsjava;2.1.7 from central in [default]\n",
      "\tio.confluent#common-utils;6.2.1 from spark-list in [default]\n",
      "\tio.confluent#kafka-avro-serializer;6.2.1 from spark-list in [default]\n",
      "\tio.confluent#kafka-schema-registry-client;6.2.1 from spark-list in [default]\n",
      "\tio.confluent#kafka-schema-serializer;6.2.1 from spark-list in [default]\n",
      "\tio.delta#delta-spark_2.12;3.2.1 from central in [default]\n",
      "\tio.delta#delta-storage;3.2.1 from central in [default]\n",
      "\tio.swagger#swagger-annotations;1.6.2 from central in [default]\n",
      "\tio.swagger#swagger-core;1.6.2 from central in [default]\n",
      "\tio.swagger#swagger-models;1.6.2 from spark-list in [default]\n",
      "\tjakarta.annotation#jakarta.annotation-api;1.3.5 from central in [default]\n",
      "\tjakarta.ws.rs#jakarta.ws.rs-api;2.1.6 from central in [default]\n",
      "\tjavax.activation#javax.activation-api;1.2.0 from local-m2-cache in [default]\n",
      "\tjavax.servlet#javax.servlet-api;3.1.0 from local-m2-cache in [default]\n",
      "\tjavax.servlet.jsp#jsp-api;2.1 from central in [default]\n",
      "\tjavax.ws.rs#jsr311-api;1.1.1 from central in [default]\n",
      "\tjavax.xml.bind#jaxb-api;2.2.11 from central in [default]\n",
      "\tlog4j#log4j;1.2.17 from central in [default]\n",
      "\tnet.minidev#accessors-smart;1.2 from local-m2-cache in [default]\n",
      "\tnet.minidev#json-smart;2.3 from local-m2-cache in [default]\n",
      "\torg.antlr#antlr4-runtime;4.9.3 from central in [default]\n",
      "\torg.apache.avro#avro;1.10.2 from central in [default]\n",
      "\torg.apache.commons#commons-compress;1.21 from central in [default]\n",
      "\torg.apache.commons#commons-configuration2;2.1.1 from central in [default]\n",
      "\torg.apache.commons#commons-lang3;3.7 from local-m2-cache in [default]\n",
      "\torg.apache.commons#commons-math3;3.1.1 from central in [default]\n",
      "\torg.apache.commons#commons-text;1.4 from central in [default]\n",
      "\torg.apache.curator#curator-client;2.13.0 from central in [default]\n",
      "\torg.apache.curator#curator-framework;2.13.0 from central in [default]\n",
      "\torg.apache.curator#curator-recipes;2.13.0 from central in [default]\n",
      "\torg.apache.hadoop#hadoop-annotations;3.2.2 from central in [default]\n",
      "\torg.apache.hadoop#hadoop-auth;3.2.2 from central in [default]\n",
      "\torg.apache.hadoop#hadoop-aws;3.2.2 from central in [default]\n",
      "\torg.apache.hadoop#hadoop-client;3.2.2 from central in [default]\n",
      "\torg.apache.hadoop#hadoop-client-api;3.2.2 from central in [default]\n",
      "\torg.apache.hadoop#hadoop-client-runtime;3.2.2 from central in [default]\n",
      "\torg.apache.hadoop#hadoop-common;3.2.2 from central in [default]\n",
      "\torg.apache.hadoop#hadoop-hdfs-client;3.2.2 from central in [default]\n",
      "\torg.apache.hadoop#hadoop-mapreduce-client-common;3.2.2 from central in [default]\n",
      "\torg.apache.hadoop#hadoop-mapreduce-client-core;3.2.2 from central in [default]\n",
      "\torg.apache.hadoop#hadoop-mapreduce-client-jobclient;3.2.2 from central in [default]\n",
      "\torg.apache.hadoop#hadoop-yarn-api;3.2.2 from central in [default]\n",
      "\torg.apache.hadoop#hadoop-yarn-client;3.2.2 from central in [default]\n",
      "\torg.apache.hadoop#hadoop-yarn-common;3.2.2 from central in [default]\n",
      "\torg.apache.htrace#htrace-core4;4.1.0-incubating from central in [default]\n",
      "\torg.apache.httpcomponents#httpclient;4.5.13 from local-m2-cache in [default]\n",
      "\torg.apache.httpcomponents#httpcore;4.4.13 from local-m2-cache in [default]\n",
      "\torg.apache.iceberg#iceberg-aws-bundle;1.6.1 from central in [default]\n",
      "\torg.apache.kafka#kafka-clients;3.8.0 from central in [default]\n",
      "\torg.apache.kerby#kerb-admin;1.0.1 from central in [default]\n",
      "\torg.apache.kerby#kerb-client;1.0.1 from central in [default]\n",
      "\torg.apache.kerby#kerb-common;1.0.1 from central in [default]\n",
      "\torg.apache.kerby#kerb-core;1.0.1 from central in [default]\n",
      "\torg.apache.kerby#kerb-crypto;1.0.1 from central in [default]\n",
      "\torg.apache.kerby#kerb-identity;1.0.1 from central in [default]\n",
      "\torg.apache.kerby#kerb-server;1.0.1 from central in [default]\n",
      "\torg.apache.kerby#kerb-simplekdc;1.0.1 from central in [default]\n",
      "\torg.apache.kerby#kerb-util;1.0.1 from central in [default]\n",
      "\torg.apache.kerby#kerby-asn1;1.0.1 from central in [default]\n",
      "\torg.apache.kerby#kerby-config;1.0.1 from central in [default]\n",
      "\torg.apache.kerby#kerby-pkix;1.0.1 from central in [default]\n",
      "\torg.apache.kerby#kerby-util;1.0.1 from central in [default]\n",
      "\torg.apache.kerby#kerby-xdr;1.0.1 from central in [default]\n",
      "\torg.apache.kerby#token-provider;1.0.1 from central in [default]\n",
      "\torg.apache.spark#spark-avro_2.12;3.5.3 from central in [default]\n",
      "\torg.checkerframework#checker-qual;3.8.0 from central in [default]\n",
      "\torg.codehaus.woodstox#stax2-api;3.1.4 from central in [default]\n",
      "\torg.eclipse.jetty#jetty-security;9.4.20.v20190813 from central in [default]\n",
      "\torg.eclipse.jetty#jetty-servlet;9.4.20.v20190813 from central in [default]\n",
      "\torg.eclipse.jetty#jetty-util;9.4.20.v20190813 from central in [default]\n",
      "\torg.eclipse.jetty#jetty-webapp;9.4.20.v20190813 from central in [default]\n",
      "\torg.eclipse.jetty#jetty-xml;9.4.20.v20190813 from central in [default]\n",
      "\torg.glassfish.hk2#osgi-resource-locator;1.0.3 from central in [default]\n",
      "\torg.glassfish.hk2.external#jakarta.inject;2.6.1 from central in [default]\n",
      "\torg.glassfish.jersey.core#jersey-common;2.34 from central in [default]\n",
      "\torg.lz4#lz4-java;1.8.0 from local-m2-cache in [default]\n",
      "\torg.ow2.asm#asm;5.0.4 from local-m2-cache in [default]\n",
      "\torg.slf4j#slf4j-api;1.7.36 from local-m2-cache in [default]\n",
      "\torg.tukaani#xz;1.9 from local-m2-cache in [default]\n",
      "\torg.xerial.snappy#snappy-java;1.1.10.5 from central in [default]\n",
      "\torg.yaml#snakeyaml;1.26 from central in [default]\n",
      "\tza.co.absa#abris_2.12;6.4.0 from central in [default]\n",
      "\tza.co.absa.commons#commons_2.12;1.0.0 from central in [default]\n",
      "\t:: evicted modules:\n",
      "\torg.apache.spark#spark-avro_2.12;3.2.4 by [org.apache.spark#spark-avro_2.12;3.5.3] in [default]\n",
      "\torg.slf4j#slf4j-api;1.7.30 by [org.slf4j#slf4j-api;1.7.36] in [default]\n",
      "\torg.apache.commons#commons-lang3;3.2.1 by [org.apache.commons#commons-lang3;3.7] in [default]\n",
      "\tcom.google.guava#guava;27.0-jre by [com.google.guava#guava;30.1.1-jre] in [default]\n",
      "\torg.slf4j#slf4j-api;1.7.25 by [org.slf4j#slf4j-api;1.7.36] in [default]\n",
      "\torg.apache.avro#avro;1.7.7 by [org.apache.avro#avro;1.10.2] in [default]\n",
      "\torg.apache.commons#commons-compress;1.19 by [org.apache.commons#commons-compress;1.21] in [default]\n",
      "\tcom.fasterxml.jackson.core#jackson-databind;2.9.10.4 by [com.fasterxml.jackson.core#jackson-databind;2.10.5.1] in [default]\n",
      "\tcom.fasterxml.jackson.core#jackson-annotations;2.9.10 by [com.fasterxml.jackson.core#jackson-annotations;2.10.5] in [default]\n",
      "\tcom.fasterxml.jackson.core#jackson-core;2.9.10 by [com.fasterxml.jackson.core#jackson-core;2.12.3] in [default]\n",
      "\t---------------------------------------------------------------------\n",
      "\t|                  |            modules            ||   artifacts   |\n",
      "\t|       conf       | number| search|dwnlded|evicted|| number|dwnlded|\n",
      "\t---------------------------------------------------------------------\n",
      "\t|      default     |  128  |   0   |   0   |   10  ||  118  |   0   |\n",
      "\t---------------------------------------------------------------------\n",
      ":: retrieving :: org.apache.spark#spark-submit-parent-4584ca95-6d50-4e26-8bd8-6181bd36ca6d\n",
      "\tconfs: [default]\n",
      "\t0 artifacts copied, 118 already retrieved (0kB/28ms)\n",
      "24/12/30 16:57:18 WARN NativeCodeLoader: Unable to load native-hadoop library for your platform... using builtin-java classes where applicable\n",
      "Setting default log level to \"WARN\".\n",
      "To adjust logging level use sc.setLogLevel(newLevel). For SparkR, use setLogLevel(newLevel).\n"
     ]
    }
   ],
   "source": [
    "spark = (\n",
    "        SparkSession.builder.master(\"local\")\n",
    "        # workaround to avoid snappy library issue\n",
    "        .config(\"spark.sql.parquet.compression.codec\", \"uncompressed\")\n",
    "        .config(\"spark.master\", \"local\")\n",
    "        .config(\"spark.driver.memory\", \"1G\")\n",
    "        # make spark-warehouse temporary\n",
    "        .config(\"spark.sql.warehouse.dir\", spark_warehouse_dir)\n",
    "        # make metastore temporary\n",
    "        .config(\n",
    "            \"spark.driver.extraJavaOptions\", \"-Dderby.system.home={}\".format(meta_dir)\n",
    "        )\n",
    "        .config(\n",
    "            \"spark.jars.repositories\",\n",
    "            \"http://packages.confluent.io/maven/,https://repo1.maven.org/maven2/\",\n",
    "        )\n",
    "        .config(\"spark.jars\", \",\".join(external_libs_jars))\n",
    "        .config(\n",
    "            \"spark.jars.packages\",\n",
    "            \"org.apache.spark:spark-avro_2.12:3.5.3,za.co.absa:abris_2.12:6.4.0,com.lihaoyi:os-lib_2.12:0.8.1,org.apache.kafka:kafka-clients:3.8.0,io.delta:delta-spark_2.12:3.2.1,org.apache.iceberg:iceberg-aws-bundle:1.6.1,org.apache.hadoop:hadoop-aws:3.2.2,org.apache.hadoop:hadoop-client:3.2.2,org.apache.hadoop:hadoop-client-runtime:3.2.2\",\n",
    "        )\n",
    "        .config('spark.hadoop.fs.s3a.aws.credentials.provider', 'org.apache.hadoop.fs.s3a.SimpleAWSCredentialsProvider')\n",
    "        .config(\"spark.hadoop.fs.s3a.endpoint\", \"http://localhost:9050\")\n",
    "        .config(\"spark.hadoop.fs.s3a.access.key\", \"admin\")\n",
    "        .config(\"spark.hadoop.fs.s3a.secret.key\", \"mta@fabric\")\n",
    "        .config(\"spark.hadoop.fs.s3a.path.style.access\", \"true\") \n",
    "        .config(\"spark.hadoop.fs.s3a.impl\", \"org.apache.hadoop.fs.s3a.S3AFileSystem\")\n",
    "        .config(\"spark.ui.port\",\"4050\")\n",
    "        .config(\"spark.sql.extensions\", \"io.delta.sql.DeltaSparkSessionExtension\")\n",
    "        .config(\"spark.sql.catalog.spark_catalog\", \"org.apache.spark.sql.delta.catalog.DeltaCatalog\")\n",
    "        .appName(\"seeknal-test\")\n",
    "        .enableHiveSupport()\n",
    "        .getOrCreate()\n",
    "    )"
   ]
  },
  {
   "cell_type": "code",
   "execution_count": 4,
   "metadata": {},
   "outputs": [],
   "source": [
    "from datetime import datetime, timedelta\n",
    "\n",
    "from seeknal.entity import Entity\n",
    "from seeknal.featurestore.feature_group import (\n",
    "    FeatureGroup,\n",
    "    Materialization,\n",
    "    OfflineMaterialization,\n",
    "    OfflineStore,\n",
    "    OfflineStoreEnum,\n",
    "    FeatureStoreFileOutput,\n",
    "    OnlineStore,\n",
    "    OnlineStoreEnum,\n",
    "    HistoricalFeatures,\n",
    "    FeatureLookup,\n",
    "    FillNull,\n",
    "    GetLatestTimeStrategy,\n",
    "    OnlineFeatures,\n",
    ")\n",
    "\n",
    "from seeknal.flow import *\n",
    "from seeknal.featurestore.featurestore import Feature\n",
    "from seeknal.common_artifact import Source, Rule, Common, Dataset\n",
    "from seeknal.project import Project\n",
    "from seeknal.workspace import Workspace\n",
    "from seeknal.tasks.sparkengine import aggregators as G\n",
    "from seeknal.tasks.sparkengine import transformers as T\n",
    "from seeknal.tasks.sparkengine.transformers.spark_engine_transformers import (\n",
    "    JoinTablesByExpr,\n",
    "    JoinType,\n",
    "    TableJoinDef,\n",
    ")\n",
    "from pyspark import SparkContext\n",
    "from pyspark.sql import DataFrame\n",
    "import pandas as pd"
   ]
  },
  {
   "cell_type": "code",
   "execution_count": 5,
   "metadata": {},
   "outputs": [],
   "source": [
    "from datetime import datetime, timedelta\n",
    "\n",
    "from src.seeknal.entity import Entity\n",
    "from src.seeknal.featurestore.feature_group import (\n",
    "    FeatureGroup,\n",
    "    Materialization,\n",
    "    OfflineMaterialization,\n",
    "    OfflineStore,\n",
    "    OfflineStoreEnum,\n",
    "    FeatureStoreFileOutput,\n",
    "    OnlineStore,\n",
    "    OnlineStoreEnum,\n",
    "    HistoricalFeatures,\n",
    "    FeatureLookup,\n",
    "    FillNull,\n",
    "    GetLatestTimeStrategy,\n",
    "    OnlineFeatures,\n",
    ")\n",
    "\n",
    "from src.seeknal.flow import *\n",
    "from src.seeknal.featurestore.featurestore import Feature\n",
    "from src.seeknal.common_artifact import Source, Rule, Common, Dataset\n",
    "from src.seeknal.project import Project\n",
    "from src.seeknal.workspace import Workspace\n",
    "from src.seeknal.tasks.sparkengine import aggregators as G\n",
    "from src.seeknal.tasks.sparkengine import transformers as T\n",
    "from src.seeknal.tasks.sparkengine.transformers.spark_engine_transformers import (\n",
    "    JoinTablesByExpr,\n",
    "    JoinType,\n",
    "    TableJoinDef,\n",
    ")\n",
    "from pyspark import SparkContext\n",
    "from pyspark.sql import DataFrame\n",
    "import pandas as pd"
   ]
  },
  {
   "cell_type": "code",
   "execution_count": null,
   "metadata": {},
   "outputs": [],
   "source": []
  },
  {
   "cell_type": "markdown",
   "metadata": {},
   "source": [
    "# 1. Project and Workspace\n",
    "\n",
    "To start working with seeknal, we need to set up a project and a workspace."
   ]
  },
  {
   "cell_type": "code",
   "execution_count": 6,
   "metadata": {},
   "outputs": [
    {
     "data": {
      "text/plain": [
       "Project(name='test_project', description='test project')"
      ]
     },
     "execution_count": 6,
     "metadata": {},
     "output_type": "execute_result"
    }
   ],
   "source": [
    "project = Project(name=\"test_project\", description=\"test project\")\n",
    "# attach project\n",
    "project.get_or_create()"
   ]
  },
  {
   "cell_type": "code",
   "execution_count": 5,
   "metadata": {},
   "outputs": [
    {
     "data": {
      "text/plain": [
       "Config({'SEEKNAL_USERNAME': 'fitra'})"
      ]
     },
     "execution_count": 5,
     "metadata": {},
     "output_type": "execute_result"
    }
   ],
   "source": [
    "from seeknal.context import context\n",
    "\n",
    "context.secrets "
   ]
  },
  {
   "cell_type": "code",
   "execution_count": 8,
   "metadata": {},
   "outputs": [
    {
     "data": {
      "text/plain": [
       "Workspace(name='fitra', description='', private=False)"
      ]
     },
     "execution_count": 8,
     "metadata": {},
     "output_type": "execute_result"
    }
   ],
   "source": [
    "# you can create different workspace under a project.\n",
    "# in default, workspace is created under your account name.\n",
    "Workspace()"
   ]
  },
  {
   "cell_type": "code",
   "execution_count": 7,
   "metadata": {},
   "outputs": [
    {
     "data": {
      "text/plain": [
       "WorkspaceTable(private=False, project_id=1, name='test_workspace', default_output_db=None, online_store_id=None, updated_at=datetime.datetime(2024, 12, 28, 21, 29, 54, 631670), description='test workspace', id=1, default_input_db=None, offline_store_id=None, created_at=datetime.datetime(2024, 12, 28, 21, 29, 54, 631423))"
      ]
     },
     "execution_count": 7,
     "metadata": {},
     "output_type": "execute_result"
    }
   ],
   "source": [
    "# create or use a workspace\n",
    "Workspace(name=\"test_workspace\", description=\"test workspace\").get_or_create()\n",
    "\n",
    "# check which workspace is active\n",
    "Workspace.current()"
   ]
  },
  {
   "cell_type": "markdown",
   "metadata": {},
   "source": [
    "## 1.2 Add Common Articfacts "
   ]
  },
  {
   "cell_type": "code",
   "execution_count": 10,
   "metadata": {},
   "outputs": [
    {
     "name": "stdout",
     "output_type": "stream",
     "text": [
      "[2024-12-30 16:53:42+0700] WARNING - seeknal | Using an existing Source.\n",
      "[2024-12-30 16:53:42+0700] WARNING - seeknal | Using an existing Source.\n",
      "| name         | description   | details                                                  | entity     |\n",
      "|--------------|---------------|----------------------------------------------------------|------------|\n",
      "| my_user_stay | user stay     | {'table': 'user_stay', 'params': {'dateCol': 'date_id'}} | subscriber |\n",
      "| my_test_df   | just a dummy  | {'table': 'test_df', 'params': {'dateCol': 'date_id'}}   |            |\n"
     ]
    }
   ],
   "source": [
    "# Add source\n",
    "entity = Entity(name=\"subscriber\", join_keys=[\"msisdn\"])\n",
    "entity.get_or_create()\n",
    "source = Source(\n",
    "    \"my_user_stay\",\n",
    "    Dataset(table=\"user_stay\", params={\"dateCol\": \"date_id\"}),\n",
    "    description=\"user stay\",\n",
    "    entity=entity,\n",
    ")\n",
    "source.get_or_create()\n",
    "Source.list()"
   ]
  },
  {
   "cell_type": "code",
   "execution_count": 11,
   "metadata": {},
   "outputs": [
    {
     "name": "stdout",
     "output_type": "stream",
     "text": [
      "[2024-12-30 16:53:44+0700] WARNING - seeknal | Using an existing Rule.\n",
      "[2024-12-30 16:53:44+0700] WARNING - seeknal | Using an existing Rule.\n",
      "| name   | value          | description   |\n",
      "|--------|----------------|---------------|\n",
      "| foo    | bar            | foo bar       |\n",
      "| blah   | ['foo', 'bar'] |               |\n"
     ]
    }
   ],
   "source": [
    "# Add rule\n",
    "Rule(name=\"foo\", value=\"bar\", description=\"foo bar\").get_or_create()\n",
    "Rule.list()"
   ]
  },
  {
   "cell_type": "code",
   "execution_count": 12,
   "metadata": {},
   "outputs": [
    {
     "name": "stdout",
     "output_type": "stream",
     "text": [
      "[2024-12-30 16:53:46+0700] WARNING - seeknal | Using an existing Rule.\n",
      "[2024-12-30 16:53:46+0700] WARNING - seeknal | Using an existing Rule.\n",
      "[2024-12-30 16:53:46+0700] WARNING - seeknal | Using an existing Rule.\n",
      "[2024-12-30 16:53:46+0700] WARNING - seeknal | Using an existing Rule.\n",
      "[2024-12-30 16:53:46+0700] WARNING - seeknal | Using an existing Source.\n",
      "[2024-12-30 16:53:46+0700] WARNING - seeknal | Using an existing Source.\n",
      "rules:\n",
      "- id: foo\n",
      "  rule:\n",
      "    value: bar\n",
      "- id: blah\n",
      "  rule:\n",
      "    value:\n",
      "    - foo\n",
      "    - bar\n",
      "sources:\n",
      "- id: my_user_stay\n",
      "  params:\n",
      "    dateCol: date_id\n",
      "  table: user_stay\n",
      "- id: my_test_df\n",
      "  params:\n",
      "    dateCol: date_id\n",
      "  table: test_df\n",
      "\n"
     ]
    }
   ],
   "source": [
    "# get common yaml\n",
    "\n",
    "Rule(name=\"foo\", value=\"bar\", description=\"foo bar\").get_or_create()\n",
    "Rule(name=\"blah\", value=[\"foo\", \"bar\"]).get_or_create()\n",
    "Source(\n",
    "    \"my_user_stay\",\n",
    "    Dataset(hive_table=\"user_stay\", params={\"dateCol\": \"date_id\"}),\n",
    "    description=\"user stay\",\n",
    ").get_or_create()\n",
    "print(Common.as_yaml())"
   ]
  },
  {
   "cell_type": "markdown",
   "metadata": {},
   "source": [
    "# 2. Tasks\n",
    "\n",
    "DS2 build rich tasks that can be used to automate the process of data science."
   ]
  },
  {
   "cell_type": "markdown",
   "metadata": {},
   "source": [
    "## 2.1 Feature Engine Task"
   ]
  },
  {
   "cell_type": "code",
   "execution_count": 13,
   "metadata": {},
   "outputs": [
    {
     "name": "stderr",
     "output_type": "stream",
     "text": [
      "24/12/30 16:53:51 WARN HiveConf: HiveConf of name hive.stats.jdbc.timeout does not exist\n",
      "24/12/30 16:53:51 WARN HiveConf: HiveConf of name hive.stats.retries.wait does not exist\n",
      "24/12/30 16:53:52 WARN ObjectStore: Version information not found in metastore. hive.metastore.schema.verification is not enabled so recording the schema version 2.3.0\n",
      "24/12/30 16:53:52 WARN ObjectStore: setMetaStoreSchemaVersion called but recording version is disabled: version = 2.3.0, comment = Set by MetaStore fitrakacamarga@192.168.50.152\n"
     ]
    },
    {
     "ename": "AnalysisException",
     "evalue": "[TABLE_OR_VIEW_ALREADY_EXISTS] Cannot create table or view `spark_catalog`.`default`.`test_df` because it already exists.\nChoose a different name, drop or replace the existing object, or add the IF NOT EXISTS clause to tolerate pre-existing objects.",
     "output_type": "error",
     "traceback": [
      "\u001b[0;31m---------------------------------------------------------------------------\u001b[0m",
      "\u001b[0;31mAnalysisException\u001b[0m                         Traceback (most recent call last)",
      "Cell \u001b[0;32mIn[13], line 20\u001b[0m\n\u001b[1;32m      2\u001b[0m vals \u001b[38;5;241m=\u001b[39m [\n\u001b[1;32m      3\u001b[0m     (\u001b[38;5;124m\"\u001b[39m\u001b[38;5;124m20190620\u001b[39m\u001b[38;5;124m\"\u001b[39m, \u001b[38;5;241m1.0\u001b[39m, \u001b[38;5;241m1.0\u001b[39m, \u001b[38;5;124m\"\u001b[39m\u001b[38;5;124m1\u001b[39m\u001b[38;5;124m\"\u001b[39m),\n\u001b[1;32m      4\u001b[0m     (\u001b[38;5;124m\"\u001b[39m\u001b[38;5;124m20190610\u001b[39m\u001b[38;5;124m\"\u001b[39m, \u001b[38;5;241m-\u001b[39m\u001b[38;5;241m1.0\u001b[39m, \u001b[38;5;241m-\u001b[39m\u001b[38;5;241m1.0\u001b[39m, \u001b[38;5;124m\"\u001b[39m\u001b[38;5;124m1\u001b[39m\u001b[38;5;124m\"\u001b[39m),\n\u001b[0;32m   (...)\u001b[0m\n\u001b[1;32m     16\u001b[0m     (\u001b[38;5;124m\"\u001b[39m\u001b[38;5;124m20190501\u001b[39m\u001b[38;5;124m\"\u001b[39m, \u001b[38;5;241m2.1\u001b[39m, \u001b[38;5;241m2.1\u001b[39m, \u001b[38;5;124m\"\u001b[39m\u001b[38;5;124m2\u001b[39m\u001b[38;5;124m\"\u001b[39m),\n\u001b[1;32m     17\u001b[0m ]\n\u001b[1;32m     19\u001b[0m daily_features_1 \u001b[38;5;241m=\u001b[39m spark\u001b[38;5;241m.\u001b[39mcreateDataFrame(vals, columns)\n\u001b[0;32m---> 20\u001b[0m \u001b[43mdaily_features_1\u001b[49m\u001b[38;5;241;43m.\u001b[39;49m\u001b[43mwrite\u001b[49m\u001b[38;5;241;43m.\u001b[39;49m\u001b[43msaveAsTable\u001b[49m\u001b[43m(\u001b[49m\u001b[38;5;124;43m\"\u001b[39;49m\u001b[38;5;124;43mtest_df\u001b[39;49m\u001b[38;5;124;43m\"\u001b[39;49m\u001b[43m)\u001b[49m\n",
      "File \u001b[0;32m~/.sdkman/candidates/spark/current/python/pyspark/sql/readwriter.py:1586\u001b[0m, in \u001b[0;36mDataFrameWriter.saveAsTable\u001b[0;34m(self, name, format, mode, partitionBy, **options)\u001b[0m\n\u001b[1;32m   1584\u001b[0m \u001b[38;5;28;01mif\u001b[39;00m \u001b[38;5;28mformat\u001b[39m \u001b[38;5;129;01mis\u001b[39;00m \u001b[38;5;129;01mnot\u001b[39;00m \u001b[38;5;28;01mNone\u001b[39;00m:\n\u001b[1;32m   1585\u001b[0m     \u001b[38;5;28mself\u001b[39m\u001b[38;5;241m.\u001b[39mformat(\u001b[38;5;28mformat\u001b[39m)\n\u001b[0;32m-> 1586\u001b[0m \u001b[38;5;28;43mself\u001b[39;49m\u001b[38;5;241;43m.\u001b[39;49m\u001b[43m_jwrite\u001b[49m\u001b[38;5;241;43m.\u001b[39;49m\u001b[43msaveAsTable\u001b[49m\u001b[43m(\u001b[49m\u001b[43mname\u001b[49m\u001b[43m)\u001b[49m\n",
      "File \u001b[0;32m~/.sdkman/candidates/spark/current/python/lib/py4j-0.10.9.7-src.zip/py4j/java_gateway.py:1322\u001b[0m, in \u001b[0;36mJavaMember.__call__\u001b[0;34m(self, *args)\u001b[0m\n\u001b[1;32m   1316\u001b[0m command \u001b[38;5;241m=\u001b[39m proto\u001b[38;5;241m.\u001b[39mCALL_COMMAND_NAME \u001b[38;5;241m+\u001b[39m\\\n\u001b[1;32m   1317\u001b[0m     \u001b[38;5;28mself\u001b[39m\u001b[38;5;241m.\u001b[39mcommand_header \u001b[38;5;241m+\u001b[39m\\\n\u001b[1;32m   1318\u001b[0m     args_command \u001b[38;5;241m+\u001b[39m\\\n\u001b[1;32m   1319\u001b[0m     proto\u001b[38;5;241m.\u001b[39mEND_COMMAND_PART\n\u001b[1;32m   1321\u001b[0m answer \u001b[38;5;241m=\u001b[39m \u001b[38;5;28mself\u001b[39m\u001b[38;5;241m.\u001b[39mgateway_client\u001b[38;5;241m.\u001b[39msend_command(command)\n\u001b[0;32m-> 1322\u001b[0m return_value \u001b[38;5;241m=\u001b[39m \u001b[43mget_return_value\u001b[49m\u001b[43m(\u001b[49m\n\u001b[1;32m   1323\u001b[0m \u001b[43m    \u001b[49m\u001b[43manswer\u001b[49m\u001b[43m,\u001b[49m\u001b[43m \u001b[49m\u001b[38;5;28;43mself\u001b[39;49m\u001b[38;5;241;43m.\u001b[39;49m\u001b[43mgateway_client\u001b[49m\u001b[43m,\u001b[49m\u001b[43m \u001b[49m\u001b[38;5;28;43mself\u001b[39;49m\u001b[38;5;241;43m.\u001b[39;49m\u001b[43mtarget_id\u001b[49m\u001b[43m,\u001b[49m\u001b[43m \u001b[49m\u001b[38;5;28;43mself\u001b[39;49m\u001b[38;5;241;43m.\u001b[39;49m\u001b[43mname\u001b[49m\u001b[43m)\u001b[49m\n\u001b[1;32m   1325\u001b[0m \u001b[38;5;28;01mfor\u001b[39;00m temp_arg \u001b[38;5;129;01min\u001b[39;00m temp_args:\n\u001b[1;32m   1326\u001b[0m     \u001b[38;5;28;01mif\u001b[39;00m \u001b[38;5;28mhasattr\u001b[39m(temp_arg, \u001b[38;5;124m\"\u001b[39m\u001b[38;5;124m_detach\u001b[39m\u001b[38;5;124m\"\u001b[39m):\n",
      "File \u001b[0;32m~/.sdkman/candidates/spark/current/python/pyspark/errors/exceptions/captured.py:185\u001b[0m, in \u001b[0;36mcapture_sql_exception.<locals>.deco\u001b[0;34m(*a, **kw)\u001b[0m\n\u001b[1;32m    181\u001b[0m converted \u001b[38;5;241m=\u001b[39m convert_exception(e\u001b[38;5;241m.\u001b[39mjava_exception)\n\u001b[1;32m    182\u001b[0m \u001b[38;5;28;01mif\u001b[39;00m \u001b[38;5;129;01mnot\u001b[39;00m \u001b[38;5;28misinstance\u001b[39m(converted, UnknownException):\n\u001b[1;32m    183\u001b[0m     \u001b[38;5;66;03m# Hide where the exception came from that shows a non-Pythonic\u001b[39;00m\n\u001b[1;32m    184\u001b[0m     \u001b[38;5;66;03m# JVM exception message.\u001b[39;00m\n\u001b[0;32m--> 185\u001b[0m     \u001b[38;5;28;01mraise\u001b[39;00m converted \u001b[38;5;28;01mfrom\u001b[39;00m \u001b[38;5;28;01mNone\u001b[39;00m\n\u001b[1;32m    186\u001b[0m \u001b[38;5;28;01melse\u001b[39;00m:\n\u001b[1;32m    187\u001b[0m     \u001b[38;5;28;01mraise\u001b[39;00m\n",
      "\u001b[0;31mAnalysisException\u001b[0m: [TABLE_OR_VIEW_ALREADY_EXISTS] Cannot create table or view `spark_catalog`.`default`.`test_df` because it already exists.\nChoose a different name, drop or replace the existing object, or add the IF NOT EXISTS clause to tolerate pre-existing objects."
     ]
    }
   ],
   "source": [
    "columns = \"day:string, feature1:float, feature2:float, id:string\"\n",
    "vals = [\n",
    "    (\"20190620\", 1.0, 1.0, \"1\"),\n",
    "    (\"20190610\", -1.0, -1.0, \"1\"),\n",
    "    (\"20190602\", 50.0, 50.0, \"1\"),\n",
    "    (\"20190601\", 0.0, 0.0, \"1\"),\n",
    "    (\"20190520\", 22.2, 22.2, \"1\"),\n",
    "    (\"20190510\", 2.0, 2.0, \"1\"),\n",
    "    (\"20190501\", 2.1, 2.1, \"1\"),\n",
    "    (\"20190620\", 1.0, 1.0, \"2\"),\n",
    "    (\"20190710\", None, None, \"2\"),\n",
    "    (\"20190602\", 50.0, 50.0, \"2\"),\n",
    "    (\"20190601\", 0.0, 0.0, \"2\"),\n",
    "    (\"20190520\", 22.2, 22.2, \"2\"),\n",
    "    (\"20190510\", 2.0, 2.0, \"2\"),\n",
    "    (\"20190501\", 2.1, 2.1, \"2\"),\n",
    "]\n",
    "\n",
    "daily_features_1 = spark.createDataFrame(vals, columns)\n",
    "daily_features_1.write.saveAsTable(\"test_df\")"
   ]
  },
  {
   "cell_type": "code",
   "execution_count": 14,
   "metadata": {},
   "outputs": [
    {
     "name": "stderr",
     "output_type": "stream",
     "text": [
      "24/12/30 16:53:56 WARN SparkSession: Using an existing Spark session; only runtime SQL configurations will take effect.\n"
     ]
    },
    {
     "name": "stdout",
     "output_type": "stream",
     "text": [
      "+--------+--------+--------+--------+\n",
      "|     day|      id|feature1|feature2|\n",
      "+--------+--------+--------+--------+\n",
      "|20190620|1-append|     1.0|     1.0|\n",
      "|20190610|1-append|    -1.0|    -1.0|\n",
      "|20190602|1-append|    50.0|    50.0|\n",
      "|20190601|1-append|     0.0|     0.0|\n",
      "|20190520|1-append|    22.2|    22.2|\n",
      "|20190510|1-append|     2.0|     2.0|\n",
      "|20190501|1-append|     2.1|     2.1|\n",
      "|20190620|2-append|     1.0|     1.0|\n",
      "|20190710|2-append|    NULL|    NULL|\n",
      "|20190602|2-append|    50.0|    50.0|\n",
      "|20190601|2-append|     0.0|     0.0|\n",
      "|20190520|2-append|    22.2|    22.2|\n",
      "|20190510|2-append|     2.0|     2.0|\n",
      "|20190501|2-append|     2.1|     2.1|\n",
      "+--------+--------+--------+--------+\n",
      "\n"
     ]
    }
   ],
   "source": [
    "yaml_str = \"\"\"\n",
    "pipeline:\n",
    "  input:\n",
    "    table: {}\n",
    "  stages:\n",
    "    - className: tech.mta.seeknal.transformers.SQL\n",
    "      params:\n",
    "        statement: >-\n",
    "          SELECT day, CONCAT(id, \"-append\") as id, feature1, feature2 FROM __THIS__\n",
    "\"\"\".format(\n",
    "    \"test_df\"\n",
    ")\n",
    "\n",
    "res = SparkEngineTask().add_yaml(yaml_str).transform(spark)\n",
    "res.show()"
   ]
  },
  {
   "cell_type": "code",
   "execution_count": 8,
   "metadata": {},
   "outputs": [
    {
     "name": "stdout",
     "output_type": "stream",
     "text": [
      "[2024-12-29 08:09:05+0700] WARNING - seeknal | Using an existing Source.\n"
     ]
    },
    {
     "data": {
      "text/plain": [
       "Source(name='my_test_df', details=Dataset(id=None, table='test_df', source=None, params={'dateCol': 'date_id'}, repartition=None, limit=None, partitions=None, path=None, connId=None), description='just a dummy', entity=None)"
      ]
     },
     "execution_count": 8,
     "metadata": {},
     "output_type": "execute_result"
    }
   ],
   "source": [
    "Source(\n",
    "    \"my_test_df\",\n",
    "    Dataset(table=\"test_df\", params={\"dateCol\": \"date_id\"}),\n",
    "    description=\"just a dummy\",\n",
    ").get_or_create()"
   ]
  },
  {
   "cell_type": "code",
   "execution_count": 15,
   "metadata": {},
   "outputs": [
    {
     "name": "stdout",
     "output_type": "stream",
     "text": [
      "+--------+--------+--------+--------+\n",
      "|     day|      id|feature1|feature2|\n",
      "+--------+--------+--------+--------+\n",
      "|20190620|1-append|     1.0|     1.0|\n",
      "|20190610|1-append|    -1.0|    -1.0|\n",
      "|20190602|1-append|    50.0|    50.0|\n",
      "|20190601|1-append|     0.0|     0.0|\n",
      "|20190520|1-append|    22.2|    22.2|\n",
      "|20190510|1-append|     2.0|     2.0|\n",
      "|20190501|1-append|     2.1|     2.1|\n",
      "|20190620|2-append|     1.0|     1.0|\n",
      "|20190710|2-append|    NULL|    NULL|\n",
      "|20190602|2-append|    50.0|    50.0|\n",
      "|20190601|2-append|     0.0|     0.0|\n",
      "|20190520|2-append|    22.2|    22.2|\n",
      "|20190510|2-append|     2.0|     2.0|\n",
      "|20190501|2-append|     2.1|     2.1|\n",
      "+--------+--------+--------+--------+\n",
      "\n"
     ]
    }
   ],
   "source": [
    "# transform data with common yaml\n",
    "yaml_str = \"\"\"\n",
    "    pipeline:\n",
    "      input:\n",
    "        id: my_test_df\n",
    "      stages:\n",
    "        - className: tech.mta.seeknal.transformers.SQL\n",
    "          params:\n",
    "            statement: >-\n",
    "              SELECT day, CONCAT(id, \"-append\") as id, feature1, feature2 FROM __THIS__\n",
    "    \"\"\"\n",
    "\n",
    "res = (\n",
    "        SparkEngineTask()\n",
    "        .add_common_yaml(Common.as_yaml())\n",
    "        .add_yaml(yaml_str)\n",
    "        .transform(spark)\n",
    "    )\n",
    "res.show()\n"
   ]
  },
  {
   "cell_type": "code",
   "execution_count": 16,
   "metadata": {},
   "outputs": [
    {
     "name": "stdout",
     "output_type": "stream",
     "text": [
      "+--------+--------+--------+--------+\n",
      "|     day|      id|feature1|feature2|\n",
      "+--------+--------+--------+--------+\n",
      "|20190620|1-append|     1.0|     1.0|\n",
      "|20190610|1-append|    -1.0|    -1.0|\n",
      "|20190602|1-append|    50.0|    50.0|\n",
      "|20190601|1-append|     0.0|     0.0|\n",
      "|20190520|1-append|    22.2|    22.2|\n",
      "|20190510|1-append|     2.0|     2.0|\n",
      "|20190501|1-append|     2.1|     2.1|\n",
      "|20190620|2-append|     1.0|     1.0|\n",
      "|20190710|2-append|    NULL|    NULL|\n",
      "|20190602|2-append|    50.0|    50.0|\n",
      "|20190601|2-append|     0.0|     0.0|\n",
      "|20190520|2-append|    22.2|    22.2|\n",
      "|20190510|2-append|     2.0|     2.0|\n",
      "|20190501|2-append|     2.1|     2.1|\n",
      "+--------+--------+--------+--------+\n",
      "\n"
     ]
    }
   ],
   "source": [
    "df = spark.table(\"test_df\")\n",
    "yaml_str = \"\"\"\n",
    "pipeline:\n",
    "  stages:\n",
    "    - className: tech.mta.seeknal.transformers.SQL\n",
    "      params:\n",
    "        statement: >-\n",
    "          SELECT day, CONCAT(id, \"-append\") as id, feature1, feature2 FROM __THIS__\n",
    "\"\"\"\n",
    "res = (\n",
    "    SparkEngineTask().add_yaml(yaml_str).add_input(dataframe=df).transform(spark)\n",
    ")\n",
    "res.show()"
   ]
  },
  {
   "cell_type": "code",
   "execution_count": 17,
   "metadata": {},
   "outputs": [
    {
     "name": "stdout",
     "output_type": "stream",
     "text": [
      "+--------+--------+--------+--------+----------+\n",
      "|     day|      id|feature1|feature2|  new_date|\n",
      "+--------+--------+--------+--------+----------+\n",
      "|20190620|1-append|     1.0|     1.0|2019-06-20|\n",
      "|20190610|1-append|    -1.0|    -1.0|2019-06-10|\n",
      "|20190602|1-append|    50.0|    50.0|2019-06-02|\n",
      "|20190601|1-append|     0.0|     0.0|2019-06-01|\n",
      "|20190520|1-append|    22.2|    22.2|2019-05-20|\n",
      "|20190510|1-append|     2.0|     2.0|2019-05-10|\n",
      "|20190501|1-append|     2.1|     2.1|2019-05-01|\n",
      "|20190620|2-append|     1.0|     1.0|2019-06-20|\n",
      "|20190710|2-append|    NULL|    NULL|2019-07-10|\n",
      "|20190602|2-append|    50.0|    50.0|2019-06-02|\n",
      "|20190601|2-append|     0.0|     0.0|2019-06-01|\n",
      "|20190520|2-append|    22.2|    22.2|2019-05-20|\n",
      "|20190510|2-append|     2.0|     2.0|2019-05-10|\n",
      "|20190501|2-append|     2.1|     2.1|2019-05-01|\n",
      "+--------+--------+--------+--------+----------+\n",
      "\n"
     ]
    }
   ],
   "source": [
    "format_date = T.Transformer(\n",
    "    T.ClassName.ADD_DATE,\n",
    "    inputCol=\"day\",\n",
    "    outputCol=\"new_date\",\n",
    "    inputDateFormat=\"yyyyMMdd\",\n",
    "    outputDateFormat=\"yyyy-MM-dd\",\n",
    ")\n",
    "res = (\n",
    "    SparkEngineTask()\n",
    "    .add_input(dataframe=df)\n",
    "    .add_common_yaml(Common.as_yaml())\n",
    "    .add_stage(\n",
    "        transformer=T.SQL(\n",
    "            statement=\"SELECT day, CONCAT(id, '-append') as id, feature1, feature2 FROM __THIS__\"\n",
    "        )\n",
    "    )\n",
    "    .add_stage(transformer=format_date)\n",
    "    .transform(spark)\n",
    ")\n",
    "res.show()"
   ]
  },
  {
   "cell_type": "code",
   "execution_count": 18,
   "metadata": {},
   "outputs": [
    {
     "name": "stdout",
     "output_type": "stream",
     "text": [
      "+---+-----------------+-----------------+\n",
      "| id|     feature1_sum|     feature2_sum|\n",
      "+---+-----------------+-----------------+\n",
      "|  1|76.30000066757202|76.30000066757202|\n",
      "|  2|77.30000066757202|77.30000066757202|\n",
      "+---+-----------------+-----------------+\n",
      "\n"
     ]
    }
   ],
   "source": [
    "df = spark.table(\"test_df\")\n",
    "res = (\n",
    "    SparkEngineTask()\n",
    "    .add_input(dataframe=df)\n",
    "    .add_stage(\n",
    "        transformer=T.SQL(\n",
    "            statement=\"SELECT day, CONCAT(id, '-append') as id, feature1, feature2 FROM __THIS__\"\n",
    "        )\n",
    "    )\n",
    "    .transform(spark)\n",
    ")\n",
    "\n",
    "aggr = G.Aggregator(\n",
    "    group_by_cols=[\"id\"],\n",
    "    aggregators=[\n",
    "        G.FunctionAggregator(\n",
    "            inputCol=\"feature1\", outputCol=\"feature1_sum\", accumulatorFunction=\"sum\"\n",
    "        ),\n",
    "        G.ExpressionAggregator(\n",
    "            outputCol=\"feature2_sum\", expression=\"sum(feature2)\"\n",
    "        ),\n",
    "    ],\n",
    ")\n",
    "res = (\n",
    "    SparkEngineTask(name=\"create aggregates\")\n",
    "    .add_input(dataframe=df)\n",
    "    .add_stage(aggregator=aggr)\n",
    "    .add_output(\n",
    "        source=\"file\",\n",
    "        params={\"path\": \"{}/test_output\".format(\"/tmp/seeknal_result\"), \"format\": \"parquet\"},\n",
    "    )\n",
    "    .transform(spark, materialize=False)\n",
    ")\n",
    "res.show()"
   ]
  },
  {
   "cell_type": "code",
   "execution_count": 19,
   "metadata": {},
   "outputs": [
    {
     "name": "stderr",
     "output_type": "stream",
     "text": [
      "[Stage 8:>                                                          (0 + 1) / 1]\r"
     ]
    },
    {
     "name": "stdout",
     "output_type": "stream",
     "text": [
      "+--------+--------+--------+---+--------+--------+\n",
      "|     day|feature1|feature2| id|feature3| app_day|\n",
      "+--------+--------+--------+---+--------+--------+\n",
      "|20190620|     1.0|     1.0|  1|     1.0|20190510|\n",
      "|20190610|    -1.0|    -1.0|  1|     1.0|20190510|\n",
      "|20190602|    50.0|    50.0|  1|     1.0|20190510|\n",
      "|20190601|     0.0|     0.0|  1|     1.0|20190510|\n",
      "|20190520|    22.2|    22.2|  1|     1.0|20190510|\n",
      "|20190510|     2.0|     2.0|  1|     1.0|20190510|\n",
      "|20190501|     2.1|     2.1|  1|     1.0|20190510|\n",
      "|20190620|     1.0|     1.0|  2|     2.0|20190715|\n",
      "|20190710|    NULL|    NULL|  2|     2.0|20190715|\n",
      "|20190602|    50.0|    50.0|  2|     2.0|20190715|\n",
      "|20190601|     0.0|     0.0|  2|     2.0|20190715|\n",
      "|20190520|    22.2|    22.2|  2|     2.0|20190715|\n",
      "|20190510|     2.0|     2.0|  2|     2.0|20190715|\n",
      "|20190501|     2.1|     2.1|  2|     2.0|20190715|\n",
      "+--------+--------+--------+---+--------+--------+\n",
      "\n"
     ]
    },
    {
     "name": "stderr",
     "output_type": "stream",
     "text": [
      "                                                                                \r"
     ]
    }
   ],
   "source": [
    "spine_columns = \"msisdn:string, app_day:string, feature3:float\"\n",
    "spine_vals = [(\"1\", \"20190510\", 1.0), (\"2\", \"20190715\", 2.0)]\n",
    "spine_df = spark.createDataFrame(spine_vals, spine_columns)\n",
    "\n",
    "tables = [\n",
    "    TableJoinDef(\n",
    "        table=spine_df,\n",
    "        joinType=JoinType.LEFT,\n",
    "        alias=\"b\",\n",
    "        joinExpression=\"a.id = b.msisdn\",\n",
    "    )\n",
    "]\n",
    "join = JoinTablesByExpr(tables=tables, select_stm=\"a.*, b.feature3, b.app_day\")\n",
    "res = (\n",
    "    SparkEngineTask()\n",
    "    .add_input(dataframe=spark.table(\"test_df\"))\n",
    "    .add_stage(transformer=join)\n",
    "    .transform(spark)\n",
    ")\n",
    "res.show()"
   ]
  },
  {
   "cell_type": "code",
   "execution_count": 20,
   "metadata": {},
   "outputs": [
    {
     "name": "stdout",
     "output_type": "stream",
     "text": [
      "+--------+--------+--------+--------+----------+\n",
      "|     day|      id|feature1|feature2|     month|\n",
      "+--------+--------+--------+--------+----------+\n",
      "|20190620|1-append|     1.0|     1.0|2019-06-20|\n",
      "|20190610|1-append|    -1.0|    -1.0|2019-06-10|\n",
      "|20190602|1-append|    50.0|    50.0|2019-06-02|\n",
      "|20190601|1-append|     0.0|     0.0|2019-06-01|\n",
      "|20190520|1-append|    22.2|    22.2|2019-05-20|\n",
      "|20190510|1-append|     2.0|     2.0|2019-05-10|\n",
      "|20190501|1-append|     2.1|     2.1|2019-05-01|\n",
      "|20190620|2-append|     1.0|     1.0|2019-06-20|\n",
      "|20190710|2-append|    NULL|    NULL|2019-07-10|\n",
      "|20190602|2-append|    50.0|    50.0|2019-06-02|\n",
      "|20190601|2-append|     0.0|     0.0|2019-06-01|\n",
      "|20190520|2-append|    22.2|    22.2|2019-05-20|\n",
      "|20190510|2-append|     2.0|     2.0|2019-05-10|\n",
      "|20190501|2-append|     2.1|     2.1|2019-05-01|\n",
      "+--------+--------+--------+--------+----------+\n",
      "\n",
      "+--------+--------+--------+--------+--------------------+\n",
      "|     day|      id|feature1|feature2|                id_b|\n",
      "+--------+--------+--------+--------+--------------------+\n",
      "|20190620|1-append|     1.0|     1.0|1-append-append-a...|\n",
      "|20190610|1-append|    -1.0|    -1.0|1-append-append-a...|\n",
      "|20190602|1-append|    50.0|    50.0|1-append-append-a...|\n",
      "|20190601|1-append|     0.0|     0.0|1-append-append-a...|\n",
      "|20190520|1-append|    22.2|    22.2|1-append-append-a...|\n",
      "|20190510|1-append|     2.0|     2.0|1-append-append-a...|\n",
      "|20190501|1-append|     2.1|     2.1|1-append-append-a...|\n",
      "|20190620|2-append|     1.0|     1.0|2-append-append-a...|\n",
      "|20190710|2-append|    NULL|    NULL|2-append-append-a...|\n",
      "|20190602|2-append|    50.0|    50.0|2-append-append-a...|\n",
      "|20190601|2-append|     0.0|     0.0|2-append-append-a...|\n",
      "|20190520|2-append|    22.2|    22.2|2-append-append-a...|\n",
      "|20190510|2-append|     2.0|     2.0|2-append-append-a...|\n",
      "|20190501|2-append|     2.1|     2.1|2-append-append-a...|\n",
      "+--------+--------+--------+--------+--------------------+\n",
      "\n"
     ]
    }
   ],
   "source": [
    "df = spark.table(\"test_df\")\n",
    "add_month = T.Transformer(\n",
    "    T.ClassName.ADD_DATE,\n",
    "    inputCol=\"day\",\n",
    "    outputCol=\"month\",\n",
    "    inputDateFormat=\"yyyyMMdd\",\n",
    "    outputDateFormat=\"yyyy-MM-01\",\n",
    ")\n",
    "preprocess = (\n",
    "    SparkEngineTask()\n",
    "    .add_input(dataframe=df)\n",
    "    .add_stage(\n",
    "        transformer=T.SQL(\n",
    "            statement=\"SELECT day, CONCAT(id, '-append') as id, feature1, feature2 FROM __THIS__\"\n",
    "        )\n",
    "    )\n",
    ")\n",
    "res_one = preprocess.copy().add_stage(transformer=add_month).transform(spark)\n",
    "res_two = (\n",
    "    preprocess.copy()\n",
    "    .add_sql(\"SELECT *, CONCAT(id, '-append-again') as id_b FROM __THIS__\")\n",
    "    .transform(spark)\n",
    ")\n",
    "res_one.show()\n",
    "res_two.show()"
   ]
  },
  {
   "cell_type": "code",
   "execution_count": 21,
   "metadata": {},
   "outputs": [
    {
     "name": "stdout",
     "output_type": "stream",
     "text": [
      "+--------+--------+--------+---+--------------+\n",
      "|     day|feature1|feature2| id|          id_b|\n",
      "+--------+--------+--------+---+--------------+\n",
      "|20190620|     1.0|     1.0|  1|1-append-again|\n",
      "|20190610|    -1.0|    -1.0|  1|1-append-again|\n",
      "|20190602|    50.0|    50.0|  1|1-append-again|\n",
      "|20190601|     0.0|     0.0|  1|1-append-again|\n",
      "|20190520|    22.2|    22.2|  1|1-append-again|\n",
      "|20190510|     2.0|     2.0|  1|1-append-again|\n",
      "|20190501|     2.1|     2.1|  1|1-append-again|\n",
      "|20190620|     1.0|     1.0|  2|2-append-again|\n",
      "|20190710|    NULL|    NULL|  2|2-append-again|\n",
      "|20190602|    50.0|    50.0|  2|2-append-again|\n",
      "|20190601|     0.0|     0.0|  2|2-append-again|\n",
      "|20190520|    22.2|    22.2|  2|2-append-again|\n",
      "|20190510|     2.0|     2.0|  2|2-append-again|\n",
      "|20190501|     2.1|     2.1|  2|2-append-again|\n",
      "+--------+--------+--------+---+--------------+\n",
      "\n"
     ]
    }
   ],
   "source": [
    "df = spark.table(\"test_df\")\n",
    "preprocess = (\n",
    "    SparkEngineTask()\n",
    "    .add_input(dataframe=df)\n",
    "    .add_stage(\n",
    "        transformer=T.SQL(\n",
    "            statement=\"SELECT day, CONCAT(id, '-append') as id, feature1, feature2 FROM __THIS__\"\n",
    "        )\n",
    "    )\n",
    ")\n",
    "\n",
    "preprocess.update_stage(\n",
    "    0,\n",
    "    transformer=T.SQL(\n",
    "        statement=\"SELECT *, CONCAT(id, '-append-again') as id_b FROM __THIS__\"\n",
    "    ),\n",
    ")\n",
    "\n",
    "res = preprocess.transform(spark)\n",
    "res.show()"
   ]
  },
  {
   "cell_type": "code",
   "execution_count": 22,
   "metadata": {},
   "outputs": [
    {
     "name": "stdout",
     "output_type": "stream",
     "text": [
      "pipeline:\n",
      "  input: {}\n",
      "  stages:\n",
      "  - className: tech.mta.seeknal.transformers.SQL\n",
      "    params:\n",
      "      statement: SELECT *, CONCAT(id, '-append-again') as id_b FROM __THIS__\n",
      "  - className: tech.mta.seeknal.transformers.SQL\n",
      "    params:\n",
      "      statement: SELECT day, CONCAT(id, '-append') as id, feature1, feature2 FROM\n",
      "        __THIS__\n",
      "\n",
      "+--------+--------+--------+--------+\n",
      "|     day|      id|feature1|feature2|\n",
      "+--------+--------+--------+--------+\n",
      "|20190620|1-append|     1.0|     1.0|\n",
      "|20190610|1-append|    -1.0|    -1.0|\n",
      "|20190602|1-append|    50.0|    50.0|\n",
      "|20190601|1-append|     0.0|     0.0|\n",
      "|20190520|1-append|    22.2|    22.2|\n",
      "|20190510|1-append|     2.0|     2.0|\n",
      "|20190501|1-append|     2.1|     2.1|\n",
      "|20190620|2-append|     1.0|     1.0|\n",
      "|20190710|2-append|    NULL|    NULL|\n",
      "|20190602|2-append|    50.0|    50.0|\n",
      "|20190601|2-append|     0.0|     0.0|\n",
      "|20190520|2-append|    22.2|    22.2|\n",
      "|20190510|2-append|     2.0|     2.0|\n",
      "|20190501|2-append|     2.1|     2.1|\n",
      "+--------+--------+--------+--------+\n",
      "\n"
     ]
    }
   ],
   "source": [
    "df = spark.table(\"test_df\")\n",
    "preprocess = (\n",
    "    SparkEngineTask()\n",
    "    .add_input(dataframe=df)\n",
    "    .add_stage(\n",
    "        transformer=T.SQL(\n",
    "            statement=\"SELECT day, CONCAT(id, '-append') as id, feature1, feature2 FROM __THIS__\"\n",
    "        )\n",
    "    )\n",
    ")\n",
    "preprocess.insert_stage(\n",
    "    0,\n",
    "    transformer=T.SQL(\n",
    "        statement=\"SELECT *, CONCAT(id, '-append-again') as id_b FROM __THIS__\"\n",
    "    ),\n",
    ")\n",
    "preprocess.print_yaml()\n",
    "\n",
    "res = preprocess.transform(spark)\n",
    "res.show()"
   ]
  },
  {
   "cell_type": "code",
   "execution_count": 23,
   "metadata": {},
   "outputs": [
    {
     "name": "stdout",
     "output_type": "stream",
     "text": [
      "+--------+--------+--------+--------+\n",
      "|     day|      id|feature1|feature2|\n",
      "+--------+--------+--------+--------+\n",
      "|20190510|1-append|     2.0|     2.0|\n",
      "|20190501|1-append|     2.1|     2.1|\n",
      "|20190510|2-append|     2.0|     2.0|\n",
      "|20190501|2-append|     2.1|     2.1|\n",
      "+--------+--------+--------+--------+\n",
      "\n"
     ]
    }
   ],
   "source": [
    "import datetime\n",
    "df = spark.table(\"test_df\")\n",
    "\n",
    "res = (\n",
    "    SparkEngineTask()\n",
    "    .add_input(dataframe=df)\n",
    "    .set_date_col(\"day\")\n",
    "    .add_stage(\n",
    "        transformer=T.SQL(\n",
    "            statement=\"SELECT day, CONCAT(id, '-append') as id, feature1, feature2 FROM __THIS__\"\n",
    "        )\n",
    "    )\n",
    "    .transform(\n",
    "        start_date=datetime.datetime(2019, 5, 1),\n",
    "        end_date=datetime.datetime(2019, 5, 10),\n",
    "    )\n",
    ")\n",
    "res.show()"
   ]
  },
  {
   "cell_type": "code",
   "execution_count": 24,
   "metadata": {},
   "outputs": [
    {
     "name": "stdout",
     "output_type": "stream",
     "text": [
      "['20190510', '20190520', '20190601', '20190602', '20190610', '20190620', '20190710']\n"
     ]
    }
   ],
   "source": [
    "from datetime import datetime\n",
    "res = (\n",
    "        SparkEngineTask()\n",
    "        .add_input(dataframe=df)\n",
    "        .set_date_col(\"day\")\n",
    "        .get_date_available(after_date=datetime(2019, 5, 10))\n",
    ")\n",
    "print(res)"
   ]
  },
  {
   "cell_type": "markdown",
   "metadata": {},
   "source": [
    "## 2.3 DuckDB Task"
   ]
  },
  {
   "cell_type": "code",
   "execution_count": 26,
   "metadata": {},
   "outputs": [
    {
     "name": "stdout",
     "output_type": "stream",
     "text": [
      "{'is_spark_job': False, 'kind': 'DuckDBTask', 'name': None, 'description': None, 'common': None, 'input': {'dataframe': pyarrow.Table\n",
      "poi_id: string\n",
      "poi_name: string\n",
      "category_level1_name: string\n",
      "category_level2_name: string\n",
      "category_level3_name: string\n",
      "territory_level2: string\n",
      "territory_level3: string\n",
      "territory_level4: string\n",
      "territory_level5: string\n",
      "lat: double\n",
      "long: double\n",
      "----\n",
      "poi_id: [[\"458w281x-608b10bc6f404a449ebf231761be1778\",\"458w281x-9ee2bb0a12ca4cd580ad92d2d9262399\",\"458w281x-1fcc6faea91d4b9696af2907156a324f\",\"458w281x-d557af639fad4cb091de177eefad4e13\",\"458w281x-e69ec25912bd49d78700adfb0de423e6\",...,\"458w281m-11ced1f2d96f4c1ea6128dbe2ba1bb33\",\"458w281m-71a65a050f0d42fa8cff96faa6912a35\",\"458w281k-284dbd33875b40bdb395bf9d6ea80aa8\",\"458w281m-2aeab547e7d942c992836a0341366eb1\",\"458w281m-e84be7db378c443ea485578cac98e724\"]]\n",
      "poi_name: [[\"Car Wash PETRONAS\",\"Maplewood Saujana\",\"Dietetics & Food Services\",\"Facility Maintenance & Biomedical\",\"Bhpetrol\",...,\"RCA Consortium Sdn. Bhd.\",\"Glow&Glamour Slimming\",\"Bank Kerjasama Rakyat Malaysia Berhad\",\"Pizza Hut\",\"DMC Sticker\"]]\n",
      "category_level1_name: [[\"Business and Services\",\"Areas and Buildings\",\"Eat and Drink\",\"Facilities\",\"Business and Services\",...,\"Facilities\",\"Business and Services\",\"Business and Services\",\"Eat and Drink\",\"Shopping\"]]\n",
      "category_level2_name: [[\"Car Repair-Service\",\"City, Town or Village\",\"Restaurant\",\"Hospital or Health Care Facility\",\"Fueling Station\",...,\"Hospital or Health Care Facility\",\"Consumer Services\",\"ATM\",\"Restaurant\",\"Consumer Goods\"]]\n",
      "category_level3_name: [[\"Car Repair-Service\",\"Named Place\",\"Restaurant\",\"Hospital or Health Care Facility\",\"Petrol-Gasoline Station\",...,\"Optical\",\"Wellness Center and Services\",\"ATM\",\"Restaurant\",\"Arts and Crafts Supplies\"]]\n",
      "territory_level2: [[\"Selangor\",\"Selangor\",\"Selangor\",\"Selangor\",\"Selangor\",...,\"Selangor\",\"Selangor\",\"Selangor\",\"Selangor\",\"Selangor\"]]\n",
      "territory_level3: [[\"Petaling\",\"Petaling\",\"Petaling\",\"Petaling\",\"Petaling\",...,\"Klang\",\"Klang\",\"Klang\",\"Klang\",\"Klang\"]]\n",
      "territory_level4: [[\"Shah Alam\",\"Shah Alam\",\"Shah Alam\",\"Shah Alam\",\"Shah Alam\",...,\"Kapar\",\"Kapar\",\"Kapar\",\"Kapar\",\"Shah Alam\"]]\n",
      "territory_level5: [[\"Seksyen U3\",\"Maplewood Saujana\",\"Seksyen U2\",\"Seksyen U2\",\"Seksyen U2\",...,\"Bandar Baru Klang\",\"Bandar Baru Klang\",\"Bandar Baru Klang\",\"Bandar Baru Klang\",\"Bukit Raja Selatan\"]]\n",
      "lat: [[3.11663,3.11375,3.11443,3.11443,3.1141,...,3.0609,3.06254,3.06266,3.06255,3.06644]]\n",
      "...}, 'stages': [{'sql': 'SELECT poi_name, lat, long FROM __THIS__'}, {'sql': 'SELECT poi_name, lat FROM __THIS__'}], 'output': None, 'date': None}\n",
      "pyarrow.Table\n",
      "poi_name: string\n",
      "lat: double\n",
      "----\n",
      "poi_name: [[\"Car Wash PETRONAS\",\"Maplewood Saujana\",\"Dietetics & Food Services\",\"Facility Maintenance & Biomedical\",\"Bhpetrol\",...,\"RCA Consortium Sdn. Bhd.\",\"Glow&Glamour Slimming\",\"Bank Kerjasama Rakyat Malaysia Berhad\",\"Pizza Hut\",\"DMC Sticker\"]]\n",
      "lat: [[3.11663,3.11375,3.11443,3.11443,3.1141,...,3.0609,3.06254,3.06266,3.06255,3.06644]]\n"
     ]
    }
   ],
   "source": [
    "arrow_df = pq.read_table(\"src/tests/data/poi_sample.parquet\")\n",
    "my_duckdb = (\n",
    "    DuckDBTask()\n",
    "    .add_input(dataframe=arrow_df)\n",
    "    .add_sql(\"SELECT poi_name, lat, long FROM __THIS__\")\n",
    "    .add_sql(\"SELECT poi_name, lat FROM __THIS__\")\n",
    ")\n",
    "print(my_duckdb.__dict__)\n",
    "res = my_duckdb.transform()\n",
    "\n",
    "print(res)"
   ]
  },
  {
   "cell_type": "code",
   "execution_count": 9,
   "metadata": {},
   "outputs": [
    {
     "name": "stdout",
     "output_type": "stream",
     "text": [
      "{'is_spark_job': False, 'kind': 'DuckDBTask', 'name': None, 'description': None, 'common': None, 'input': {'path': 'seeknal/tests/data/poi_sample.parquet/*.parquet'}, 'stages': [{'sql': 'SELECT poi_name, lat, long FROM __THIS__'}, {'sql': 'SELECT poi_name, lat FROM __THIS__'}], 'output': None, 'date': None}\n",
      "pyarrow.Table\n",
      "poi_name: string\n",
      "lat: double\n",
      "----\n",
      "poi_name: [[\"Car Wash PETRONAS\",\"Maplewood Saujana\",\"Dietetics & Food Services\",\"Facility Maintenance & Biomedical\",\"Bhpetrol\",...,\"RCA Consortium Sdn. Bhd.\",\"Glow&Glamour Slimming\",\"Bank Kerjasama Rakyat Malaysia Berhad\",\"Pizza Hut\",\"DMC Sticker\"]]\n",
      "lat: [[3.11663,3.11375,3.11443,3.11443,3.1141,...,3.0609,3.06254,3.06266,3.06255,3.06644]]\n"
     ]
    }
   ],
   "source": [
    "my_duckdb = (\n",
    "    DuckDBTask()\n",
    "    .add_input(path=\"seeknal/tests/data/poi_sample.parquet/*.parquet\")\n",
    "    .add_sql(\"SELECT poi_name, lat, long FROM __THIS__\")\n",
    "    .add_sql(\"SELECT poi_name, lat FROM __THIS__\")\n",
    ")\n",
    "print(my_duckdb.__dict__)\n",
    "res = my_duckdb.transform()\n",
    "\n",
    "print(res)"
   ]
  },
  {
   "cell_type": "code",
   "execution_count": null,
   "metadata": {},
   "outputs": [],
   "source": []
  },
  {
   "cell_type": "markdown",
   "metadata": {},
   "source": [
    "# 3. Flow"
   ]
  },
  {
   "cell_type": "code",
   "execution_count": 8,
   "metadata": {},
   "outputs": [],
   "source": [
    "from seeknal.flow import (\n",
    "    Flow,\n",
    "    FlowInput,\n",
    "    FlowOutput,\n",
    "    FlowInputEnum,\n",
    "    FlowOutputEnum,\n",
    "    run_flow,\n",
    ")"
   ]
  },
  {
   "cell_type": "code",
   "execution_count": 9,
   "metadata": {},
   "outputs": [
    {
     "name": "stderr",
     "output_type": "stream",
     "text": [
      "24/12/30 16:57:36 WARN SparkSession: Using an existing Spark session; only runtime SQL configurations will take effect.\n",
      "                                                                                \r"
     ]
    }
   ],
   "source": [
    "\n",
    "columns = \"msisdn:string, lat:double, lon:double, start_time:string, end_time:string, count_hours:double, radius:double, movement_type:string, day:string\"\n",
    "vals = [\n",
    "        (\n",
    "            \"id1\",\n",
    "            3.1165,\n",
    "            101.5663,\n",
    "            \"2019-01-01 06:00:00\",\n",
    "            \"2019-01-01 07:00:00\",\n",
    "            1.0,\n",
    "            1395.04,\n",
    "            \"stay\",\n",
    "            \"20190101\",\n",
    "        ),\n",
    "        (\n",
    "            \"id2\",\n",
    "            3.812033,\n",
    "            103.324633,\n",
    "            \"2019-01-01 06:00:00\",\n",
    "            \"2019-01-01 07:00:00\",\n",
    "            1.0,\n",
    "            841.36,\n",
    "            \"stay\",\n",
    "            \"20190101\",\n",
    "        ),\n",
    "        (\n",
    "            \"id3\",\n",
    "            3.0637,\n",
    "            101.47016,\n",
    "            \"2019-01-01 06:00:00\",\n",
    "            \"2019-01-01 07:00:00\",\n",
    "            1.0,\n",
    "            1387.35,\n",
    "            \"stay\",\n",
    "            \"20190101\",\n",
    "        ),\n",
    "        (\n",
    "            \"id1\",\n",
    "            3.1186,\n",
    "            101.6639,\n",
    "            \"2019-01-01 07:00:00\",\n",
    "            \"2019-01-01 08:00:00\",\n",
    "            1.0,\n",
    "            1234.22,\n",
    "            \"stay\",\n",
    "            \"20190101\",\n",
    "        ),\n",
    "        (\n",
    "            \"id1\",\n",
    "            3.1165,\n",
    "            101.5663,\n",
    "            \"2019-01-01 06:00:00\",\n",
    "            \"2019-01-01 07:00:00\",\n",
    "            1.0,\n",
    "            1395.04,\n",
    "            \"stay\",\n",
    "            \"20190102\",\n",
    "        ),\n",
    "        (\n",
    "            \"id2\",\n",
    "            3.812033,\n",
    "            103.324633,\n",
    "            \"2019-01-01 06:00:00\",\n",
    "            \"2019-01-01 07:00:00\",\n",
    "            1.0,\n",
    "            841.36,\n",
    "            \"stay\",\n",
    "            \"20190102\",\n",
    "        ),\n",
    "        (\n",
    "            \"id3\",\n",
    "            3.0637,\n",
    "            101.47016,\n",
    "            \"2019-01-01 06:00:00\",\n",
    "            \"2019-01-01 07:00:00\",\n",
    "            1.0,\n",
    "            1387.35,\n",
    "            \"stay\",\n",
    "            \"20190102\",\n",
    "        ),\n",
    "        (\n",
    "            \"id1\",\n",
    "            3.1186,\n",
    "            101.6639,\n",
    "            \"2019-01-01 07:00:00\",\n",
    "            \"2019-01-01 08:00:00\",\n",
    "            1.0,\n",
    "            1234.22,\n",
    "            \"stay\",\n",
    "            \"20190102\",\n",
    "        ),\n",
    "        (\n",
    "            \"id1\",\n",
    "            3.1165,\n",
    "            101.5663,\n",
    "            \"2019-01-01 06:00:00\",\n",
    "            \"2019-01-01 07:00:00\",\n",
    "            1.0,\n",
    "            1395.04,\n",
    "            \"stay\",\n",
    "            \"20190105\",\n",
    "        ),\n",
    "        (\n",
    "            \"id2\",\n",
    "            3.812033,\n",
    "            103.324633,\n",
    "            \"2019-01-01 06:00:00\",\n",
    "            \"2019-01-01 07:00:00\",\n",
    "            1.0,\n",
    "            841.36,\n",
    "            \"stay\",\n",
    "            \"20190105\",\n",
    "        ),\n",
    "        (\n",
    "            \"id3\",\n",
    "            3.0637,\n",
    "            101.47016,\n",
    "            \"2019-01-01 06:00:00\",\n",
    "            \"2019-01-01 07:00:00\",\n",
    "            1.0,\n",
    "            1387.35,\n",
    "            \"stay\",\n",
    "            \"20190105\",\n",
    "        ),\n",
    "        (\n",
    "            \"id1\",\n",
    "            3.1186,\n",
    "            101.6639,\n",
    "            \"2019-01-01 07:00:00\",\n",
    "            \"2019-01-01 08:00:00\",\n",
    "            1.0,\n",
    "            1234.22,\n",
    "            \"stay\",\n",
    "            \"20190105\",\n",
    "        ),\n",
    "    ]\n",
    "user_stay = spark.createDataFrame(vals, columns)\n",
    "(\n",
    "    SparkEngineTask()\n",
    "    .add_input(dataframe=user_stay)\n",
    "    .transform()\n",
    "    .write.mode(\"overwrite\")\n",
    "    .saveAsTable(\"user_stay\")\n",
    ")\n"
   ]
  },
  {
   "cell_type": "code",
   "execution_count": 29,
   "metadata": {},
   "outputs": [
    {
     "name": "stdout",
     "output_type": "stream",
     "text": [
      "+------+--------+----------+-------------------+-------------------+-----------+-------+-------------+--------+\n",
      "|msisdn|     lat|       lon|         start_time|           end_time|count_hours| radius|movement_type|     day|\n",
      "+------+--------+----------+-------------------+-------------------+-----------+-------+-------------+--------+\n",
      "|   id1|  3.1165|  101.5663|2019-01-01 06:00:00|2019-01-01 07:00:00|        1.0|1395.04|         stay|20190101|\n",
      "|   id2|3.812033|103.324633|2019-01-01 06:00:00|2019-01-01 07:00:00|        1.0| 841.36|         stay|20190101|\n",
      "|   id3|  3.0637| 101.47016|2019-01-01 06:00:00|2019-01-01 07:00:00|        1.0|1387.35|         stay|20190101|\n",
      "|   id1|  3.1186|  101.6639|2019-01-01 07:00:00|2019-01-01 08:00:00|        1.0|1234.22|         stay|20190101|\n",
      "|   id1|  3.1165|  101.5663|2019-01-01 06:00:00|2019-01-01 07:00:00|        1.0|1395.04|         stay|20190102|\n",
      "|   id2|3.812033|103.324633|2019-01-01 06:00:00|2019-01-01 07:00:00|        1.0| 841.36|         stay|20190102|\n",
      "|   id3|  3.0637| 101.47016|2019-01-01 06:00:00|2019-01-01 07:00:00|        1.0|1387.35|         stay|20190102|\n",
      "|   id1|  3.1186|  101.6639|2019-01-01 07:00:00|2019-01-01 08:00:00|        1.0|1234.22|         stay|20190102|\n",
      "|   id1|  3.1165|  101.5663|2019-01-01 06:00:00|2019-01-01 07:00:00|        1.0|1395.04|         stay|20190105|\n",
      "|   id2|3.812033|103.324633|2019-01-01 06:00:00|2019-01-01 07:00:00|        1.0| 841.36|         stay|20190105|\n",
      "|   id3|  3.0637| 101.47016|2019-01-01 06:00:00|2019-01-01 07:00:00|        1.0|1387.35|         stay|20190105|\n",
      "|   id1|  3.1186|  101.6639|2019-01-01 07:00:00|2019-01-01 08:00:00|        1.0|1234.22|         stay|20190105|\n",
      "+------+--------+----------+-------------------+-------------------+-----------+-------+-------------+--------+\n",
      "\n"
     ]
    }
   ],
   "source": [
    "user_stay.show()"
   ]
  },
  {
   "cell_type": "code",
   "execution_count": null,
   "metadata": {},
   "outputs": [],
   "source": []
  },
  {
   "cell_type": "code",
   "execution_count": 36,
   "metadata": {},
   "outputs": [
    {
     "data": {
      "text/plain": [
       "1"
      ]
     },
     "execution_count": 36,
     "metadata": {},
     "output_type": "execute_result"
    }
   ],
   "source": [
    "context.project_id"
   ]
  },
  {
   "cell_type": "code",
   "execution_count": 23,
   "metadata": {},
   "outputs": [],
   "source": [
    "from src.seeknal.context import context, require_project, get_workspace_id, check_project_id, get_project_id, check_workspace_id"
   ]
  },
  {
   "cell_type": "code",
   "execution_count": 31,
   "metadata": {},
   "outputs": [
    {
     "data": {
      "text/plain": [
       "Project(name='test_project', description='test project')"
      ]
     },
     "execution_count": 31,
     "metadata": {},
     "output_type": "execute_result"
    }
   ],
   "source": [
    "project = Project(name=\"test_project\", description=\"test project\")\n",
    "# attach project\n",
    "project.get_or_create()"
   ]
  },
  {
   "cell_type": "code",
   "execution_count": 33,
   "metadata": {},
   "outputs": [
    {
     "ename": "ProjectNotSetError",
     "evalue": "Project hasn't been set in your environment. Please set it with Project(name='...').",
     "output_type": "error",
     "traceback": [
      "\u001b[0;31m---------------------------------------------------------------------------\u001b[0m",
      "\u001b[0;31mProjectNotSetError\u001b[0m                        Traceback (most recent call last)",
      "Cell \u001b[0;32mIn[33], line 1\u001b[0m\n\u001b[0;32m----> 1\u001b[0m \u001b[43mFlow\u001b[49m\u001b[38;5;241;43m.\u001b[39;49m\u001b[43mlist\u001b[49m\u001b[43m(\u001b[49m\u001b[43m)\u001b[49m\n",
      "File \u001b[0;32m~/project/mta/signal/src/seeknal/workspace.py:17\u001b[0m, in \u001b[0;36mrequire_workspace.<locals>.wrapper\u001b[0;34m(*args, **kwargs)\u001b[0m\n\u001b[1;32m     16\u001b[0m \u001b[38;5;28;01mdef\u001b[39;00m \u001b[38;5;21mwrapper\u001b[39m(\u001b[38;5;241m*\u001b[39margs, \u001b[38;5;241m*\u001b[39m\u001b[38;5;241m*\u001b[39mkwargs):\n\u001b[0;32m---> 17\u001b[0m     \u001b[43mcheck_project_id\u001b[49m\u001b[43m(\u001b[49m\u001b[43m)\u001b[49m\n\u001b[1;32m     18\u001b[0m     \u001b[38;5;28;01mif\u001b[39;00m get_workspace_id() \u001b[38;5;129;01mis\u001b[39;00m \u001b[38;5;28;01mNone\u001b[39;00m:\n\u001b[1;32m     19\u001b[0m         Workspace(name\u001b[38;5;241m=\u001b[39mAccount\u001b[38;5;241m.\u001b[39mget_username(), private\u001b[38;5;241m=\u001b[39m\u001b[38;5;28;01mTrue\u001b[39;00m)\u001b[38;5;241m.\u001b[39mget_or_create()\n",
      "File \u001b[0;32m~/project/mta/signal/src/seeknal/context.py:225\u001b[0m, in \u001b[0;36mcheck_project_id\u001b[0;34m()\u001b[0m\n\u001b[1;32m    223\u001b[0m \u001b[38;5;28;01mdef\u001b[39;00m \u001b[38;5;21mcheck_project_id\u001b[39m():\n\u001b[1;32m    224\u001b[0m     \u001b[38;5;28;01mif\u001b[39;00m get_project_id() \u001b[38;5;129;01mis\u001b[39;00m \u001b[38;5;28;01mNone\u001b[39;00m:\n\u001b[0;32m--> 225\u001b[0m         \u001b[38;5;28;01mraise\u001b[39;00m ProjectNotSetError(\n\u001b[1;32m    226\u001b[0m             \u001b[38;5;124m\"\u001b[39m\u001b[38;5;124mProject hasn\u001b[39m\u001b[38;5;124m'\u001b[39m\u001b[38;5;124mt been set in your environment. Please set it with Project(name=\u001b[39m\u001b[38;5;124m'\u001b[39m\u001b[38;5;124m...\u001b[39m\u001b[38;5;124m'\u001b[39m\u001b[38;5;124m).\u001b[39m\u001b[38;5;124m\"\u001b[39m\n\u001b[1;32m    227\u001b[0m         )\n",
      "\u001b[0;31mProjectNotSetError\u001b[0m: Project hasn't been set in your environment. Please set it with Project(name='...')."
     ]
    }
   ],
   "source": [
    "Flow.list()"
   ]
  },
  {
   "cell_type": "code",
   "execution_count": 32,
   "metadata": {},
   "outputs": [
    {
     "ename": "ProjectNotSetError",
     "evalue": "Project hasn't been set in your environment. Please set it with Project(name='...').",
     "output_type": "error",
     "traceback": [
      "\u001b[0;31m---------------------------------------------------------------------------\u001b[0m",
      "\u001b[0;31mProjectNotSetError\u001b[0m                        Traceback (most recent call last)",
      "Cell \u001b[0;32mIn[32], line 13\u001b[0m\n\u001b[1;32m      5\u001b[0m task_three \u001b[38;5;241m=\u001b[39m DuckDBTask()\u001b[38;5;241m.\u001b[39madd_sql(\u001b[38;5;124m\"\u001b[39m\u001b[38;5;124mSELECT msisdn, lat, lon, movement_type, day FROM __THIS__\u001b[39m\u001b[38;5;124m\"\u001b[39m)\n\u001b[1;32m      6\u001b[0m flow \u001b[38;5;241m=\u001b[39m Flow(\n\u001b[1;32m      7\u001b[0m     name\u001b[38;5;241m=\u001b[39m\u001b[38;5;124m\"\u001b[39m\u001b[38;5;124mmy_flow\u001b[39m\u001b[38;5;124m\"\u001b[39m,\n\u001b[1;32m      8\u001b[0m     \u001b[38;5;28minput\u001b[39m\u001b[38;5;241m=\u001b[39mflow_input,\n\u001b[1;32m      9\u001b[0m     tasks\u001b[38;5;241m=\u001b[39m[task_two, task_three],\n\u001b[1;32m     10\u001b[0m     output\u001b[38;5;241m=\u001b[39mFlowOutput(),\n\u001b[1;32m     11\u001b[0m )\n\u001b[0;32m---> 13\u001b[0m \u001b[43mflow\u001b[49m\u001b[38;5;241;43m.\u001b[39;49m\u001b[43mget_or_create\u001b[49m\u001b[43m(\u001b[49m\u001b[43m)\u001b[49m\n",
      "File \u001b[0;32m~/project/mta/signal/src/seeknal/workspace.py:17\u001b[0m, in \u001b[0;36mrequire_workspace.<locals>.wrapper\u001b[0;34m(*args, **kwargs)\u001b[0m\n\u001b[1;32m     16\u001b[0m \u001b[38;5;28;01mdef\u001b[39;00m \u001b[38;5;21mwrapper\u001b[39m(\u001b[38;5;241m*\u001b[39margs, \u001b[38;5;241m*\u001b[39m\u001b[38;5;241m*\u001b[39mkwargs):\n\u001b[0;32m---> 17\u001b[0m     \u001b[43mcheck_project_id\u001b[49m\u001b[43m(\u001b[49m\u001b[43m)\u001b[49m\n\u001b[1;32m     18\u001b[0m     \u001b[38;5;28;01mif\u001b[39;00m get_workspace_id() \u001b[38;5;129;01mis\u001b[39;00m \u001b[38;5;28;01mNone\u001b[39;00m:\n\u001b[1;32m     19\u001b[0m         Workspace(name\u001b[38;5;241m=\u001b[39mAccount\u001b[38;5;241m.\u001b[39mget_username(), private\u001b[38;5;241m=\u001b[39m\u001b[38;5;28;01mTrue\u001b[39;00m)\u001b[38;5;241m.\u001b[39mget_or_create()\n",
      "File \u001b[0;32m~/project/mta/signal/src/seeknal/context.py:225\u001b[0m, in \u001b[0;36mcheck_project_id\u001b[0;34m()\u001b[0m\n\u001b[1;32m    223\u001b[0m \u001b[38;5;28;01mdef\u001b[39;00m \u001b[38;5;21mcheck_project_id\u001b[39m():\n\u001b[1;32m    224\u001b[0m     \u001b[38;5;28;01mif\u001b[39;00m get_project_id() \u001b[38;5;129;01mis\u001b[39;00m \u001b[38;5;28;01mNone\u001b[39;00m:\n\u001b[0;32m--> 225\u001b[0m         \u001b[38;5;28;01mraise\u001b[39;00m ProjectNotSetError(\n\u001b[1;32m    226\u001b[0m             \u001b[38;5;124m\"\u001b[39m\u001b[38;5;124mProject hasn\u001b[39m\u001b[38;5;124m'\u001b[39m\u001b[38;5;124mt been set in your environment. Please set it with Project(name=\u001b[39m\u001b[38;5;124m'\u001b[39m\u001b[38;5;124m...\u001b[39m\u001b[38;5;124m'\u001b[39m\u001b[38;5;124m).\u001b[39m\u001b[38;5;124m\"\u001b[39m\n\u001b[1;32m    227\u001b[0m         )\n",
      "\u001b[0;31mProjectNotSetError\u001b[0m: Project hasn't been set in your environment. Please set it with Project(name='...')."
     ]
    }
   ],
   "source": [
    "flow_input = FlowInput(kind=FlowInputEnum.HIVE_TABLE, value=\"user_stay\")\n",
    "flow_output = FlowOutput(kind=FlowOutputEnum.SPARK_DATAFRAME)\n",
    "\n",
    "task_two = SparkEngineTask().add_sql(\"SELECT * FROM __THIS__\")\n",
    "task_three = DuckDBTask().add_sql(\"SELECT msisdn, lat, lon, movement_type, day FROM __THIS__\")\n",
    "flow = Flow(\n",
    "    name=\"my_flow\",\n",
    "    input=flow_input,\n",
    "    tasks=[task_two, task_three],\n",
    "    output=FlowOutput(),\n",
    ")\n",
    "\n",
    "flow.get_or_create()\n"
   ]
  },
  {
   "cell_type": "code",
   "execution_count": 12,
   "metadata": {},
   "outputs": [
    {
     "name": "stdout",
     "output_type": "stream",
     "text": [
      "pyarrow.Table\n",
      "msisdn: string\n",
      "lat: double\n",
      "lon: double\n",
      "movement_type: string\n",
      "day: string\n",
      "----\n",
      "msisdn: [[\"id1\",\"id2\",\"id3\",\"id1\",\"id1\",...,\"id1\",\"id1\",\"id2\",\"id3\",\"id1\"]]\n",
      "lat: [[3.1165,3.812033,3.0637,3.1186,3.1165,...,3.1186,3.1165,3.812033,3.0637,3.1186]]\n",
      "lon: [[101.5663,103.324633,101.47016,101.6639,101.5663,...,101.6639,101.5663,103.324633,101.47016,101.6639]]\n",
      "movement_type: [[\"stay\",\"stay\",\"stay\",\"stay\",\"stay\",...,\"stay\",\"stay\",\"stay\",\"stay\",\"stay\"]]\n",
      "day: [[\"20190101\",\"20190101\",\"20190101\",\"20190101\",\"20190102\",...,\"20190102\",\"20190105\",\"20190105\",\"20190105\",\"20190105\"]]\n"
     ]
    }
   ],
   "source": [
    "# save from the object\n",
    "print(flow.run())"
   ]
  },
  {
   "cell_type": "code",
   "execution_count": 13,
   "metadata": {},
   "outputs": [
    {
     "name": "stdout",
     "output_type": "stream",
     "text": [
      "[2024-12-29 12:07:11+0700] WARNING - seeknal | Using an existing Flow.\n",
      "pyarrow.Table\n",
      "msisdn: string\n",
      "lat: double\n",
      "lon: double\n",
      "movement_type: string\n",
      "day: string\n",
      "----\n",
      "msisdn: [[\"id1\",\"id2\",\"id3\",\"id1\",\"id1\",...,\"id1\",\"id1\",\"id2\",\"id3\",\"id1\"]]\n",
      "lat: [[3.1165,3.812033,3.0637,3.1186,3.1165,...,3.1186,3.1165,3.812033,3.0637,3.1186]]\n",
      "lon: [[101.5663,103.324633,101.47016,101.6639,101.5663,...,101.6639,101.5663,103.324633,101.47016,101.6639]]\n",
      "movement_type: [[\"stay\",\"stay\",\"stay\",\"stay\",\"stay\",...,\"stay\",\"stay\",\"stay\",\"stay\",\"stay\"]]\n",
      "day: [[\"20190101\",\"20190101\",\"20190101\",\"20190101\",\"20190102\",...,\"20190102\",\"20190105\",\"20190105\",\"20190105\",\"20190105\"]]\n"
     ]
    }
   ],
   "source": [
    "# load from seeknal\n",
    "flowtwo = Flow(name=\"my_flow\").get_or_create()\n",
    "print(flowtwo.run())"
   ]
  },
  {
   "cell_type": "code",
   "execution_count": 16,
   "metadata": {},
   "outputs": [
    {
     "data": {
      "text/plain": [
       "{'name': 'my_flow',\n",
       " 'input': {'value': 'user_stay', 'kind': 'hive_table'},\n",
       " 'input_date_col': None,\n",
       " 'tasks': [{'is_spark_job': True,\n",
       "   'kind': 'SparkEngineTask',\n",
       "   'name': None,\n",
       "   'description': None,\n",
       "   'common': 'rules:\\n- id: foo\\n  rule:\\n    value: bar\\n- id: blah\\n  rule:\\n    value:\\n    - foo\\n    - bar\\nsources:\\n- id: my_user_stay\\n  params:\\n    dateCol: date_id\\n  table: user_stay\\n- id: my_test_df\\n  params:\\n    dateCol: date_id\\n  table: test_df\\n',\n",
       "   'input': None,\n",
       "   'stages': [{'className': 'tech.mta.signal.transformers.SQL',\n",
       "     'params': {'statement': 'SELECT * FROM __THIS__'}}],\n",
       "   'output': None,\n",
       "   'date': None,\n",
       "   'feature': None,\n",
       "   'default_input_db': 'base_input',\n",
       "   'default_output_db': 'base_output',\n",
       "   '_materialize': False,\n",
       "   'class_name': 'seeknal.tasks.sparkengine.sparkengine.SparkEngineTask'},\n",
       "  {'is_spark_job': False,\n",
       "   'kind': 'DuckDBTask',\n",
       "   'name': None,\n",
       "   'description': None,\n",
       "   'common': None,\n",
       "   'input': None,\n",
       "   'stages': [{'sql': 'SELECT msisdn, lat, lon, movement_type, day FROM __THIS__'}],\n",
       "   'output': None,\n",
       "   'date': None,\n",
       "   'class_name': 'seeknal.tasks.duckdb.duckdb.DuckDBTask'}],\n",
       " 'output': {'value': None, 'kind': None},\n",
       " 'description': ''}"
      ]
     },
     "execution_count": 16,
     "metadata": {},
     "output_type": "execute_result"
    }
   ],
   "source": [
    "flow.as_dict()"
   ]
  },
  {
   "cell_type": "code",
   "execution_count": 17,
   "metadata": {},
   "outputs": [
    {
     "data": {
      "text/plain": [
       "pyarrow.Table\n",
       "msisdn: string\n",
       "lat: double\n",
       "lon: double\n",
       "movement_type: string\n",
       "day: string\n",
       "----\n",
       "msisdn: [[\"id1\",\"id2\",\"id3\",\"id1\",\"id1\",...,\"id1\",\"id1\",\"id2\",\"id3\",\"id1\"]]\n",
       "lat: [[3.1165,3.812033,3.0637,3.1186,3.1165,...,3.1186,3.1165,3.812033,3.0637,3.1186]]\n",
       "lon: [[101.5663,103.324633,101.47016,101.6639,101.5663,...,101.6639,101.5663,103.324633,101.47016,101.6639]]\n",
       "movement_type: [[\"stay\",\"stay\",\"stay\",\"stay\",\"stay\",...,\"stay\",\"stay\",\"stay\",\"stay\",\"stay\"]]\n",
       "day: [[\"20190101\",\"20190101\",\"20190101\",\"20190101\",\"20190102\",...,\"20190102\",\"20190105\",\"20190105\",\"20190105\",\"20190105\"]]"
      ]
     },
     "execution_count": 17,
     "metadata": {},
     "output_type": "execute_result"
    }
   ],
   "source": [
    "my_flow = Flow.from_dict(flow.as_dict())\n",
    "my_flow.run()"
   ]
  },
  {
   "cell_type": "code",
   "execution_count": null,
   "metadata": {},
   "outputs": [],
   "source": []
  },
  {
   "cell_type": "markdown",
   "metadata": {},
   "source": [
    "# 4. Feature Group "
   ]
  },
  {
   "cell_type": "code",
   "execution_count": 7,
   "metadata": {},
   "outputs": [
    {
     "name": "stderr",
     "output_type": "stream",
     "text": [
      "24/12/29 12:16:55 WARN HiveConf: HiveConf of name hive.stats.jdbc.timeout does not exist\n",
      "24/12/29 12:16:55 WARN HiveConf: HiveConf of name hive.stats.retries.wait does not exist\n",
      "24/12/29 12:16:56 WARN ObjectStore: Version information not found in metastore. hive.metastore.schema.verification is not enabled so recording the schema version 2.3.0\n",
      "24/12/29 12:16:56 WARN ObjectStore: setMetaStoreSchemaVersion called but recording version is disabled: version = 2.3.0, comment = Set by MetaStore fitrakacamarga@192.168.50.152\n"
     ]
    },
    {
     "ename": "AnalysisException",
     "evalue": "[TABLE_OR_VIEW_ALREADY_EXISTS] Cannot create table or view `spark_catalog`.`default`.`comm_day` because it already exists.\nChoose a different name, drop or replace the existing object, or add the IF NOT EXISTS clause to tolerate pre-existing objects.",
     "output_type": "error",
     "traceback": [
      "\u001b[0;31m---------------------------------------------------------------------------\u001b[0m",
      "\u001b[0;31mAnalysisException\u001b[0m                         Traceback (most recent call last)",
      "Cell \u001b[0;32mIn[7], line 2\u001b[0m\n\u001b[1;32m      1\u001b[0m comm_day \u001b[38;5;241m=\u001b[39m spark\u001b[38;5;241m.\u001b[39mread\u001b[38;5;241m.\u001b[39mformat(\u001b[38;5;124m\"\u001b[39m\u001b[38;5;124mparquet\u001b[39m\u001b[38;5;124m\"\u001b[39m)\u001b[38;5;241m.\u001b[39mload(\u001b[38;5;124m\"\u001b[39m\u001b[38;5;124mseeknal/tests/data/feateng_comm_day\u001b[39m\u001b[38;5;124m\"\u001b[39m)\n\u001b[0;32m----> 2\u001b[0m \u001b[43mcomm_day\u001b[49m\u001b[38;5;241;43m.\u001b[39;49m\u001b[43mwrite\u001b[49m\u001b[38;5;241;43m.\u001b[39;49m\u001b[43msaveAsTable\u001b[49m\u001b[43m(\u001b[49m\u001b[38;5;124;43m\"\u001b[39;49m\u001b[38;5;124;43mcomm_day\u001b[39;49m\u001b[38;5;124;43m\"\u001b[39;49m\u001b[43m)\u001b[49m\n",
      "File \u001b[0;32m~/.sdkman/candidates/spark/current/python/pyspark/sql/readwriter.py:1586\u001b[0m, in \u001b[0;36mDataFrameWriter.saveAsTable\u001b[0;34m(self, name, format, mode, partitionBy, **options)\u001b[0m\n\u001b[1;32m   1584\u001b[0m \u001b[38;5;28;01mif\u001b[39;00m \u001b[38;5;28mformat\u001b[39m \u001b[38;5;129;01mis\u001b[39;00m \u001b[38;5;129;01mnot\u001b[39;00m \u001b[38;5;28;01mNone\u001b[39;00m:\n\u001b[1;32m   1585\u001b[0m     \u001b[38;5;28mself\u001b[39m\u001b[38;5;241m.\u001b[39mformat(\u001b[38;5;28mformat\u001b[39m)\n\u001b[0;32m-> 1586\u001b[0m \u001b[38;5;28;43mself\u001b[39;49m\u001b[38;5;241;43m.\u001b[39;49m\u001b[43m_jwrite\u001b[49m\u001b[38;5;241;43m.\u001b[39;49m\u001b[43msaveAsTable\u001b[49m\u001b[43m(\u001b[49m\u001b[43mname\u001b[49m\u001b[43m)\u001b[49m\n",
      "File \u001b[0;32m~/.sdkman/candidates/spark/current/python/lib/py4j-0.10.9.7-src.zip/py4j/java_gateway.py:1322\u001b[0m, in \u001b[0;36mJavaMember.__call__\u001b[0;34m(self, *args)\u001b[0m\n\u001b[1;32m   1316\u001b[0m command \u001b[38;5;241m=\u001b[39m proto\u001b[38;5;241m.\u001b[39mCALL_COMMAND_NAME \u001b[38;5;241m+\u001b[39m\\\n\u001b[1;32m   1317\u001b[0m     \u001b[38;5;28mself\u001b[39m\u001b[38;5;241m.\u001b[39mcommand_header \u001b[38;5;241m+\u001b[39m\\\n\u001b[1;32m   1318\u001b[0m     args_command \u001b[38;5;241m+\u001b[39m\\\n\u001b[1;32m   1319\u001b[0m     proto\u001b[38;5;241m.\u001b[39mEND_COMMAND_PART\n\u001b[1;32m   1321\u001b[0m answer \u001b[38;5;241m=\u001b[39m \u001b[38;5;28mself\u001b[39m\u001b[38;5;241m.\u001b[39mgateway_client\u001b[38;5;241m.\u001b[39msend_command(command)\n\u001b[0;32m-> 1322\u001b[0m return_value \u001b[38;5;241m=\u001b[39m \u001b[43mget_return_value\u001b[49m\u001b[43m(\u001b[49m\n\u001b[1;32m   1323\u001b[0m \u001b[43m    \u001b[49m\u001b[43manswer\u001b[49m\u001b[43m,\u001b[49m\u001b[43m \u001b[49m\u001b[38;5;28;43mself\u001b[39;49m\u001b[38;5;241;43m.\u001b[39;49m\u001b[43mgateway_client\u001b[49m\u001b[43m,\u001b[49m\u001b[43m \u001b[49m\u001b[38;5;28;43mself\u001b[39;49m\u001b[38;5;241;43m.\u001b[39;49m\u001b[43mtarget_id\u001b[49m\u001b[43m,\u001b[49m\u001b[43m \u001b[49m\u001b[38;5;28;43mself\u001b[39;49m\u001b[38;5;241;43m.\u001b[39;49m\u001b[43mname\u001b[49m\u001b[43m)\u001b[49m\n\u001b[1;32m   1325\u001b[0m \u001b[38;5;28;01mfor\u001b[39;00m temp_arg \u001b[38;5;129;01min\u001b[39;00m temp_args:\n\u001b[1;32m   1326\u001b[0m     \u001b[38;5;28;01mif\u001b[39;00m \u001b[38;5;28mhasattr\u001b[39m(temp_arg, \u001b[38;5;124m\"\u001b[39m\u001b[38;5;124m_detach\u001b[39m\u001b[38;5;124m\"\u001b[39m):\n",
      "File \u001b[0;32m~/.sdkman/candidates/spark/current/python/pyspark/errors/exceptions/captured.py:185\u001b[0m, in \u001b[0;36mcapture_sql_exception.<locals>.deco\u001b[0;34m(*a, **kw)\u001b[0m\n\u001b[1;32m    181\u001b[0m converted \u001b[38;5;241m=\u001b[39m convert_exception(e\u001b[38;5;241m.\u001b[39mjava_exception)\n\u001b[1;32m    182\u001b[0m \u001b[38;5;28;01mif\u001b[39;00m \u001b[38;5;129;01mnot\u001b[39;00m \u001b[38;5;28misinstance\u001b[39m(converted, UnknownException):\n\u001b[1;32m    183\u001b[0m     \u001b[38;5;66;03m# Hide where the exception came from that shows a non-Pythonic\u001b[39;00m\n\u001b[1;32m    184\u001b[0m     \u001b[38;5;66;03m# JVM exception message.\u001b[39;00m\n\u001b[0;32m--> 185\u001b[0m     \u001b[38;5;28;01mraise\u001b[39;00m converted \u001b[38;5;28;01mfrom\u001b[39;00m \u001b[38;5;28;01mNone\u001b[39;00m\n\u001b[1;32m    186\u001b[0m \u001b[38;5;28;01melse\u001b[39;00m:\n\u001b[1;32m    187\u001b[0m     \u001b[38;5;28;01mraise\u001b[39;00m\n",
      "\u001b[0;31mAnalysisException\u001b[0m: [TABLE_OR_VIEW_ALREADY_EXISTS] Cannot create table or view `spark_catalog`.`default`.`comm_day` because it already exists.\nChoose a different name, drop or replace the existing object, or add the IF NOT EXISTS clause to tolerate pre-existing objects."
     ]
    }
   ],
   "source": [
    "comm_day = spark.read.format(\"parquet\").load(\"seeknal/tests/data/feateng_comm_day\")\n",
    "comm_day.write.saveAsTable(\"comm_day\")"
   ]
  },
  {
   "cell_type": "code",
   "execution_count": 8,
   "metadata": {},
   "outputs": [
    {
     "name": "stderr",
     "output_type": "stream",
     "text": [
      "24/12/30 15:37:04 WARN HiveConf: HiveConf of name hive.stats.jdbc.timeout does not exist\n",
      "24/12/30 15:37:04 WARN HiveConf: HiveConf of name hive.stats.retries.wait does not exist\n",
      "24/12/30 15:37:06 WARN ObjectStore: Version information not found in metastore. hive.metastore.schema.verification is not enabled so recording the schema version 2.3.0\n",
      "24/12/30 15:37:06 WARN ObjectStore: setMetaStoreSchemaVersion called but recording version is disabled: version = 2.3.0, comment = Set by MetaStore fitrakacamarga@192.168.50.152\n",
      "24/12/30 15:37:08 WARN SparkStringUtils: Truncated the string representation of a plan since it was too large. This behavior can be adjusted by setting 'spark.sql.debug.maxToStringFields'.\n",
      "                                                                                \r"
     ]
    },
    {
     "name": "stdout",
     "output_type": "stream",
     "text": [
      "+------------------+-------------------+---------------------+-----------------+------------------+--------------------+---------------------+----------------------+------------------------+-------------------------+--------------------------+----------------------------+------------------------+-------------------------+---------------------------+----------------------------+-----------------------------+-------------------------------+---------------------+----------------------+------------------------+-------------------------+------------------------+--------------------------+-------------------------+----------------------------+---------------------------+-----------------------+------------------------+----------------------+-----------------------+--------------------------+---------------------------+----------+----------+\n",
      "|comm_count_call_in|comm_count_call_out|comm_count_call_inout|comm_count_sms_in|comm_count_sms_out|comm_count_sms_inout|comm_count_callsms_in|comm_count_callsms_out|comm_count_callsms_inout|comm_roamingcount_call_in|comm_roamingcount_call_out|comm_roamingcount_call_inout|comm_roamingcount_sms_in|comm_roamingcount_sms_out|comm_roamingcount_sms_inout|comm_roamingcount_callsms_in|comm_roamingcount_callsms_out|comm_roamingcount_callsms_inout|comm_duration_call_in|comm_duration_call_out|comm_duration_call_inout|comm_callratio_callsms_in|comm_smsratio_callsms_in|comm_callratio_callsms_out|comm_smsratio_callsms_out|comm_callratio_callsms_inout|comm_smsratio_callsms_inout|comm_inratio_inout_call|comm_outratio_inout_call|comm_inratio_inout_sms|comm_outratio_inout_sms|comm_inratio_inout_callsms|comm_outratio_inout_callsms|       day|    msisdn|\n",
      "+------------------+-------------------+---------------------+-----------------+------------------+--------------------+---------------------+----------------------+------------------------+-------------------------+--------------------------+----------------------------+------------------------+-------------------------+---------------------------+----------------------------+-----------------------------+-------------------------------+---------------------+----------------------+------------------------+-------------------------+------------------------+--------------------------+-------------------------+----------------------------+---------------------------+-----------------------+------------------------+----------------------+-----------------------+--------------------------+---------------------------+----------+----------+\n",
      "|                 0|                  0|                    0|                0|                 3|                   3|                    0|                     3|                       3|                        0|                         0|                           0|                       0|                        0|                          0|                           0|                            0|                              0|                  0.0|                   0.0|                     0.0|                      NaN|                     NaN|                       0.0|                      1.0|                         0.0|                        1.0|                    NaN|                     NaN|                   0.0|                    1.0|                       0.0|                        1.0|2019-02-09|ylwfV26d4W|\n",
      "|                 0|                  0|                    0|                0|                 8|                   8|                    0|                     8|                       8|                        0|                         0|                           0|                       0|                        0|                          0|                           0|                            0|                              0|                  0.0|                   0.0|                     0.0|                      NaN|                     NaN|                       0.0|                      1.0|                         0.0|                        1.0|                    NaN|                     NaN|                   0.0|                    1.0|                       0.0|                        1.0|2019-02-09|Y6rmeEfTBE|\n",
      "|                 0|                  3|                    3|                0|                 0|                   0|                    0|                     3|                       3|                        0|                         0|                           0|                       0|                        0|                          0|                           0|                            0|                              0|                  0.0|                 648.0|                   648.0|                      NaN|                     NaN|                       1.0|                      0.0|                         1.0|                        0.0|                    0.0|                     1.0|                   NaN|                    NaN|                       0.0|                        1.0|2019-02-09|LywEoDHyIG|\n",
      "|                 0|                  7|                    7|                0|                 0|                   0|                    0|                     7|                       7|                        0|                         0|                           0|                       0|                        0|                          0|                           0|                            0|                              0|                  0.0|                 702.0|                   702.0|                      NaN|                     NaN|                       1.0|                      0.0|                         1.0|                        0.0|                    0.0|                     1.0|                   NaN|                    NaN|                       0.0|                        1.0|2019-03-05|5n15U4jAKi|\n",
      "|                 0|                  0|                    0|                0|                 3|                   3|                    0|                     3|                       3|                        0|                         0|                           0|                       0|                        0|                          0|                           0|                            0|                              0|                  0.0|                   0.0|                     0.0|                      NaN|                     NaN|                       0.0|                      1.0|                         0.0|                        1.0|                    NaN|                     NaN|                   0.0|                    1.0|                       0.0|                        1.0|2019-03-05|qnl8ojGT5D|\n",
      "|                 0|                  2|                    2|                0|                 0|                   0|                    0|                     2|                       2|                        0|                         0|                           0|                       0|                        0|                          0|                           0|                            0|                              0|                  0.0|                 694.0|                   694.0|                      NaN|                     NaN|                       1.0|                      0.0|                         1.0|                        0.0|                    0.0|                     1.0|                   NaN|                    NaN|                       0.0|                        1.0|2019-03-05|xKogv68up7|\n",
      "|                 0|                  5|                    5|                0|                 0|                   0|                    0|                     5|                       5|                        0|                         0|                           0|                       0|                        0|                          0|                           0|                            0|                              0|                  0.0|                 672.0|                   672.0|                      NaN|                     NaN|                       1.0|                      0.0|                         1.0|                        0.0|                    0.0|                     1.0|                   NaN|                    NaN|                       0.0|                        1.0|2019-03-05|EkWzXOTo8i|\n",
      "|                 5|                  0|                    5|                0|                 0|                   0|                    5|                     0|                       5|                        0|                         0|                           0|                       0|                        0|                          0|                           0|                            0|                              0|                641.0|                   0.0|                   641.0|                      1.0|                     0.0|                       NaN|                      NaN|                         1.0|                        0.0|                    1.0|                     0.0|                   NaN|                    NaN|                       1.0|                        0.0|2019-03-05|oNMxuCvNid|\n",
      "|                 0|                  5|                    5|                0|                 0|                   0|                    0|                     5|                       5|                        0|                         0|                           0|                       0|                        0|                          0|                           0|                            0|                              0|                  0.0|                 614.0|                   614.0|                      NaN|                     NaN|                       1.0|                      0.0|                         1.0|                        0.0|                    0.0|                     1.0|                   NaN|                    NaN|                       0.0|                        1.0|2019-03-05|vSuMsPVYon|\n",
      "|                 0|                  8|                    8|                0|                 0|                   0|                    0|                     8|                       8|                        0|                         8|                           8|                       0|                        0|                          0|                           0|                            8|                              8|                  0.0|                 238.0|                   238.0|                      NaN|                     NaN|                       1.0|                      0.0|                         1.0|                        0.0|                    0.0|                     1.0|                   NaN|                    NaN|                       0.0|                        1.0|2019-03-05|PagiO2XQ57|\n",
      "|                 0|                  6|                    6|                0|                 0|                   0|                    0|                     6|                       6|                        0|                         6|                           6|                       0|                        0|                          0|                           0|                            6|                              6|                  0.0|                 377.0|                   377.0|                      NaN|                     NaN|                       1.0|                      0.0|                         1.0|                        0.0|                    0.0|                     1.0|                   NaN|                    NaN|                       0.0|                        1.0|2019-01-05|P4ucdsQOtt|\n",
      "|                 0|                  0|                    0|                0|                 5|                   5|                    0|                     5|                       5|                        0|                         0|                           0|                       0|                        0|                          0|                           0|                            0|                              0|                  0.0|                   0.0|                     0.0|                      NaN|                     NaN|                       0.0|                      1.0|                         0.0|                        1.0|                    NaN|                     NaN|                   0.0|                    1.0|                       0.0|                        1.0|2019-03-29|lUla54DcPy|\n",
      "|                 0|                  0|                    0|                0|                 2|                   2|                    0|                     2|                       2|                        0|                         0|                           0|                       0|                        0|                          0|                           0|                            0|                              0|                  0.0|                   0.0|                     0.0|                      NaN|                     NaN|                       0.0|                      1.0|                         0.0|                        1.0|                    NaN|                     NaN|                   0.0|                    1.0|                       0.0|                        1.0|2019-03-29|CGQq9cH0wT|\n",
      "|                 0|                  8|                    8|                0|                 0|                   0|                    0|                     8|                       8|                        0|                         0|                           0|                       0|                        0|                          0|                           0|                            0|                              0|                  0.0|                 316.0|                   316.0|                      NaN|                     NaN|                       1.0|                      0.0|                         1.0|                        0.0|                    0.0|                     1.0|                   NaN|                    NaN|                       0.0|                        1.0|2019-03-29|Vq8J0MGxgn|\n",
      "|                 0|                  0|                    0|                4|                 0|                   4|                    4|                     0|                       4|                        0|                         0|                           0|                       0|                        0|                          0|                           0|                            0|                              0|                  0.0|                   0.0|                     0.0|                      0.0|                     1.0|                       NaN|                      NaN|                         0.0|                        1.0|                    NaN|                     NaN|                   1.0|                    0.0|                       1.0|                        0.0|2019-03-29|bksqgxEFGS|\n",
      "|                 0|                  0|                    0|                0|                 0|                   0|                    0|                     0|                       0|                        0|                         0|                           0|                       0|                        0|                          0|                           0|                            0|                              0|                  0.0|                   0.0|                     0.0|                      NaN|                     NaN|                       NaN|                      NaN|                         NaN|                        NaN|                    NaN|                     NaN|                   NaN|                    NaN|                       NaN|                        NaN|2019-03-03|qfmDbSvg2W|\n",
      "|                 0|                  0|                    0|                0|                 7|                   7|                    0|                     7|                       7|                        0|                         0|                           0|                       0|                        7|                          7|                           0|                            7|                              7|                  0.0|                   0.0|                     0.0|                      NaN|                     NaN|                       0.0|                      1.0|                         0.0|                        1.0|                    NaN|                     NaN|                   0.0|                    1.0|                       0.0|                        1.0|2019-03-03|8BbVIAWUdx|\n",
      "|                 3|                  0|                    3|                0|                 0|                   0|                    3|                     0|                       3|                        0|                         0|                           0|                       0|                        0|                          0|                           0|                            0|                              0|                364.0|                   0.0|                   364.0|                      1.0|                     0.0|                       NaN|                      NaN|                         1.0|                        0.0|                    1.0|                     0.0|                   NaN|                    NaN|                       1.0|                        0.0|2019-03-03|T9KUrRFqkk|\n",
      "|                 0|                  4|                    4|                0|                 0|                   0|                    0|                     4|                       4|                        0|                         0|                           0|                       0|                        0|                          0|                           0|                            0|                              0|                  0.0|                  46.0|                    46.0|                      NaN|                     NaN|                       1.0|                      0.0|                         1.0|                        0.0|                    0.0|                     1.0|                   NaN|                    NaN|                       0.0|                        1.0|2019-03-03|ymS8ZZZf1Q|\n",
      "|                 0|                  3|                    3|                0|                 0|                   0|                    0|                     3|                       3|                        0|                         0|                           0|                       0|                        0|                          0|                           0|                            0|                              0|                  0.0|                  93.0|                    93.0|                      NaN|                     NaN|                       1.0|                      0.0|                         1.0|                        0.0|                    0.0|                     1.0|                   NaN|                    NaN|                       0.0|                        1.0|2019-03-03|vy5H8MaN2l|\n",
      "+------------------+-------------------+---------------------+-----------------+------------------+--------------------+---------------------+----------------------+------------------------+-------------------------+--------------------------+----------------------------+------------------------+-------------------------+---------------------------+----------------------------+-----------------------------+-------------------------------+---------------------+----------------------+------------------------+-------------------------+------------------------+--------------------------+-------------------------+----------------------------+---------------------------+-----------------------+------------------------+----------------------+-----------------------+--------------------------+---------------------------+----------+----------+\n",
      "only showing top 20 rows\n",
      "\n"
     ]
    }
   ],
   "source": [
    "spark.table(\"comm_day\").show()"
   ]
  },
  {
   "cell_type": "code",
   "execution_count": 11,
   "metadata": {},
   "outputs": [
    {
     "ename": "AnalysisException",
     "evalue": "[TABLE_OR_VIEW_NOT_FOUND] The table or view `spark_catalog`.`seeknal`.`fg_1__1` cannot be found. Verify the spelling and correctness of the schema and catalog.\nIf you did not qualify the name with a schema, verify the current_schema() output, or qualify the name with the correct schema and catalog.\nTo tolerate the error on drop use DROP VIEW IF EXISTS or DROP TABLE IF EXISTS.",
     "output_type": "error",
     "traceback": [
      "\u001b[0;31m---------------------------------------------------------------------------\u001b[0m",
      "\u001b[0;31mAnalysisException\u001b[0m                         Traceback (most recent call last)",
      "Cell \u001b[0;32mIn[11], line 1\u001b[0m\n\u001b[0;32m----> 1\u001b[0m \u001b[43mspark\u001b[49m\u001b[38;5;241;43m.\u001b[39;49m\u001b[43msql\u001b[49m\u001b[43m(\u001b[49m\u001b[38;5;124;43m\"\u001b[39;49m\u001b[38;5;124;43mDROP TABLE seeknal.fg_1__1\u001b[39;49m\u001b[38;5;124;43m\"\u001b[39;49m\u001b[43m)\u001b[49m\n",
      "File \u001b[0;32m~/.sdkman/candidates/spark/current/python/pyspark/sql/session.py:1631\u001b[0m, in \u001b[0;36mSparkSession.sql\u001b[0;34m(self, sqlQuery, args, **kwargs)\u001b[0m\n\u001b[1;32m   1627\u001b[0m         \u001b[38;5;28;01massert\u001b[39;00m \u001b[38;5;28mself\u001b[39m\u001b[38;5;241m.\u001b[39m_jvm \u001b[38;5;129;01mis\u001b[39;00m \u001b[38;5;129;01mnot\u001b[39;00m \u001b[38;5;28;01mNone\u001b[39;00m\n\u001b[1;32m   1628\u001b[0m         litArgs \u001b[38;5;241m=\u001b[39m \u001b[38;5;28mself\u001b[39m\u001b[38;5;241m.\u001b[39m_jvm\u001b[38;5;241m.\u001b[39mPythonUtils\u001b[38;5;241m.\u001b[39mtoArray(\n\u001b[1;32m   1629\u001b[0m             [_to_java_column(lit(v)) \u001b[38;5;28;01mfor\u001b[39;00m v \u001b[38;5;129;01min\u001b[39;00m (args \u001b[38;5;129;01mor\u001b[39;00m [])]\n\u001b[1;32m   1630\u001b[0m         )\n\u001b[0;32m-> 1631\u001b[0m     \u001b[38;5;28;01mreturn\u001b[39;00m DataFrame(\u001b[38;5;28;43mself\u001b[39;49m\u001b[38;5;241;43m.\u001b[39;49m\u001b[43m_jsparkSession\u001b[49m\u001b[38;5;241;43m.\u001b[39;49m\u001b[43msql\u001b[49m\u001b[43m(\u001b[49m\u001b[43msqlQuery\u001b[49m\u001b[43m,\u001b[49m\u001b[43m \u001b[49m\u001b[43mlitArgs\u001b[49m\u001b[43m)\u001b[49m, \u001b[38;5;28mself\u001b[39m)\n\u001b[1;32m   1632\u001b[0m \u001b[38;5;28;01mfinally\u001b[39;00m:\n\u001b[1;32m   1633\u001b[0m     \u001b[38;5;28;01mif\u001b[39;00m \u001b[38;5;28mlen\u001b[39m(kwargs) \u001b[38;5;241m>\u001b[39m \u001b[38;5;241m0\u001b[39m:\n",
      "File \u001b[0;32m~/.sdkman/candidates/spark/current/python/lib/py4j-0.10.9.7-src.zip/py4j/java_gateway.py:1322\u001b[0m, in \u001b[0;36mJavaMember.__call__\u001b[0;34m(self, *args)\u001b[0m\n\u001b[1;32m   1316\u001b[0m command \u001b[38;5;241m=\u001b[39m proto\u001b[38;5;241m.\u001b[39mCALL_COMMAND_NAME \u001b[38;5;241m+\u001b[39m\\\n\u001b[1;32m   1317\u001b[0m     \u001b[38;5;28mself\u001b[39m\u001b[38;5;241m.\u001b[39mcommand_header \u001b[38;5;241m+\u001b[39m\\\n\u001b[1;32m   1318\u001b[0m     args_command \u001b[38;5;241m+\u001b[39m\\\n\u001b[1;32m   1319\u001b[0m     proto\u001b[38;5;241m.\u001b[39mEND_COMMAND_PART\n\u001b[1;32m   1321\u001b[0m answer \u001b[38;5;241m=\u001b[39m \u001b[38;5;28mself\u001b[39m\u001b[38;5;241m.\u001b[39mgateway_client\u001b[38;5;241m.\u001b[39msend_command(command)\n\u001b[0;32m-> 1322\u001b[0m return_value \u001b[38;5;241m=\u001b[39m \u001b[43mget_return_value\u001b[49m\u001b[43m(\u001b[49m\n\u001b[1;32m   1323\u001b[0m \u001b[43m    \u001b[49m\u001b[43manswer\u001b[49m\u001b[43m,\u001b[49m\u001b[43m \u001b[49m\u001b[38;5;28;43mself\u001b[39;49m\u001b[38;5;241;43m.\u001b[39;49m\u001b[43mgateway_client\u001b[49m\u001b[43m,\u001b[49m\u001b[43m \u001b[49m\u001b[38;5;28;43mself\u001b[39;49m\u001b[38;5;241;43m.\u001b[39;49m\u001b[43mtarget_id\u001b[49m\u001b[43m,\u001b[49m\u001b[43m \u001b[49m\u001b[38;5;28;43mself\u001b[39;49m\u001b[38;5;241;43m.\u001b[39;49m\u001b[43mname\u001b[49m\u001b[43m)\u001b[49m\n\u001b[1;32m   1325\u001b[0m \u001b[38;5;28;01mfor\u001b[39;00m temp_arg \u001b[38;5;129;01min\u001b[39;00m temp_args:\n\u001b[1;32m   1326\u001b[0m     \u001b[38;5;28;01mif\u001b[39;00m \u001b[38;5;28mhasattr\u001b[39m(temp_arg, \u001b[38;5;124m\"\u001b[39m\u001b[38;5;124m_detach\u001b[39m\u001b[38;5;124m\"\u001b[39m):\n",
      "File \u001b[0;32m~/.sdkman/candidates/spark/current/python/pyspark/errors/exceptions/captured.py:185\u001b[0m, in \u001b[0;36mcapture_sql_exception.<locals>.deco\u001b[0;34m(*a, **kw)\u001b[0m\n\u001b[1;32m    181\u001b[0m converted \u001b[38;5;241m=\u001b[39m convert_exception(e\u001b[38;5;241m.\u001b[39mjava_exception)\n\u001b[1;32m    182\u001b[0m \u001b[38;5;28;01mif\u001b[39;00m \u001b[38;5;129;01mnot\u001b[39;00m \u001b[38;5;28misinstance\u001b[39m(converted, UnknownException):\n\u001b[1;32m    183\u001b[0m     \u001b[38;5;66;03m# Hide where the exception came from that shows a non-Pythonic\u001b[39;00m\n\u001b[1;32m    184\u001b[0m     \u001b[38;5;66;03m# JVM exception message.\u001b[39;00m\n\u001b[0;32m--> 185\u001b[0m     \u001b[38;5;28;01mraise\u001b[39;00m converted \u001b[38;5;28;01mfrom\u001b[39;00m \u001b[38;5;28;01mNone\u001b[39;00m\n\u001b[1;32m    186\u001b[0m \u001b[38;5;28;01melse\u001b[39;00m:\n\u001b[1;32m    187\u001b[0m     \u001b[38;5;28;01mraise\u001b[39;00m\n",
      "\u001b[0;31mAnalysisException\u001b[0m: [TABLE_OR_VIEW_NOT_FOUND] The table or view `spark_catalog`.`seeknal`.`fg_1__1` cannot be found. Verify the spelling and correctness of the schema and catalog.\nIf you did not qualify the name with a schema, verify the current_schema() output, or qualify the name with the correct schema and catalog.\nTo tolerate the error on drop use DROP VIEW IF EXISTS or DROP TABLE IF EXISTS."
     ]
    }
   ],
   "source": [
    "spark.sql(\"DROP TABLE seeknal.fg_1__1\")"
   ]
  },
  {
   "cell_type": "code",
   "execution_count": 9,
   "metadata": {},
   "outputs": [
    {
     "data": {
      "text/plain": [
       "seeknal.featurestore.featurestore.FeatureStoreFileOutput"
      ]
     },
     "execution_count": 9,
     "metadata": {},
     "output_type": "execute_result"
    }
   ],
   "source": [
    "FeatureStoreFileOutput"
   ]
  },
  {
   "cell_type": "code",
   "execution_count": 10,
   "metadata": {},
   "outputs": [],
   "source": [
    "materialization = Materialization(event_time_col=\"day\", \n",
    "offline_materialization=OfflineMaterialization(\n",
    "    store=OfflineStore(kind=OfflineStoreEnum.FILE, \n",
    "                       name=\"object_storage\",\n",
    "                       value=FeatureStoreFileOutput(path=\"s3a://warehouse/feature_store\")), \n",
    "                       mode=\"overwrite\", ttl=None),\n",
    "    offline=True)"
   ]
  },
  {
   "cell_type": "code",
   "execution_count": 11,
   "metadata": {},
   "outputs": [
    {
     "name": "stdout",
     "output_type": "stream",
     "text": [
      "[2024-12-30 15:42:12+0700] WARNING - seeknal | Using an existing Flow.\n",
      "[2024-12-30 15:42:12+0700] WARNING - seeknal | Using an existing Flow.\n"
     ]
    },
    {
     "name": "stderr",
     "output_type": "stream",
     "text": [
      "24/12/30 15:42:12 WARN SparkSession: Using an existing Spark session; only runtime SQL configurations will take effect.\n"
     ]
    },
    {
     "name": "stdout",
     "output_type": "stream",
     "text": [
      "[2024-12-30 15:42:13+0700] WARNING - seeknal | Feature group already exists. Loading the feature group.\n",
      "[2024-12-30 15:42:13+0700] WARNING - seeknal | Feature group already exists. Loading the feature group.\n"
     ]
    },
    {
     "name": "stderr",
     "output_type": "stream",
     "text": [
      "/Users/fitrakacamarga/project/mta/signal/.venv/lib/python3.11/site-packages/pydantic/main.py:426: UserWarning: Pydantic serializer warnings:\n",
      "  PydanticSerializationUnexpectedValue: Expected `str` but got `dict` with value `{'path': 's3a://warehouse...store', 'kind': 'delta'}` - serialized value may not be as expected\n",
      "  PydanticSerializationUnexpectedValue: Expected `FeatureStoreFileOutput` but got `dict` with value `{'path': 's3a://warehouse...store', 'kind': 'delta'}` - serialized value may not be as expected\n",
      "  PydanticSerializationUnexpectedValue: Expected `FeatureStoreHiveTableOutput` but got `dict` with value `{'path': 's3a://warehouse...store', 'kind': 'delta'}` - serialized value may not be as expected\n",
      "  Expected `enum` but got `str` with value `'file'` - serialized value may not be as expected\n",
      "  return self.__pydantic_serializer__.to_python(\n"
     ]
    },
    {
     "name": "stdout",
     "output_type": "stream",
     "text": [
      "[2024-12-30 15:42:13+0700] WARNING - seeknal | Using an existing Flow.\n",
      "[2024-12-30 15:42:13+0700] WARNING - seeknal | Using an existing Flow.\n"
     ]
    },
    {
     "data": {
      "text/plain": [
       "FeatureGroup(name='comm_day_three', entity=Entity(name='msisdn', join_keys=['msisdn'], pii_keys=None, description=None), id=3, materialization=Materialization(event_time_col='day', date_pattern=None, offline=True, online=False, offline_materialization=OfflineMaterialization(store=OfflineStore(value=FeatureStoreFileOutput(path='s3a://warehouse/feature_store', kind=<FileKindEnum.DELTA: 'delta'>), kind='file', name='object_storage'), mode='overwrite', ttl=None), online_materialization=OnlineMaterialization(store=OnlineStore(value=None, kind='file', name=None), ttl=1440)), source=Flow(name='my_flow_for_fg', input=FlowInput(value='comm_day', kind=<FlowInputEnum.HIVE_TABLE: 'hive_table'>), input_date_col=None, tasks=None, output=FlowOutput(value=None, kind=<FlowOutputEnum.SPARK_DATAFRAME: 'spark_dataframe'>), description=''), description=None, features=[Feature(name='comm_count_call_in', feature_id='67', description='', data_type='long', online_data_type='long', created_at='2024-12-30 02:51:17', updated_at='2024-12-30 02:51:17'), Feature(name='comm_count_call_out', feature_id='68', description='', data_type='long', online_data_type='long', created_at='2024-12-30 02:51:17', updated_at='2024-12-30 02:51:17'), Feature(name='comm_count_call_inout', feature_id='69', description='', data_type='long', online_data_type='long', created_at='2024-12-30 02:51:17', updated_at='2024-12-30 02:51:17'), Feature(name='comm_count_sms_in', feature_id='70', description='', data_type='long', online_data_type='long', created_at='2024-12-30 02:51:17', updated_at='2024-12-30 02:51:17'), Feature(name='comm_count_sms_out', feature_id='71', description='', data_type='long', online_data_type='long', created_at='2024-12-30 02:51:18', updated_at='2024-12-30 02:51:18'), Feature(name='comm_count_sms_inout', feature_id='72', description='', data_type='long', online_data_type='long', created_at='2024-12-30 02:51:18', updated_at='2024-12-30 02:51:18'), Feature(name='comm_count_callsms_in', feature_id='73', description='', data_type='long', online_data_type='long', created_at='2024-12-30 02:51:18', updated_at='2024-12-30 02:51:18'), Feature(name='comm_count_callsms_out', feature_id='74', description='', data_type='long', online_data_type='long', created_at='2024-12-30 02:51:18', updated_at='2024-12-30 02:51:18'), Feature(name='comm_count_callsms_inout', feature_id='75', description='', data_type='long', online_data_type='long', created_at='2024-12-30 02:51:18', updated_at='2024-12-30 02:51:18'), Feature(name='comm_roamingcount_call_in', feature_id='76', description='', data_type='long', online_data_type='long', created_at='2024-12-30 02:51:19', updated_at='2024-12-30 02:51:19'), Feature(name='comm_roamingcount_call_out', feature_id='77', description='', data_type='long', online_data_type='long', created_at='2024-12-30 02:51:19', updated_at='2024-12-30 02:51:19'), Feature(name='comm_roamingcount_call_inout', feature_id='78', description='', data_type='long', online_data_type='long', created_at='2024-12-30 02:51:19', updated_at='2024-12-30 02:51:19'), Feature(name='comm_roamingcount_sms_in', feature_id='79', description='', data_type='long', online_data_type='long', created_at='2024-12-30 02:51:19', updated_at='2024-12-30 02:51:19'), Feature(name='comm_roamingcount_sms_out', feature_id='80', description='', data_type='long', online_data_type='long', created_at='2024-12-30 02:51:19', updated_at='2024-12-30 02:51:19'), Feature(name='comm_roamingcount_sms_inout', feature_id='81', description='', data_type='long', online_data_type='long', created_at='2024-12-30 02:51:20', updated_at='2024-12-30 02:51:20'), Feature(name='comm_roamingcount_callsms_in', feature_id='82', description='', data_type='long', online_data_type='long', created_at='2024-12-30 02:51:20', updated_at='2024-12-30 02:51:20'), Feature(name='comm_roamingcount_callsms_out', feature_id='83', description='', data_type='long', online_data_type='long', created_at='2024-12-30 02:51:20', updated_at='2024-12-30 02:51:20'), Feature(name='comm_roamingcount_callsms_inout', feature_id='84', description='', data_type='long', online_data_type='long', created_at='2024-12-30 02:51:20', updated_at='2024-12-30 02:51:20'), Feature(name='comm_duration_call_in', feature_id='85', description='', data_type='double', online_data_type='double', created_at='2024-12-30 02:51:20', updated_at='2024-12-30 02:51:20'), Feature(name='comm_duration_call_out', feature_id='86', description='', data_type='double', online_data_type='double', created_at='2024-12-30 02:51:21', updated_at='2024-12-30 02:51:21'), Feature(name='comm_duration_call_inout', feature_id='87', description='', data_type='double', online_data_type='double', created_at='2024-12-30 02:51:21', updated_at='2024-12-30 02:51:21'), Feature(name='comm_callratio_callsms_in', feature_id='88', description='', data_type='double', online_data_type='double', created_at='2024-12-30 02:51:21', updated_at='2024-12-30 02:51:21'), Feature(name='comm_smsratio_callsms_in', feature_id='89', description='', data_type='double', online_data_type='double', created_at='2024-12-30 02:51:21', updated_at='2024-12-30 02:51:21'), Feature(name='comm_callratio_callsms_out', feature_id='90', description='', data_type='double', online_data_type='double', created_at='2024-12-30 02:51:21', updated_at='2024-12-30 02:51:21'), Feature(name='comm_smsratio_callsms_out', feature_id='91', description='', data_type='double', online_data_type='double', created_at='2024-12-30 02:51:22', updated_at='2024-12-30 02:51:22'), Feature(name='comm_callratio_callsms_inout', feature_id='92', description='', data_type='double', online_data_type='double', created_at='2024-12-30 02:51:22', updated_at='2024-12-30 02:51:22'), Feature(name='comm_smsratio_callsms_inout', feature_id='93', description='', data_type='double', online_data_type='double', created_at='2024-12-30 02:51:22', updated_at='2024-12-30 02:51:22'), Feature(name='comm_inratio_inout_call', feature_id='94', description='', data_type='double', online_data_type='double', created_at='2024-12-30 02:51:22', updated_at='2024-12-30 02:51:22'), Feature(name='comm_outratio_inout_call', feature_id='95', description='', data_type='double', online_data_type='double', created_at='2024-12-30 02:51:22', updated_at='2024-12-30 02:51:22'), Feature(name='comm_inratio_inout_sms', feature_id='96', description='', data_type='double', online_data_type='double', created_at='2024-12-30 02:51:23', updated_at='2024-12-30 02:51:23'), Feature(name='comm_outratio_inout_sms', feature_id='97', description='', data_type='double', online_data_type='double', created_at='2024-12-30 02:51:23', updated_at='2024-12-30 02:51:23'), Feature(name='comm_inratio_inout_callsms', feature_id='98', description='', data_type='double', online_data_type='double', created_at='2024-12-30 02:51:23', updated_at='2024-12-30 02:51:23'), Feature(name='comm_outratio_inout_callsms', feature_id='99', description='', data_type='double', online_data_type='double', created_at='2024-12-30 02:51:23', updated_at='2024-12-30 02:51:23')], tag=None, feature_group_id=3, offline_watermarks=['2019-03-25 00:00:00', '2019-03-06 00:00:00', '2019-03-19 00:00:00', '2019-03-17 00:00:00', '2019-03-13 00:00:00', '2019-03-18 00:00:00', '2019-03-23 00:00:00', '2019-03-12 00:00:00', '2019-03-16 00:00:00', '2019-03-31 00:00:00', '2019-03-21 00:00:00', '2019-03-24 00:00:00', '2019-03-10 00:00:00', '2019-03-05 00:00:00', '2019-03-08 00:00:00', '2019-03-22 00:00:00', '2019-03-29 00:00:00', '2019-03-20 00:00:00', '2019-03-28 00:00:00', '2019-03-14 00:00:00', '2019-03-15 00:00:00', '2019-03-26 00:00:00', '2019-03-30 00:00:00', '2019-03-09 00:00:00', '2019-03-27 00:00:00', '2019-03-11 00:00:00', '2019-03-07 00:00:00'], online_watermarks=[], version=1, created_at=None, updated_at=None, avro_schema={'type': 'record', 'name': 'topLevelRecord', 'fields': [{'name': 'comm_count_call_in', 'type': ['long', 'null']}, {'name': 'comm_count_call_out', 'type': ['long', 'null']}, {'name': 'comm_count_call_inout', 'type': ['long', 'null']}, {'name': 'comm_count_sms_in', 'type': ['long', 'null']}, {'name': 'comm_count_sms_out', 'type': ['long', 'null']}, {'name': 'comm_count_sms_inout', 'type': ['long', 'null']}, {'name': 'comm_count_callsms_in', 'type': ['long', 'null']}, {'name': 'comm_count_callsms_out', 'type': ['long', 'null']}, {'name': 'comm_count_callsms_inout', 'type': ['long', 'null']}, {'name': 'comm_roamingcount_call_in', 'type': ['long', 'null']}, {'name': 'comm_roamingcount_call_out', 'type': ['long', 'null']}, {'name': 'comm_roamingcount_call_inout', 'type': ['long', 'null']}, {'name': 'comm_roamingcount_sms_in', 'type': ['long', 'null']}, {'name': 'comm_roamingcount_sms_out', 'type': ['long', 'null']}, {'name': 'comm_roamingcount_sms_inout', 'type': ['long', 'null']}, {'name': 'comm_roamingcount_callsms_in', 'type': ['long', 'null']}, {'name': 'comm_roamingcount_callsms_out', 'type': ['long', 'null']}, {'name': 'comm_roamingcount_callsms_inout', 'type': ['long', 'null']}, {'name': 'comm_duration_call_in', 'type': ['double', 'null']}, {'name': 'comm_duration_call_out', 'type': ['double', 'null']}, {'name': 'comm_duration_call_inout', 'type': ['double', 'null']}, {'name': 'comm_callratio_callsms_in', 'type': ['double', 'null']}, {'name': 'comm_smsratio_callsms_in', 'type': ['double', 'null']}, {'name': 'comm_callratio_callsms_out', 'type': ['double', 'null']}, {'name': 'comm_smsratio_callsms_out', 'type': ['double', 'null']}, {'name': 'comm_callratio_callsms_inout', 'type': ['double', 'null']}, {'name': 'comm_smsratio_callsms_inout', 'type': ['double', 'null']}, {'name': 'comm_inratio_inout_call', 'type': ['double', 'null']}, {'name': 'comm_outratio_inout_call', 'type': ['double', 'null']}, {'name': 'comm_inratio_inout_sms', 'type': ['double', 'null']}, {'name': 'comm_outratio_inout_sms', 'type': ['double', 'null']}, {'name': 'comm_inratio_inout_callsms', 'type': ['double', 'null']}, {'name': 'comm_outratio_inout_callsms', 'type': ['double', 'null']}]})"
      ]
     },
     "execution_count": 11,
     "metadata": {},
     "output_type": "execute_result"
    }
   ],
   "source": [
    "flow_input = FlowInput(kind=FlowInputEnum.HIVE_TABLE, value=\"comm_day\")\n",
    "my_flow = Flow(\n",
    "    input=flow_input, tasks=None, output=FlowOutput(), name=\"my_flow_for_fg\"\n",
    ")\n",
    "\n",
    "my_fg_one = FeatureGroup(\n",
    "    name=\"comm_day_three\",\n",
    "    entity=Entity(name=\"msisdn\", join_keys=[\"msisdn\"]).get_or_create(),\n",
    "    materialization=materialization,\n",
    ").set_flow(my_flow)\n",
    "my_fg_one.set_features()\n",
    "# print(my_fg)\n",
    "my_fg_one.get_or_create()"
   ]
  },
  {
   "cell_type": "code",
   "execution_count": 12,
   "metadata": {},
   "outputs": [
    {
     "name": "stdout",
     "output_type": "stream",
     "text": [
      "[2024-12-30 15:43:48+0700] INFO - seeknal | writing to offline-store\n",
      "[2024-12-30 15:43:48+0700] INFO - seeknal | writing to offline-store\n"
     ]
    },
    {
     "name": "stderr",
     "output_type": "stream",
     "text": [
      "24/12/30 15:43:49 INFO AvroSerDe: Avro schema inferred from dataframe: {\"type\":\"record\",\"name\":\"topLevelRecord\",\"fields\":[{\"name\":\"comm_count_call_in\",\"type\":[\"long\",\"null\"]},{\"name\":\"comm_count_call_out\",\"type\":[\"long\",\"null\"]},{\"name\":\"comm_count_call_inout\",\"type\":[\"long\",\"null\"]},{\"name\":\"comm_count_sms_in\",\"type\":[\"long\",\"null\"]},{\"name\":\"comm_count_sms_out\",\"type\":[\"long\",\"null\"]},{\"name\":\"comm_count_sms_inout\",\"type\":[\"long\",\"null\"]},{\"name\":\"comm_count_callsms_in\",\"type\":[\"long\",\"null\"]},{\"name\":\"comm_count_callsms_out\",\"type\":[\"long\",\"null\"]},{\"name\":\"comm_count_callsms_inout\",\"type\":[\"long\",\"null\"]},{\"name\":\"comm_roamingcount_call_in\",\"type\":[\"long\",\"null\"]},{\"name\":\"comm_roamingcount_call_out\",\"type\":[\"long\",\"null\"]},{\"name\":\"comm_roamingcount_call_inout\",\"type\":[\"long\",\"null\"]},{\"name\":\"comm_roamingcount_sms_in\",\"type\":[\"long\",\"null\"]},{\"name\":\"comm_roamingcount_sms_out\",\"type\":[\"long\",\"null\"]},{\"name\":\"comm_roamingcount_sms_inout\",\"type\":[\"long\",\"null\"]},{\"name\":\"comm_roamingcount_callsms_in\",\"type\":[\"long\",\"null\"]},{\"name\":\"comm_roamingcount_callsms_out\",\"type\":[\"long\",\"null\"]},{\"name\":\"comm_roamingcount_callsms_inout\",\"type\":[\"long\",\"null\"]},{\"name\":\"comm_duration_call_in\",\"type\":[\"double\",\"null\"]},{\"name\":\"comm_duration_call_out\",\"type\":[\"double\",\"null\"]},{\"name\":\"comm_duration_call_inout\",\"type\":[\"double\",\"null\"]},{\"name\":\"comm_callratio_callsms_in\",\"type\":[\"double\",\"null\"]},{\"name\":\"comm_smsratio_callsms_in\",\"type\":[\"double\",\"null\"]},{\"name\":\"comm_callratio_callsms_out\",\"type\":[\"double\",\"null\"]},{\"name\":\"comm_smsratio_callsms_out\",\"type\":[\"double\",\"null\"]},{\"name\":\"comm_callratio_callsms_inout\",\"type\":[\"double\",\"null\"]},{\"name\":\"comm_smsratio_callsms_inout\",\"type\":[\"double\",\"null\"]},{\"name\":\"comm_inratio_inout_call\",\"type\":[\"double\",\"null\"]},{\"name\":\"comm_outratio_inout_call\",\"type\":[\"double\",\"null\"]},{\"name\":\"comm_inratio_inout_sms\",\"type\":[\"double\",\"null\"]},{\"name\":\"comm_outratio_inout_sms\",\"type\":[\"double\",\"null\"]},{\"name\":\"comm_inratio_inout_callsms\",\"type\":[\"double\",\"null\"]},{\"name\":\"comm_outratio_inout_callsms\",\"type\":[\"double\",\"null\"]}]}\n",
      "                                                                                \r"
     ]
    }
   ],
   "source": [
    "from datetime import datetime\n",
    "my_fg_one.write(\n",
    "        feature_start_time=datetime(2019, 3, 5)\n",
    "    )"
   ]
  },
  {
   "cell_type": "code",
   "execution_count": 7,
   "metadata": {},
   "outputs": [
    {
     "name": "stdout",
     "output_type": "stream",
     "text": [
      "[2024-12-30 02:02:20+0700] WARNING - seeknal | Using an existing Flow.\n"
     ]
    },
    {
     "name": "stderr",
     "output_type": "stream",
     "text": [
      "24/12/30 02:02:21 WARN HiveConf: HiveConf of name hive.stats.jdbc.timeout does not exist\n",
      "24/12/30 02:02:21 WARN HiveConf: HiveConf of name hive.stats.retries.wait does not exist\n",
      "24/12/30 02:02:22 WARN ObjectStore: Version information not found in metastore. hive.metastore.schema.verification is not enabled so recording the schema version 2.3.0\n",
      "24/12/30 02:02:22 WARN ObjectStore: setMetaStoreSchemaVersion called but recording version is disabled: version = 2.3.0, comment = Set by MetaStore fitrakacamarga@192.168.50.119\n",
      "24/12/30 02:02:23 WARN SparkSession: Using an existing Spark session; only runtime SQL configurations will take effect.\n"
     ]
    },
    {
     "name": "stdout",
     "output_type": "stream",
     "text": [
      "[2024-12-30 02:02:24+0700] WARNING - seeknal | Feature group already exists. Loading the feature group.\n",
      "[2024-12-30 02:02:24+0700] WARNING - seeknal | Using an existing Flow.\n"
     ]
    },
    {
     "data": {
      "text/plain": [
       "FeatureGroup(name='comm_day', entity=Entity(name='msisdn', join_keys=['msisdn'], pii_keys=None, description=None), id=1, materialization=Materialization(event_time_col='day', date_pattern=None, offline=True, online=False, offline_materialization=OfflineMaterialization(store=OfflineStore(value=None, kind='hive_table', name='default'), mode='overwrite', ttl=None), online_materialization=OnlineMaterialization(store=OnlineStore(value=None, kind='file', name=None), ttl=1440)), source=Flow(name='my_flow_for_fg', input=FlowInput(value='comm_day', kind=<FlowInputEnum.HIVE_TABLE: 'hive_table'>), input_date_col=None, tasks=None, output=FlowOutput(value=None, kind=<FlowOutputEnum.SPARK_DATAFRAME: 'spark_dataframe'>), description=''), description=None, features=[Feature(name='comm_count_call_in', feature_id='1', description='', data_type='long', online_data_type='long', created_at='2024-12-29 12:09:58', updated_at='2024-12-29 12:09:58'), Feature(name='comm_count_call_out', feature_id='2', description='', data_type='long', online_data_type='long', created_at='2024-12-29 12:09:59', updated_at='2024-12-29 12:09:59'), Feature(name='comm_count_call_inout', feature_id='3', description='', data_type='long', online_data_type='long', created_at='2024-12-29 12:09:59', updated_at='2024-12-29 12:09:59'), Feature(name='comm_count_sms_in', feature_id='4', description='', data_type='long', online_data_type='long', created_at='2024-12-29 12:09:59', updated_at='2024-12-29 12:09:59'), Feature(name='comm_count_sms_out', feature_id='5', description='', data_type='long', online_data_type='long', created_at='2024-12-29 12:09:59', updated_at='2024-12-29 12:09:59'), Feature(name='comm_count_sms_inout', feature_id='6', description='', data_type='long', online_data_type='long', created_at='2024-12-29 12:09:59', updated_at='2024-12-29 12:09:59'), Feature(name='comm_count_callsms_in', feature_id='7', description='', data_type='long', online_data_type='long', created_at='2024-12-29 12:10:00', updated_at='2024-12-29 12:10:00'), Feature(name='comm_count_callsms_out', feature_id='8', description='', data_type='long', online_data_type='long', created_at='2024-12-29 12:10:00', updated_at='2024-12-29 12:10:00'), Feature(name='comm_count_callsms_inout', feature_id='9', description='', data_type='long', online_data_type='long', created_at='2024-12-29 12:10:00', updated_at='2024-12-29 12:10:00'), Feature(name='comm_roamingcount_call_in', feature_id='10', description='', data_type='long', online_data_type='long', created_at='2024-12-29 12:10:00', updated_at='2024-12-29 12:10:00'), Feature(name='comm_roamingcount_call_out', feature_id='11', description='', data_type='long', online_data_type='long', created_at='2024-12-29 12:10:00', updated_at='2024-12-29 12:10:00'), Feature(name='comm_roamingcount_call_inout', feature_id='12', description='', data_type='long', online_data_type='long', created_at='2024-12-29 12:10:00', updated_at='2024-12-29 12:10:00'), Feature(name='comm_roamingcount_sms_in', feature_id='13', description='', data_type='long', online_data_type='long', created_at='2024-12-29 12:10:01', updated_at='2024-12-29 12:10:01'), Feature(name='comm_roamingcount_sms_out', feature_id='14', description='', data_type='long', online_data_type='long', created_at='2024-12-29 12:10:01', updated_at='2024-12-29 12:10:01'), Feature(name='comm_roamingcount_sms_inout', feature_id='15', description='', data_type='long', online_data_type='long', created_at='2024-12-29 12:10:01', updated_at='2024-12-29 12:10:01'), Feature(name='comm_roamingcount_callsms_in', feature_id='16', description='', data_type='long', online_data_type='long', created_at='2024-12-29 12:10:01', updated_at='2024-12-29 12:10:01'), Feature(name='comm_roamingcount_callsms_out', feature_id='17', description='', data_type='long', online_data_type='long', created_at='2024-12-29 12:10:02', updated_at='2024-12-29 12:10:02'), Feature(name='comm_roamingcount_callsms_inout', feature_id='18', description='', data_type='long', online_data_type='long', created_at='2024-12-29 12:10:02', updated_at='2024-12-29 12:10:02'), Feature(name='comm_duration_call_in', feature_id='19', description='', data_type='double', online_data_type='double', created_at='2024-12-29 12:10:02', updated_at='2024-12-29 12:10:02'), Feature(name='comm_duration_call_out', feature_id='20', description='', data_type='double', online_data_type='double', created_at='2024-12-29 12:10:02', updated_at='2024-12-29 12:10:02'), Feature(name='comm_duration_call_inout', feature_id='21', description='', data_type='double', online_data_type='double', created_at='2024-12-29 12:10:02', updated_at='2024-12-29 12:10:02'), Feature(name='comm_callratio_callsms_in', feature_id='22', description='', data_type='double', online_data_type='double', created_at='2024-12-29 12:10:03', updated_at='2024-12-29 12:10:03'), Feature(name='comm_smsratio_callsms_in', feature_id='23', description='', data_type='double', online_data_type='double', created_at='2024-12-29 12:10:03', updated_at='2024-12-29 12:10:03'), Feature(name='comm_callratio_callsms_out', feature_id='24', description='', data_type='double', online_data_type='double', created_at='2024-12-29 12:10:03', updated_at='2024-12-29 12:10:03'), Feature(name='comm_smsratio_callsms_out', feature_id='25', description='', data_type='double', online_data_type='double', created_at='2024-12-29 12:10:03', updated_at='2024-12-29 12:10:03'), Feature(name='comm_callratio_callsms_inout', feature_id='26', description='', data_type='double', online_data_type='double', created_at='2024-12-29 12:10:03', updated_at='2024-12-29 12:10:03'), Feature(name='comm_smsratio_callsms_inout', feature_id='27', description='', data_type='double', online_data_type='double', created_at='2024-12-29 12:10:04', updated_at='2024-12-29 12:10:04'), Feature(name='comm_inratio_inout_call', feature_id='28', description='', data_type='double', online_data_type='double', created_at='2024-12-29 12:10:04', updated_at='2024-12-29 12:10:04'), Feature(name='comm_outratio_inout_call', feature_id='29', description='', data_type='double', online_data_type='double', created_at='2024-12-29 12:10:04', updated_at='2024-12-29 12:10:04'), Feature(name='comm_inratio_inout_sms', feature_id='30', description='', data_type='double', online_data_type='double', created_at='2024-12-29 12:10:04', updated_at='2024-12-29 12:10:04'), Feature(name='comm_outratio_inout_sms', feature_id='31', description='', data_type='double', online_data_type='double', created_at='2024-12-29 12:10:04', updated_at='2024-12-29 12:10:04'), Feature(name='comm_inratio_inout_callsms', feature_id='32', description='', data_type='double', online_data_type='double', created_at='2024-12-29 12:10:05', updated_at='2024-12-29 12:10:05'), Feature(name='comm_outratio_inout_callsms', feature_id='33', description='', data_type='double', online_data_type='double', created_at='2024-12-29 12:10:05', updated_at='2024-12-29 12:10:05')], tag=None, feature_group_id=1, offline_watermarks=['2019-03-22 00:00:00', '2019-03-10 00:00:00', '2019-03-28 00:00:00', '2019-03-06 00:00:00', '2019-03-27 00:00:00', '2019-03-17 00:00:00', '2019-03-07 00:00:00', '2019-03-15 00:00:00', '2019-03-19 00:00:00', '2019-03-24 00:00:00', '2019-03-31 00:00:00', '2019-03-14 00:00:00', '2019-03-05 00:00:00', '2019-03-25 00:00:00', '2019-03-26 00:00:00', '2019-03-18 00:00:00', '2019-03-08 00:00:00', '2019-03-09 00:00:00', '2019-03-21 00:00:00', '2019-03-12 00:00:00', '2019-03-29 00:00:00', '2019-03-16 00:00:00', '2019-03-20 00:00:00', '2019-03-11 00:00:00', '2019-03-30 00:00:00', '2019-03-23 00:00:00', '2019-03-13 00:00:00'], online_watermarks=[], version=1, created_at=None, updated_at=None, avro_schema={'type': 'record', 'name': 'topLevelRecord', 'fields': [{'name': 'comm_count_call_in', 'type': ['long', 'null']}, {'name': 'comm_count_call_out', 'type': ['long', 'null']}, {'name': 'comm_count_call_inout', 'type': ['long', 'null']}, {'name': 'comm_count_sms_in', 'type': ['long', 'null']}, {'name': 'comm_count_sms_out', 'type': ['long', 'null']}, {'name': 'comm_count_sms_inout', 'type': ['long', 'null']}, {'name': 'comm_count_callsms_in', 'type': ['long', 'null']}, {'name': 'comm_count_callsms_out', 'type': ['long', 'null']}, {'name': 'comm_count_callsms_inout', 'type': ['long', 'null']}, {'name': 'comm_roamingcount_call_in', 'type': ['long', 'null']}, {'name': 'comm_roamingcount_call_out', 'type': ['long', 'null']}, {'name': 'comm_roamingcount_call_inout', 'type': ['long', 'null']}, {'name': 'comm_roamingcount_sms_in', 'type': ['long', 'null']}, {'name': 'comm_roamingcount_sms_out', 'type': ['long', 'null']}, {'name': 'comm_roamingcount_sms_inout', 'type': ['long', 'null']}, {'name': 'comm_roamingcount_callsms_in', 'type': ['long', 'null']}, {'name': 'comm_roamingcount_callsms_out', 'type': ['long', 'null']}, {'name': 'comm_roamingcount_callsms_inout', 'type': ['long', 'null']}, {'name': 'comm_duration_call_in', 'type': ['double', 'null']}, {'name': 'comm_duration_call_out', 'type': ['double', 'null']}, {'name': 'comm_duration_call_inout', 'type': ['double', 'null']}, {'name': 'comm_callratio_callsms_in', 'type': ['double', 'null']}, {'name': 'comm_smsratio_callsms_in', 'type': ['double', 'null']}, {'name': 'comm_callratio_callsms_out', 'type': ['double', 'null']}, {'name': 'comm_smsratio_callsms_out', 'type': ['double', 'null']}, {'name': 'comm_callratio_callsms_inout', 'type': ['double', 'null']}, {'name': 'comm_smsratio_callsms_inout', 'type': ['double', 'null']}, {'name': 'comm_inratio_inout_call', 'type': ['double', 'null']}, {'name': 'comm_outratio_inout_call', 'type': ['double', 'null']}, {'name': 'comm_inratio_inout_sms', 'type': ['double', 'null']}, {'name': 'comm_outratio_inout_sms', 'type': ['double', 'null']}, {'name': 'comm_inratio_inout_callsms', 'type': ['double', 'null']}, {'name': 'comm_outratio_inout_callsms', 'type': ['double', 'null']}]})"
      ]
     },
     "execution_count": 7,
     "metadata": {},
     "output_type": "execute_result"
    }
   ],
   "source": [
    "flow_input = FlowInput(kind=FlowInputEnum.HIVE_TABLE, value=\"comm_day\")\n",
    "my_flow = Flow(\n",
    "    input=flow_input, tasks=None, output=FlowOutput(), name=\"my_flow_for_fg\"\n",
    ")\n",
    "\n",
    "my_fg_one = FeatureGroup(\n",
    "    name=\"comm_day\",\n",
    "    entity=Entity(name=\"msisdn\", join_keys=[\"msisdn\"]).get_or_create(),\n",
    "    materialization=Materialization(event_time_col=\"day\"),\n",
    ").set_flow(my_flow)\n",
    "my_fg_one.set_features()\n",
    "# print(my_fg)\n",
    "my_fg_one.get_or_create()"
   ]
  },
  {
   "cell_type": "code",
   "execution_count": 9,
   "metadata": {},
   "outputs": [
    {
     "data": {
      "text/plain": [
       "FeatureGroup(name='comm_day', entity=Entity(name='msisdn', join_keys=['msisdn'], pii_keys=None, description=None), id=1, materialization=Materialization(event_time_col='day', date_pattern=None, offline=True, online=False, offline_materialization=OfflineMaterialization(store=OfflineStore(value=None, kind='hive_table', name='default'), mode='overwrite', ttl=None), online_materialization=OnlineMaterialization(store=OnlineStore(value=None, kind='file', name=None), ttl=1440)), source=Flow(name='my_flow_for_fg', input=FlowInput(value='comm_day', kind=<FlowInputEnum.HIVE_TABLE: 'hive_table'>), input_date_col=None, tasks=None, output=FlowOutput(value=None, kind=<FlowOutputEnum.SPARK_DATAFRAME: 'spark_dataframe'>), description=''), description=None, features=[Feature(name='comm_count_call_in', feature_id='1', description='', data_type='long', online_data_type='long', created_at='2024-12-29 12:09:58', updated_at='2024-12-29 12:09:58'), Feature(name='comm_count_call_out', feature_id='2', description='', data_type='long', online_data_type='long', created_at='2024-12-29 12:09:59', updated_at='2024-12-29 12:09:59'), Feature(name='comm_count_call_inout', feature_id='3', description='', data_type='long', online_data_type='long', created_at='2024-12-29 12:09:59', updated_at='2024-12-29 12:09:59'), Feature(name='comm_count_sms_in', feature_id='4', description='', data_type='long', online_data_type='long', created_at='2024-12-29 12:09:59', updated_at='2024-12-29 12:09:59'), Feature(name='comm_count_sms_out', feature_id='5', description='', data_type='long', online_data_type='long', created_at='2024-12-29 12:09:59', updated_at='2024-12-29 12:09:59'), Feature(name='comm_count_sms_inout', feature_id='6', description='', data_type='long', online_data_type='long', created_at='2024-12-29 12:09:59', updated_at='2024-12-29 12:09:59'), Feature(name='comm_count_callsms_in', feature_id='7', description='', data_type='long', online_data_type='long', created_at='2024-12-29 12:10:00', updated_at='2024-12-29 12:10:00'), Feature(name='comm_count_callsms_out', feature_id='8', description='', data_type='long', online_data_type='long', created_at='2024-12-29 12:10:00', updated_at='2024-12-29 12:10:00'), Feature(name='comm_count_callsms_inout', feature_id='9', description='', data_type='long', online_data_type='long', created_at='2024-12-29 12:10:00', updated_at='2024-12-29 12:10:00'), Feature(name='comm_roamingcount_call_in', feature_id='10', description='', data_type='long', online_data_type='long', created_at='2024-12-29 12:10:00', updated_at='2024-12-29 12:10:00'), Feature(name='comm_roamingcount_call_out', feature_id='11', description='', data_type='long', online_data_type='long', created_at='2024-12-29 12:10:00', updated_at='2024-12-29 12:10:00'), Feature(name='comm_roamingcount_call_inout', feature_id='12', description='', data_type='long', online_data_type='long', created_at='2024-12-29 12:10:00', updated_at='2024-12-29 12:10:00'), Feature(name='comm_roamingcount_sms_in', feature_id='13', description='', data_type='long', online_data_type='long', created_at='2024-12-29 12:10:01', updated_at='2024-12-29 12:10:01'), Feature(name='comm_roamingcount_sms_out', feature_id='14', description='', data_type='long', online_data_type='long', created_at='2024-12-29 12:10:01', updated_at='2024-12-29 12:10:01'), Feature(name='comm_roamingcount_sms_inout', feature_id='15', description='', data_type='long', online_data_type='long', created_at='2024-12-29 12:10:01', updated_at='2024-12-29 12:10:01'), Feature(name='comm_roamingcount_callsms_in', feature_id='16', description='', data_type='long', online_data_type='long', created_at='2024-12-29 12:10:01', updated_at='2024-12-29 12:10:01'), Feature(name='comm_roamingcount_callsms_out', feature_id='17', description='', data_type='long', online_data_type='long', created_at='2024-12-29 12:10:02', updated_at='2024-12-29 12:10:02'), Feature(name='comm_roamingcount_callsms_inout', feature_id='18', description='', data_type='long', online_data_type='long', created_at='2024-12-29 12:10:02', updated_at='2024-12-29 12:10:02'), Feature(name='comm_duration_call_in', feature_id='19', description='', data_type='double', online_data_type='double', created_at='2024-12-29 12:10:02', updated_at='2024-12-29 12:10:02'), Feature(name='comm_duration_call_out', feature_id='20', description='', data_type='double', online_data_type='double', created_at='2024-12-29 12:10:02', updated_at='2024-12-29 12:10:02'), Feature(name='comm_duration_call_inout', feature_id='21', description='', data_type='double', online_data_type='double', created_at='2024-12-29 12:10:02', updated_at='2024-12-29 12:10:02'), Feature(name='comm_callratio_callsms_in', feature_id='22', description='', data_type='double', online_data_type='double', created_at='2024-12-29 12:10:03', updated_at='2024-12-29 12:10:03'), Feature(name='comm_smsratio_callsms_in', feature_id='23', description='', data_type='double', online_data_type='double', created_at='2024-12-29 12:10:03', updated_at='2024-12-29 12:10:03'), Feature(name='comm_callratio_callsms_out', feature_id='24', description='', data_type='double', online_data_type='double', created_at='2024-12-29 12:10:03', updated_at='2024-12-29 12:10:03'), Feature(name='comm_smsratio_callsms_out', feature_id='25', description='', data_type='double', online_data_type='double', created_at='2024-12-29 12:10:03', updated_at='2024-12-29 12:10:03'), Feature(name='comm_callratio_callsms_inout', feature_id='26', description='', data_type='double', online_data_type='double', created_at='2024-12-29 12:10:03', updated_at='2024-12-29 12:10:03'), Feature(name='comm_smsratio_callsms_inout', feature_id='27', description='', data_type='double', online_data_type='double', created_at='2024-12-29 12:10:04', updated_at='2024-12-29 12:10:04'), Feature(name='comm_inratio_inout_call', feature_id='28', description='', data_type='double', online_data_type='double', created_at='2024-12-29 12:10:04', updated_at='2024-12-29 12:10:04'), Feature(name='comm_outratio_inout_call', feature_id='29', description='', data_type='double', online_data_type='double', created_at='2024-12-29 12:10:04', updated_at='2024-12-29 12:10:04'), Feature(name='comm_inratio_inout_sms', feature_id='30', description='', data_type='double', online_data_type='double', created_at='2024-12-29 12:10:04', updated_at='2024-12-29 12:10:04'), Feature(name='comm_outratio_inout_sms', feature_id='31', description='', data_type='double', online_data_type='double', created_at='2024-12-29 12:10:04', updated_at='2024-12-29 12:10:04'), Feature(name='comm_inratio_inout_callsms', feature_id='32', description='', data_type='double', online_data_type='double', created_at='2024-12-29 12:10:05', updated_at='2024-12-29 12:10:05'), Feature(name='comm_outratio_inout_callsms', feature_id='33', description='', data_type='double', online_data_type='double', created_at='2024-12-29 12:10:05', updated_at='2024-12-29 12:10:05')], tag=None, feature_group_id=1, offline_watermarks=['2019-03-22 00:00:00', '2019-03-10 00:00:00', '2019-03-28 00:00:00', '2019-03-06 00:00:00', '2019-03-27 00:00:00', '2019-03-17 00:00:00', '2019-03-07 00:00:00', '2019-03-15 00:00:00', '2019-03-19 00:00:00', '2019-03-24 00:00:00', '2019-03-31 00:00:00', '2019-03-14 00:00:00', '2019-03-05 00:00:00', '2019-03-25 00:00:00', '2019-03-26 00:00:00', '2019-03-18 00:00:00', '2019-03-08 00:00:00', '2019-03-09 00:00:00', '2019-03-21 00:00:00', '2019-03-12 00:00:00', '2019-03-29 00:00:00', '2019-03-16 00:00:00', '2019-03-20 00:00:00', '2019-03-11 00:00:00', '2019-03-30 00:00:00', '2019-03-23 00:00:00', '2019-03-13 00:00:00'], online_watermarks=[], version=1, created_at=None, updated_at=None, avro_schema={'type': 'record', 'name': 'topLevelRecord', 'fields': [{'name': 'comm_count_call_in', 'type': ['long', 'null']}, {'name': 'comm_count_call_out', 'type': ['long', 'null']}, {'name': 'comm_count_call_inout', 'type': ['long', 'null']}, {'name': 'comm_count_sms_in', 'type': ['long', 'null']}, {'name': 'comm_count_sms_out', 'type': ['long', 'null']}, {'name': 'comm_count_sms_inout', 'type': ['long', 'null']}, {'name': 'comm_count_callsms_in', 'type': ['long', 'null']}, {'name': 'comm_count_callsms_out', 'type': ['long', 'null']}, {'name': 'comm_count_callsms_inout', 'type': ['long', 'null']}, {'name': 'comm_roamingcount_call_in', 'type': ['long', 'null']}, {'name': 'comm_roamingcount_call_out', 'type': ['long', 'null']}, {'name': 'comm_roamingcount_call_inout', 'type': ['long', 'null']}, {'name': 'comm_roamingcount_sms_in', 'type': ['long', 'null']}, {'name': 'comm_roamingcount_sms_out', 'type': ['long', 'null']}, {'name': 'comm_roamingcount_sms_inout', 'type': ['long', 'null']}, {'name': 'comm_roamingcount_callsms_in', 'type': ['long', 'null']}, {'name': 'comm_roamingcount_callsms_out', 'type': ['long', 'null']}, {'name': 'comm_roamingcount_callsms_inout', 'type': ['long', 'null']}, {'name': 'comm_duration_call_in', 'type': ['double', 'null']}, {'name': 'comm_duration_call_out', 'type': ['double', 'null']}, {'name': 'comm_duration_call_inout', 'type': ['double', 'null']}, {'name': 'comm_callratio_callsms_in', 'type': ['double', 'null']}, {'name': 'comm_smsratio_callsms_in', 'type': ['double', 'null']}, {'name': 'comm_callratio_callsms_out', 'type': ['double', 'null']}, {'name': 'comm_smsratio_callsms_out', 'type': ['double', 'null']}, {'name': 'comm_callratio_callsms_inout', 'type': ['double', 'null']}, {'name': 'comm_smsratio_callsms_inout', 'type': ['double', 'null']}, {'name': 'comm_inratio_inout_call', 'type': ['double', 'null']}, {'name': 'comm_outratio_inout_call', 'type': ['double', 'null']}, {'name': 'comm_inratio_inout_sms', 'type': ['double', 'null']}, {'name': 'comm_outratio_inout_sms', 'type': ['double', 'null']}, {'name': 'comm_inratio_inout_callsms', 'type': ['double', 'null']}, {'name': 'comm_outratio_inout_callsms', 'type': ['double', 'null']}]})"
      ]
     },
     "execution_count": 9,
     "metadata": {},
     "output_type": "execute_result"
    }
   ],
   "source": [
    "my_fg_one"
   ]
  },
  {
   "cell_type": "code",
   "execution_count": 13,
   "metadata": {},
   "outputs": [
    {
     "name": "stdout",
     "output_type": "stream",
     "text": [
      "[2024-12-30 15:45:01+0700] WARNING - seeknal | Feature group already exists. Loading the feature group.\n",
      "[2024-12-30 15:45:01+0700] WARNING - seeknal | Feature group already exists. Loading the feature group.\n"
     ]
    },
    {
     "data": {
      "text/plain": [
       "FeatureGroup(name='comm_day_two', entity=Entity(name='msisdn', join_keys=['msisdn'], pii_keys=None, description=None), id=2, materialization=Materialization(event_time_col='day', date_pattern=None, offline=True, online=False, offline_materialization=OfflineMaterialization(store=OfflineStore(value=None, kind='hive_table', name='default'), mode='overwrite', ttl=None), online_materialization=OnlineMaterialization(store=OnlineStore(value=None, kind='file', name=None), ttl=1440)), source=None, description=None, features=[Feature(name='comm_count_call_in', feature_id='34', description='', data_type='long', online_data_type='long', created_at='2024-12-29 12:10:27', updated_at='2024-12-29 12:10:27'), Feature(name='comm_count_call_out', feature_id='35', description='', data_type='long', online_data_type='long', created_at='2024-12-29 12:10:28', updated_at='2024-12-29 12:10:28'), Feature(name='comm_count_call_inout', feature_id='36', description='', data_type='long', online_data_type='long', created_at='2024-12-29 12:10:28', updated_at='2024-12-29 12:10:28'), Feature(name='comm_count_sms_in', feature_id='37', description='', data_type='long', online_data_type='long', created_at='2024-12-29 12:10:28', updated_at='2024-12-29 12:10:28'), Feature(name='comm_count_sms_out', feature_id='38', description='', data_type='long', online_data_type='long', created_at='2024-12-29 12:10:28', updated_at='2024-12-29 12:10:28'), Feature(name='comm_count_sms_inout', feature_id='39', description='', data_type='long', online_data_type='long', created_at='2024-12-29 12:10:28', updated_at='2024-12-29 12:10:28'), Feature(name='comm_count_callsms_in', feature_id='40', description='', data_type='long', online_data_type='long', created_at='2024-12-29 12:10:28', updated_at='2024-12-29 12:10:28'), Feature(name='comm_count_callsms_out', feature_id='41', description='', data_type='long', online_data_type='long', created_at='2024-12-29 12:10:29', updated_at='2024-12-29 12:10:29'), Feature(name='comm_count_callsms_inout', feature_id='42', description='', data_type='long', online_data_type='long', created_at='2024-12-29 12:10:29', updated_at='2024-12-29 12:10:29'), Feature(name='comm_roamingcount_call_in', feature_id='43', description='', data_type='long', online_data_type='long', created_at='2024-12-29 12:10:29', updated_at='2024-12-29 12:10:29'), Feature(name='comm_roamingcount_call_out', feature_id='44', description='', data_type='long', online_data_type='long', created_at='2024-12-29 12:10:29', updated_at='2024-12-29 12:10:29'), Feature(name='comm_roamingcount_call_inout', feature_id='45', description='', data_type='long', online_data_type='long', created_at='2024-12-29 12:10:29', updated_at='2024-12-29 12:10:29'), Feature(name='comm_roamingcount_sms_in', feature_id='46', description='', data_type='long', online_data_type='long', created_at='2024-12-29 12:10:29', updated_at='2024-12-29 12:10:29'), Feature(name='comm_roamingcount_sms_out', feature_id='47', description='', data_type='long', online_data_type='long', created_at='2024-12-29 12:10:30', updated_at='2024-12-29 12:10:30'), Feature(name='comm_roamingcount_sms_inout', feature_id='48', description='', data_type='long', online_data_type='long', created_at='2024-12-29 12:10:30', updated_at='2024-12-29 12:10:30'), Feature(name='comm_roamingcount_callsms_in', feature_id='49', description='', data_type='long', online_data_type='long', created_at='2024-12-29 12:10:30', updated_at='2024-12-29 12:10:30'), Feature(name='comm_roamingcount_callsms_out', feature_id='50', description='', data_type='long', online_data_type='long', created_at='2024-12-29 12:10:30', updated_at='2024-12-29 12:10:30'), Feature(name='comm_roamingcount_callsms_inout', feature_id='51', description='', data_type='long', online_data_type='long', created_at='2024-12-29 12:10:30', updated_at='2024-12-29 12:10:30'), Feature(name='comm_duration_call_in', feature_id='52', description='', data_type='double', online_data_type='double', created_at='2024-12-29 12:10:31', updated_at='2024-12-29 12:10:31'), Feature(name='comm_duration_call_out', feature_id='53', description='', data_type='double', online_data_type='double', created_at='2024-12-29 12:10:31', updated_at='2024-12-29 12:10:31'), Feature(name='comm_duration_call_inout', feature_id='54', description='', data_type='double', online_data_type='double', created_at='2024-12-29 12:10:31', updated_at='2024-12-29 12:10:31'), Feature(name='comm_callratio_callsms_in', feature_id='55', description='', data_type='double', online_data_type='double', created_at='2024-12-29 12:10:31', updated_at='2024-12-29 12:10:31'), Feature(name='comm_smsratio_callsms_in', feature_id='56', description='', data_type='double', online_data_type='double', created_at='2024-12-29 12:10:31', updated_at='2024-12-29 12:10:31'), Feature(name='comm_callratio_callsms_out', feature_id='57', description='', data_type='double', online_data_type='double', created_at='2024-12-29 12:10:31', updated_at='2024-12-29 12:10:31'), Feature(name='comm_smsratio_callsms_out', feature_id='58', description='', data_type='double', online_data_type='double', created_at='2024-12-29 12:10:32', updated_at='2024-12-29 12:10:32'), Feature(name='comm_callratio_callsms_inout', feature_id='59', description='', data_type='double', online_data_type='double', created_at='2024-12-29 12:10:32', updated_at='2024-12-29 12:10:32'), Feature(name='comm_smsratio_callsms_inout', feature_id='60', description='', data_type='double', online_data_type='double', created_at='2024-12-29 12:10:32', updated_at='2024-12-29 12:10:32'), Feature(name='comm_inratio_inout_call', feature_id='61', description='', data_type='double', online_data_type='double', created_at='2024-12-29 12:10:32', updated_at='2024-12-29 12:10:32'), Feature(name='comm_outratio_inout_call', feature_id='62', description='', data_type='double', online_data_type='double', created_at='2024-12-29 12:10:32', updated_at='2024-12-29 12:10:32'), Feature(name='comm_inratio_inout_sms', feature_id='63', description='', data_type='double', online_data_type='double', created_at='2024-12-29 12:10:33', updated_at='2024-12-29 12:10:33'), Feature(name='comm_outratio_inout_sms', feature_id='64', description='', data_type='double', online_data_type='double', created_at='2024-12-29 12:10:33', updated_at='2024-12-29 12:10:33'), Feature(name='comm_inratio_inout_callsms', feature_id='65', description='', data_type='double', online_data_type='double', created_at='2024-12-29 12:10:33', updated_at='2024-12-29 12:10:33'), Feature(name='comm_outratio_inout_callsms', feature_id='66', description='', data_type='double', online_data_type='double', created_at='2024-12-29 12:10:33', updated_at='2024-12-29 12:10:33')], tag=None, feature_group_id=2, offline_watermarks=['2019-03-30 00:00:00', '2019-03-10 00:00:00', '2019-03-12 00:00:00', '2019-03-15 00:00:00', '2019-03-21 00:00:00', '2019-03-24 00:00:00', '2019-03-08 00:00:00', '2019-03-23 00:00:00', '2019-03-18 00:00:00', '2019-03-19 00:00:00', '2019-03-29 00:00:00', '2019-03-07 00:00:00', '2019-03-13 00:00:00', '2019-03-17 00:00:00', '2019-03-26 00:00:00', '2019-03-25 00:00:00', '2019-03-22 00:00:00', '2019-03-16 00:00:00', '2019-03-05 00:00:00', '2019-03-09 00:00:00', '2019-03-06 00:00:00', '2019-03-20 00:00:00', '2019-03-31 00:00:00', '2019-03-14 00:00:00', '2019-03-28 00:00:00', '2019-03-27 00:00:00', '2019-03-11 00:00:00'], online_watermarks=[], version=1, created_at=None, updated_at=None, avro_schema={'type': 'record', 'name': 'topLevelRecord', 'fields': [{'name': 'comm_count_call_in', 'type': ['long', 'null']}, {'name': 'comm_count_call_out', 'type': ['long', 'null']}, {'name': 'comm_count_call_inout', 'type': ['long', 'null']}, {'name': 'comm_count_sms_in', 'type': ['long', 'null']}, {'name': 'comm_count_sms_out', 'type': ['long', 'null']}, {'name': 'comm_count_sms_inout', 'type': ['long', 'null']}, {'name': 'comm_count_callsms_in', 'type': ['long', 'null']}, {'name': 'comm_count_callsms_out', 'type': ['long', 'null']}, {'name': 'comm_count_callsms_inout', 'type': ['long', 'null']}, {'name': 'comm_roamingcount_call_in', 'type': ['long', 'null']}, {'name': 'comm_roamingcount_call_out', 'type': ['long', 'null']}, {'name': 'comm_roamingcount_call_inout', 'type': ['long', 'null']}, {'name': 'comm_roamingcount_sms_in', 'type': ['long', 'null']}, {'name': 'comm_roamingcount_sms_out', 'type': ['long', 'null']}, {'name': 'comm_roamingcount_sms_inout', 'type': ['long', 'null']}, {'name': 'comm_roamingcount_callsms_in', 'type': ['long', 'null']}, {'name': 'comm_roamingcount_callsms_out', 'type': ['long', 'null']}, {'name': 'comm_roamingcount_callsms_inout', 'type': ['long', 'null']}, {'name': 'comm_duration_call_in', 'type': ['double', 'null']}, {'name': 'comm_duration_call_out', 'type': ['double', 'null']}, {'name': 'comm_duration_call_inout', 'type': ['double', 'null']}, {'name': 'comm_callratio_callsms_in', 'type': ['double', 'null']}, {'name': 'comm_smsratio_callsms_in', 'type': ['double', 'null']}, {'name': 'comm_callratio_callsms_out', 'type': ['double', 'null']}, {'name': 'comm_smsratio_callsms_out', 'type': ['double', 'null']}, {'name': 'comm_callratio_callsms_inout', 'type': ['double', 'null']}, {'name': 'comm_smsratio_callsms_inout', 'type': ['double', 'null']}, {'name': 'comm_inratio_inout_call', 'type': ['double', 'null']}, {'name': 'comm_outratio_inout_call', 'type': ['double', 'null']}, {'name': 'comm_inratio_inout_sms', 'type': ['double', 'null']}, {'name': 'comm_outratio_inout_sms', 'type': ['double', 'null']}, {'name': 'comm_inratio_inout_callsms', 'type': ['double', 'null']}, {'name': 'comm_outratio_inout_callsms', 'type': ['double', 'null']}]})"
      ]
     },
     "execution_count": 13,
     "metadata": {},
     "output_type": "execute_result"
    }
   ],
   "source": [
    "input_df = spark.read.table(\"comm_day\")\n",
    "my_fg_two = FeatureGroup(\n",
    "    name=\"comm_day_two\",\n",
    "    entity=Entity(name=\"msisdn\", join_keys=[\"msisdn\"]).get_or_create(),\n",
    "    materialization=Materialization(event_time_col=\"day\"),\n",
    ").set_dataframe(dataframe=input_df)\n",
    "\n",
    "my_fg_two.set_features()\n",
    "my_fg_two.get_or_create()"
   ]
  },
  {
   "cell_type": "code",
   "execution_count": 8,
   "metadata": {},
   "outputs": [
    {
     "name": "stderr",
     "output_type": "stream",
     "text": [
      "[Stage 0:>                                                          (0 + 1) / 1]\r"
     ]
    },
    {
     "name": "stdout",
     "output_type": "stream",
     "text": [
      "[2024-12-30 02:02:33+0700] INFO - seeknal | writing to offline-store\n"
     ]
    },
    {
     "name": "stderr",
     "output_type": "stream",
     "text": [
      "24/12/30 02:02:34 INFO AvroSerDe: Avro schema inferred from dataframe: {\"type\":\"record\",\"name\":\"topLevelRecord\",\"fields\":[{\"name\":\"comm_count_call_in\",\"type\":[\"long\",\"null\"]},{\"name\":\"comm_count_call_out\",\"type\":[\"long\",\"null\"]},{\"name\":\"comm_count_call_inout\",\"type\":[\"long\",\"null\"]},{\"name\":\"comm_count_sms_in\",\"type\":[\"long\",\"null\"]},{\"name\":\"comm_count_sms_out\",\"type\":[\"long\",\"null\"]},{\"name\":\"comm_count_sms_inout\",\"type\":[\"long\",\"null\"]},{\"name\":\"comm_count_callsms_in\",\"type\":[\"long\",\"null\"]},{\"name\":\"comm_count_callsms_out\",\"type\":[\"long\",\"null\"]},{\"name\":\"comm_count_callsms_inout\",\"type\":[\"long\",\"null\"]},{\"name\":\"comm_roamingcount_call_in\",\"type\":[\"long\",\"null\"]},{\"name\":\"comm_roamingcount_call_out\",\"type\":[\"long\",\"null\"]},{\"name\":\"comm_roamingcount_call_inout\",\"type\":[\"long\",\"null\"]},{\"name\":\"comm_roamingcount_sms_in\",\"type\":[\"long\",\"null\"]},{\"name\":\"comm_roamingcount_sms_out\",\"type\":[\"long\",\"null\"]},{\"name\":\"comm_roamingcount_sms_inout\",\"type\":[\"long\",\"null\"]},{\"name\":\"comm_roamingcount_callsms_in\",\"type\":[\"long\",\"null\"]},{\"name\":\"comm_roamingcount_callsms_out\",\"type\":[\"long\",\"null\"]},{\"name\":\"comm_roamingcount_callsms_inout\",\"type\":[\"long\",\"null\"]},{\"name\":\"comm_duration_call_in\",\"type\":[\"double\",\"null\"]},{\"name\":\"comm_duration_call_out\",\"type\":[\"double\",\"null\"]},{\"name\":\"comm_duration_call_inout\",\"type\":[\"double\",\"null\"]},{\"name\":\"comm_callratio_callsms_in\",\"type\":[\"double\",\"null\"]},{\"name\":\"comm_smsratio_callsms_in\",\"type\":[\"double\",\"null\"]},{\"name\":\"comm_callratio_callsms_out\",\"type\":[\"double\",\"null\"]},{\"name\":\"comm_smsratio_callsms_out\",\"type\":[\"double\",\"null\"]},{\"name\":\"comm_callratio_callsms_inout\",\"type\":[\"double\",\"null\"]},{\"name\":\"comm_smsratio_callsms_inout\",\"type\":[\"double\",\"null\"]},{\"name\":\"comm_inratio_inout_call\",\"type\":[\"double\",\"null\"]},{\"name\":\"comm_outratio_inout_call\",\"type\":[\"double\",\"null\"]},{\"name\":\"comm_inratio_inout_sms\",\"type\":[\"double\",\"null\"]},{\"name\":\"comm_outratio_inout_sms\",\"type\":[\"double\",\"null\"]},{\"name\":\"comm_inratio_inout_callsms\",\"type\":[\"double\",\"null\"]},{\"name\":\"comm_outratio_inout_callsms\",\"type\":[\"double\",\"null\"]}]}\n",
      "                                                                                \r"
     ]
    }
   ],
   "source": [
    "from datetime import datetime\n",
    "my_fg_one.write(\n",
    "        feature_start_time=datetime(2019, 3, 5)\n",
    "    )"
   ]
  },
  {
   "cell_type": "code",
   "execution_count": 14,
   "metadata": {},
   "outputs": [
    {
     "name": "stdout",
     "output_type": "stream",
     "text": [
      "[2024-12-30 15:45:19+0700] WARNING - seeknal | Feature group already exists. Loading the feature group.\n",
      "[2024-12-30 15:45:19+0700] WARNING - seeknal | Feature group already exists. Loading the feature group.\n",
      "[2024-12-30 15:45:20+0700] INFO - seeknal | writing to offline-store\n",
      "[2024-12-30 15:45:20+0700] INFO - seeknal | writing to offline-store\n"
     ]
    },
    {
     "name": "stderr",
     "output_type": "stream",
     "text": [
      "24/12/30 15:45:21 INFO AvroSerDe: Avro schema inferred from dataframe: {\"type\":\"record\",\"name\":\"topLevelRecord\",\"fields\":[{\"name\":\"comm_count_call_in\",\"type\":[\"long\",\"null\"]},{\"name\":\"comm_count_call_out\",\"type\":[\"long\",\"null\"]},{\"name\":\"comm_count_call_inout\",\"type\":[\"long\",\"null\"]},{\"name\":\"comm_count_sms_in\",\"type\":[\"long\",\"null\"]},{\"name\":\"comm_count_sms_out\",\"type\":[\"long\",\"null\"]},{\"name\":\"comm_count_sms_inout\",\"type\":[\"long\",\"null\"]},{\"name\":\"comm_count_callsms_in\",\"type\":[\"long\",\"null\"]},{\"name\":\"comm_count_callsms_out\",\"type\":[\"long\",\"null\"]},{\"name\":\"comm_count_callsms_inout\",\"type\":[\"long\",\"null\"]},{\"name\":\"comm_roamingcount_call_in\",\"type\":[\"long\",\"null\"]},{\"name\":\"comm_roamingcount_call_out\",\"type\":[\"long\",\"null\"]},{\"name\":\"comm_roamingcount_call_inout\",\"type\":[\"long\",\"null\"]},{\"name\":\"comm_roamingcount_sms_in\",\"type\":[\"long\",\"null\"]},{\"name\":\"comm_roamingcount_sms_out\",\"type\":[\"long\",\"null\"]},{\"name\":\"comm_roamingcount_sms_inout\",\"type\":[\"long\",\"null\"]},{\"name\":\"comm_roamingcount_callsms_in\",\"type\":[\"long\",\"null\"]},{\"name\":\"comm_roamingcount_callsms_out\",\"type\":[\"long\",\"null\"]},{\"name\":\"comm_roamingcount_callsms_inout\",\"type\":[\"long\",\"null\"]},{\"name\":\"comm_duration_call_in\",\"type\":[\"double\",\"null\"]},{\"name\":\"comm_duration_call_out\",\"type\":[\"double\",\"null\"]},{\"name\":\"comm_duration_call_inout\",\"type\":[\"double\",\"null\"]},{\"name\":\"comm_callratio_callsms_in\",\"type\":[\"double\",\"null\"]},{\"name\":\"comm_smsratio_callsms_in\",\"type\":[\"double\",\"null\"]},{\"name\":\"comm_callratio_callsms_out\",\"type\":[\"double\",\"null\"]},{\"name\":\"comm_smsratio_callsms_out\",\"type\":[\"double\",\"null\"]},{\"name\":\"comm_callratio_callsms_inout\",\"type\":[\"double\",\"null\"]},{\"name\":\"comm_smsratio_callsms_inout\",\"type\":[\"double\",\"null\"]},{\"name\":\"comm_inratio_inout_call\",\"type\":[\"double\",\"null\"]},{\"name\":\"comm_outratio_inout_call\",\"type\":[\"double\",\"null\"]},{\"name\":\"comm_inratio_inout_sms\",\"type\":[\"double\",\"null\"]},{\"name\":\"comm_outratio_inout_sms\",\"type\":[\"double\",\"null\"]},{\"name\":\"comm_inratio_inout_callsms\",\"type\":[\"double\",\"null\"]},{\"name\":\"comm_outratio_inout_callsms\",\"type\":[\"double\",\"null\"]}]}\n",
      "24/12/30 15:45:26 ERROR HiveAlterHandler: Failed to alter table seeknal.fg_1__2 \n"
     ]
    }
   ],
   "source": [
    "my_fg = FeatureGroup(name=\"comm_day_two\").get_or_create()\n",
    "my_fg.set_dataframe(dataframe=spark.read.table(\"comm_day\")).write(\n",
    "    feature_start_time=datetime(2019, 3, 5)\n",
    ")"
   ]
  },
  {
   "cell_type": "markdown",
   "metadata": {},
   "source": [
    "## 4.1 Historical Features"
   ]
  },
  {
   "cell_type": "markdown",
   "metadata": {},
   "source": []
  },
  {
   "cell_type": "code",
   "execution_count": 15,
   "metadata": {},
   "outputs": [
    {
     "name": "stdout",
     "output_type": "stream",
     "text": [
      "[2024-12-30 15:47:57+0700] WARNING - seeknal | Feature group already exists. Loading the feature group.\n",
      "[2024-12-30 15:47:57+0700] WARNING - seeknal | Feature group already exists. Loading the feature group.\n"
     ]
    },
    {
     "name": "stderr",
     "output_type": "stream",
     "text": [
      "                                                                                \r"
     ]
    },
    {
     "name": "stdout",
     "output_type": "stream",
     "text": [
      "+----------+--------------------+-------------------+------------------+-------------------+---------------------+-----------------+------------------+--------------------+---------------------+----------------------+------------------------+-------------------------+--------------------------+----------------------------+------------------------+-------------------------+---------------------------+----------------------------+-----------------------------+-------------------------------+---------------------+----------------------+------------------------+-------------------------+------------------------+--------------------------+-------------------------+----------------------------+---------------------------+-----------------------+------------------------+----------------------+-----------------------+--------------------------+---------------------------+\n",
      "|    msisdn|              __pk__|         event_time|comm_count_call_in|comm_count_call_out|comm_count_call_inout|comm_count_sms_in|comm_count_sms_out|comm_count_sms_inout|comm_count_callsms_in|comm_count_callsms_out|comm_count_callsms_inout|comm_roamingcount_call_in|comm_roamingcount_call_out|comm_roamingcount_call_inout|comm_roamingcount_sms_in|comm_roamingcount_sms_out|comm_roamingcount_sms_inout|comm_roamingcount_callsms_in|comm_roamingcount_callsms_out|comm_roamingcount_callsms_inout|comm_duration_call_in|comm_duration_call_out|comm_duration_call_inout|comm_callratio_callsms_in|comm_smsratio_callsms_in|comm_callratio_callsms_out|comm_smsratio_callsms_out|comm_callratio_callsms_inout|comm_smsratio_callsms_inout|comm_inratio_inout_call|comm_outratio_inout_call|comm_inratio_inout_sms|comm_outratio_inout_sms|comm_inratio_inout_callsms|comm_outratio_inout_callsms|\n",
      "+----------+--------------------+-------------------+------------------+-------------------+---------------------+-----------------+------------------+--------------------+---------------------+----------------------+------------------------+-------------------------+--------------------------+----------------------------+------------------------+-------------------------+---------------------------+----------------------------+-----------------------------+-------------------------------+---------------------+----------------------+------------------------+-------------------------+------------------------+--------------------------+-------------------------+----------------------------+---------------------------+-----------------------+------------------------+----------------------+-----------------------+--------------------------+---------------------------+\n",
      "|005rE3R6hf|c82c466b6b09515ea...|2019-03-09 00:00:00|                 0|                  0|                    0|                0|                 3|                   3|                    0|                     3|                       3|                        0|                         0|                           0|                       0|                        0|                          0|                           0|                            0|                              0|                  0.0|                   0.0|                     0.0|                      0.0|                     0.0|                       0.0|                      1.0|                         0.0|                        1.0|                    0.0|                     0.0|                   0.0|                    1.0|                       0.0|                        1.0|\n",
      "|008QIWKOuP|d692812e7d8f7690c...|2019-03-17 00:00:00|                 0|                  0|                    0|                0|                 4|                   4|                    0|                     4|                       4|                        0|                         0|                           0|                       0|                        0|                          0|                           0|                            0|                              0|                  0.0|                   0.0|                     0.0|                      0.0|                     0.0|                       0.0|                      1.0|                         0.0|                        1.0|                    0.0|                     0.0|                   0.0|                    1.0|                       0.0|                        1.0|\n",
      "|00ADjzjARc|88364ff78551255d4...|2019-03-29 00:00:00|                 0|                  0|                    0|                0|                 0|                   0|                    0|                     0|                       0|                        0|                         0|                           0|                       0|                        0|                          0|                           0|                            0|                              0|                  0.0|                   0.0|                     0.0|                      0.0|                     0.0|                       0.0|                      0.0|                         0.0|                        0.0|                    0.0|                     0.0|                   0.0|                    0.0|                       0.0|                        0.0|\n",
      "|00hnRhRwoa|345e984339fb447ce...|2019-03-06 00:00:00|                 0|                  0|                    0|                0|                 7|                   7|                    0|                     7|                       7|                        0|                         0|                           0|                       0|                        0|                          0|                           0|                            0|                              0|                  0.0|                   0.0|                     0.0|                      0.0|                     0.0|                       0.0|                      1.0|                         0.0|                        1.0|                    0.0|                     0.0|                   0.0|                    1.0|                       0.0|                        1.0|\n",
      "|00hnRhRwoa|8675bd78b783546cb...|2019-03-22 00:00:00|                 0|                  0|                    0|                6|                 0|                   6|                    6|                     0|                       6|                        0|                         0|                           0|                       0|                        0|                          0|                           0|                            0|                              0|                  0.0|                   0.0|                     0.0|                      0.0|                     1.0|                       0.0|                      0.0|                         0.0|                        1.0|                    0.0|                     0.0|                   1.0|                    0.0|                       1.0|                        0.0|\n",
      "|011LWnfDSK|0aab0b2ccf83db6fd...|2019-03-31 00:00:00|                 0|                  0|                    0|                0|                 0|                   0|                    0|                     0|                       0|                        0|                         0|                           0|                       0|                        0|                          0|                           0|                            0|                              0|                  0.0|                  70.0|                    70.0|                      0.0|                     0.0|                       0.0|                      0.0|                         0.0|                        0.0|                    0.0|                     0.0|                   0.0|                    0.0|                       0.0|                        0.0|\n",
      "|011ezY2Kjs|8492525c1ec37da36...|2019-03-18 00:00:00|                 0|                  0|                    0|                0|                 0|                   0|                    0|                     0|                       0|                        0|                         0|                           0|                       0|                        0|                          0|                           0|                            0|                              0|                  0.0|                 417.0|                   417.0|                      0.0|                     0.0|                       0.0|                      0.0|                         0.0|                        0.0|                    0.0|                     0.0|                   0.0|                    0.0|                       0.0|                        0.0|\n",
      "|01ViZtJZCj|7783c6aca8fdc30a3...|2019-03-06 00:00:00|                 0|                  0|                    0|                0|                 7|                   7|                    0|                     7|                       7|                        0|                         0|                           0|                       0|                        0|                          0|                           0|                            0|                              0|                  0.0|                   0.0|                     0.0|                      0.0|                     0.0|                       0.0|                      1.0|                         0.0|                        1.0|                    0.0|                     0.0|                   0.0|                    1.0|                       0.0|                        1.0|\n",
      "|01YIZYeJEc|a235b1e64398de9a2...|2019-03-09 00:00:00|                 0|                  0|                    0|                0|                 0|                   0|                    0|                     0|                       0|                        0|                         0|                           0|                       0|                        0|                          0|                           0|                            0|                              0|                  0.0|                   0.0|                     0.0|                      0.0|                     0.0|                       0.0|                      0.0|                         0.0|                        0.0|                    0.0|                     0.0|                   0.0|                    0.0|                       0.0|                        0.0|\n",
      "|023mrA9VjL|70b7d1c800b26ac86...|2019-03-18 00:00:00|                 0|                  0|                    0|                0|                 5|                   5|                    0|                     5|                       5|                        0|                         0|                           0|                       0|                        0|                          0|                           0|                            0|                              0|                  0.0|                   0.0|                     0.0|                      0.0|                     0.0|                       0.0|                      1.0|                         0.0|                        1.0|                    0.0|                     0.0|                   0.0|                    1.0|                       0.0|                        1.0|\n",
      "|02BWPzwETv|b48f3d5b6dbf7fcca...|2019-03-25 00:00:00|                 0|                  3|                    3|                0|                 0|                   0|                    0|                     3|                       3|                        0|                         0|                           0|                       0|                        0|                          0|                           0|                            0|                              0|                  0.0|                 569.0|                   569.0|                      0.0|                     0.0|                       1.0|                      0.0|                         1.0|                        0.0|                    0.0|                     1.0|                   0.0|                    0.0|                       0.0|                        1.0|\n",
      "|02HnChpHas|f600dcaa5ea4f7fb3...|2019-03-16 00:00:00|                 0|                  1|                    1|                0|                 0|                   0|                    0|                     1|                       1|                        0|                         0|                           0|                       0|                        0|                          0|                           0|                            0|                              0|                  0.0|                  51.0|                    51.0|                      0.0|                     0.0|                       1.0|                      0.0|                         1.0|                        0.0|                    0.0|                     1.0|                   0.0|                    0.0|                       0.0|                        1.0|\n",
      "|02TrrTKVv7|4edcef099908e9890...|2019-03-17 00:00:00|                 0|                  0|                    0|                0|                 5|                   5|                    0|                     5|                       5|                        0|                         0|                           0|                       0|                        0|                          0|                           0|                            0|                              0|                  0.0|                   0.0|                     0.0|                      0.0|                     0.0|                       0.0|                      1.0|                         0.0|                        1.0|                    0.0|                     0.0|                   0.0|                    1.0|                       0.0|                        1.0|\n",
      "|02Zmp8aJyh|829dfe86e97c0094f...|2019-03-11 00:00:00|                 0|                  4|                    4|                0|                 0|                   0|                    0|                     4|                       4|                        0|                         0|                           0|                       0|                        0|                          0|                           0|                            0|                              0|                  0.0|                 231.0|                   231.0|                      0.0|                     0.0|                       1.0|                      0.0|                         1.0|                        0.0|                    0.0|                     1.0|                   0.0|                    0.0|                       0.0|                        1.0|\n",
      "|02aQab8mK8|8a1fa42c0c117f28b...|2019-03-28 00:00:00|                 0|                  0|                    0|                0|                 4|                   4|                    0|                     4|                       4|                        0|                         0|                           0|                       0|                        0|                          0|                           0|                            0|                              0|                  0.0|                   0.0|                     0.0|                      0.0|                     0.0|                       0.0|                      1.0|                         0.0|                        1.0|                    0.0|                     0.0|                   0.0|                    1.0|                       0.0|                        1.0|\n",
      "|02ebVZ8Llq|0431565b331835ed3...|2019-03-13 00:00:00|                 0|                  0|                    0|                0|                 4|                   4|                    0|                     4|                       4|                        0|                         0|                           0|                       0|                        0|                          0|                           0|                            0|                              0|                  0.0|                   0.0|                     0.0|                      0.0|                     0.0|                       0.0|                      1.0|                         0.0|                        1.0|                    0.0|                     0.0|                   0.0|                    1.0|                       0.0|                        1.0|\n",
      "|02ebVZ8Llq|5e7038685eb63728e...|2019-03-28 00:00:00|                 0|                  0|                    0|                0|                 8|                   8|                    0|                     8|                       8|                        0|                         0|                           0|                       0|                        0|                          0|                           0|                            0|                              0|                  0.0|                   0.0|                     0.0|                      0.0|                     0.0|                       0.0|                      1.0|                         0.0|                        1.0|                    0.0|                     0.0|                   0.0|                    1.0|                       0.0|                        1.0|\n",
      "|02hLZb2xbW|14c6f9c1b33dae67f...|2019-03-11 00:00:00|                 0|                  0|                    0|                0|                 5|                   5|                    0|                     5|                       5|                        0|                         0|                           0|                       0|                        0|                          0|                           0|                            0|                              0|                  0.0|                   0.0|                     0.0|                      0.0|                     0.0|                       0.0|                      1.0|                         0.0|                        1.0|                    0.0|                     0.0|                   0.0|                    1.0|                       0.0|                        1.0|\n",
      "|030xITmPa1|139d85dc924a85f1d...|2019-03-21 00:00:00|                 0|                  8|                    8|                0|                 0|                   0|                    0|                     8|                       8|                        0|                         0|                           0|                       0|                        0|                          0|                           0|                            0|                              0|                  0.0|                 297.0|                   297.0|                      0.0|                     0.0|                       1.0|                      0.0|                         1.0|                        0.0|                    0.0|                     1.0|                   0.0|                    0.0|                       0.0|                        1.0|\n",
      "|030ykWg7Mt|12f8a5dbaa8b60bc8...|2019-03-13 00:00:00|                 0|                  3|                    3|                0|                 0|                   0|                    0|                     3|                       3|                        0|                         0|                           0|                       0|                        0|                          0|                           0|                            0|                              0|                  0.0|                 245.0|                   245.0|                      0.0|                     0.0|                       1.0|                      0.0|                         1.0|                        0.0|                    0.0|                     1.0|                   0.0|                    0.0|                       0.0|                        1.0|\n",
      "+----------+--------------------+-------------------+------------------+-------------------+---------------------+-----------------+------------------+--------------------+---------------------+----------------------+------------------------+-------------------------+--------------------------+----------------------------+------------------------+-------------------------+---------------------------+----------------------------+-----------------------------+-------------------------------+---------------------+----------------------+------------------------+-------------------------+------------------------+--------------------------+-------------------------+----------------------------+---------------------------+-----------------------+------------------------+----------------------+-----------------------+--------------------------+---------------------------+\n",
      "only showing top 20 rows\n",
      "\n"
     ]
    }
   ],
   "source": [
    "my_fg = FeatureGroup(name=\"comm_day_two\")\n",
    "fs = FeatureLookup(source=my_fg)\n",
    "fillnull = FillNull(value=\"0.0\", dataType=\"double\")\n",
    "hist = HistoricalFeatures(lookups=[fs], fill_nulls=[fillnull])\n",
    "df = hist.to_dataframe(feature_start_time=datetime(2019, 3, 5))\n",
    "df.show()"
   ]
  },
  {
   "cell_type": "code",
   "execution_count": 18,
   "metadata": {},
   "outputs": [
    {
     "name": "stdout",
     "output_type": "stream",
     "text": [
      "[2024-12-30 15:52:17+0700] WARNING - seeknal | Feature group already exists. Loading the feature group.\n",
      "[2024-12-30 15:52:17+0700] WARNING - seeknal | Feature group already exists. Loading the feature group.\n",
      "[2024-12-30 15:52:17+0700] WARNING - seeknal | Using an existing Flow.\n",
      "[2024-12-30 15:52:17+0700] WARNING - seeknal | Using an existing Flow.\n"
     ]
    },
    {
     "name": "stderr",
     "output_type": "stream",
     "text": [
      "                                                                                \r"
     ]
    },
    {
     "name": "stdout",
     "output_type": "stream",
     "text": [
      "+----------+--------------------+-------------------+------------------+-------------------+---------------------+-----------------+------------------+--------------------+---------------------+----------------------+------------------------+-------------------------+--------------------------+----------------------------+------------------------+-------------------------+---------------------------+----------------------------+-----------------------------+-------------------------------+---------------------+----------------------+------------------------+-------------------------+------------------------+--------------------------+-------------------------+----------------------------+---------------------------+-----------------------+------------------------+----------------------+-----------------------+--------------------------+---------------------------+\n",
      "|    msisdn|              __pk__|         event_time|comm_count_call_in|comm_count_call_out|comm_count_call_inout|comm_count_sms_in|comm_count_sms_out|comm_count_sms_inout|comm_count_callsms_in|comm_count_callsms_out|comm_count_callsms_inout|comm_roamingcount_call_in|comm_roamingcount_call_out|comm_roamingcount_call_inout|comm_roamingcount_sms_in|comm_roamingcount_sms_out|comm_roamingcount_sms_inout|comm_roamingcount_callsms_in|comm_roamingcount_callsms_out|comm_roamingcount_callsms_inout|comm_duration_call_in|comm_duration_call_out|comm_duration_call_inout|comm_callratio_callsms_in|comm_smsratio_callsms_in|comm_callratio_callsms_out|comm_smsratio_callsms_out|comm_callratio_callsms_inout|comm_smsratio_callsms_inout|comm_inratio_inout_call|comm_outratio_inout_call|comm_inratio_inout_sms|comm_outratio_inout_sms|comm_inratio_inout_callsms|comm_outratio_inout_callsms|\n",
      "+----------+--------------------+-------------------+------------------+-------------------+---------------------+-----------------+------------------+--------------------+---------------------+----------------------+------------------------+-------------------------+--------------------------+----------------------------+------------------------+-------------------------+---------------------------+----------------------------+-----------------------------+-------------------------------+---------------------+----------------------+------------------------+-------------------------+------------------------+--------------------------+-------------------------+----------------------------+---------------------------+-----------------------+------------------------+----------------------+-----------------------+--------------------------+---------------------------+\n",
      "|005rE3R6hf|c82c466b6b09515ea...|2019-03-09 00:00:00|                 0|                  0|                    0|                0|                 3|                   3|                    0|                     3|                       3|                        0|                         0|                           0|                       0|                        0|                          0|                           0|                            0|                              0|                  0.0|                   0.0|                     0.0|                      0.0|                     0.0|                       0.0|                      1.0|                         0.0|                        1.0|                    0.0|                     0.0|                   0.0|                    1.0|                       0.0|                        1.0|\n",
      "|008QIWKOuP|d692812e7d8f7690c...|2019-03-17 00:00:00|                 0|                  0|                    0|                0|                 4|                   4|                    0|                     4|                       4|                        0|                         0|                           0|                       0|                        0|                          0|                           0|                            0|                              0|                  0.0|                   0.0|                     0.0|                      0.0|                     0.0|                       0.0|                      1.0|                         0.0|                        1.0|                    0.0|                     0.0|                   0.0|                    1.0|                       0.0|                        1.0|\n",
      "|00ADjzjARc|88364ff78551255d4...|2019-03-29 00:00:00|                 0|                  0|                    0|                0|                 0|                   0|                    0|                     0|                       0|                        0|                         0|                           0|                       0|                        0|                          0|                           0|                            0|                              0|                  0.0|                   0.0|                     0.0|                      0.0|                     0.0|                       0.0|                      0.0|                         0.0|                        0.0|                    0.0|                     0.0|                   0.0|                    0.0|                       0.0|                        0.0|\n",
      "|00hnRhRwoa|345e984339fb447ce...|2019-03-06 00:00:00|                 0|                  0|                    0|                0|                 7|                   7|                    0|                     7|                       7|                        0|                         0|                           0|                       0|                        0|                          0|                           0|                            0|                              0|                  0.0|                   0.0|                     0.0|                      0.0|                     0.0|                       0.0|                      1.0|                         0.0|                        1.0|                    0.0|                     0.0|                   0.0|                    1.0|                       0.0|                        1.0|\n",
      "|00hnRhRwoa|8675bd78b783546cb...|2019-03-22 00:00:00|                 0|                  0|                    0|                6|                 0|                   6|                    6|                     0|                       6|                        0|                         0|                           0|                       0|                        0|                          0|                           0|                            0|                              0|                  0.0|                   0.0|                     0.0|                      0.0|                     1.0|                       0.0|                      0.0|                         0.0|                        1.0|                    0.0|                     0.0|                   1.0|                    0.0|                       1.0|                        0.0|\n",
      "|011LWnfDSK|0aab0b2ccf83db6fd...|2019-03-31 00:00:00|                 0|                  0|                    0|                0|                 0|                   0|                    0|                     0|                       0|                        0|                         0|                           0|                       0|                        0|                          0|                           0|                            0|                              0|                  0.0|                  70.0|                    70.0|                      0.0|                     0.0|                       0.0|                      0.0|                         0.0|                        0.0|                    0.0|                     0.0|                   0.0|                    0.0|                       0.0|                        0.0|\n",
      "|011ezY2Kjs|8492525c1ec37da36...|2019-03-18 00:00:00|                 0|                  0|                    0|                0|                 0|                   0|                    0|                     0|                       0|                        0|                         0|                           0|                       0|                        0|                          0|                           0|                            0|                              0|                  0.0|                 417.0|                   417.0|                      0.0|                     0.0|                       0.0|                      0.0|                         0.0|                        0.0|                    0.0|                     0.0|                   0.0|                    0.0|                       0.0|                        0.0|\n",
      "|01ViZtJZCj|7783c6aca8fdc30a3...|2019-03-06 00:00:00|                 0|                  0|                    0|                0|                 7|                   7|                    0|                     7|                       7|                        0|                         0|                           0|                       0|                        0|                          0|                           0|                            0|                              0|                  0.0|                   0.0|                     0.0|                      0.0|                     0.0|                       0.0|                      1.0|                         0.0|                        1.0|                    0.0|                     0.0|                   0.0|                    1.0|                       0.0|                        1.0|\n",
      "|01YIZYeJEc|a235b1e64398de9a2...|2019-03-09 00:00:00|                 0|                  0|                    0|                0|                 0|                   0|                    0|                     0|                       0|                        0|                         0|                           0|                       0|                        0|                          0|                           0|                            0|                              0|                  0.0|                   0.0|                     0.0|                      0.0|                     0.0|                       0.0|                      0.0|                         0.0|                        0.0|                    0.0|                     0.0|                   0.0|                    0.0|                       0.0|                        0.0|\n",
      "|023mrA9VjL|70b7d1c800b26ac86...|2019-03-18 00:00:00|                 0|                  0|                    0|                0|                 5|                   5|                    0|                     5|                       5|                        0|                         0|                           0|                       0|                        0|                          0|                           0|                            0|                              0|                  0.0|                   0.0|                     0.0|                      0.0|                     0.0|                       0.0|                      1.0|                         0.0|                        1.0|                    0.0|                     0.0|                   0.0|                    1.0|                       0.0|                        1.0|\n",
      "|02BWPzwETv|b48f3d5b6dbf7fcca...|2019-03-25 00:00:00|                 0|                  3|                    3|                0|                 0|                   0|                    0|                     3|                       3|                        0|                         0|                           0|                       0|                        0|                          0|                           0|                            0|                              0|                  0.0|                 569.0|                   569.0|                      0.0|                     0.0|                       1.0|                      0.0|                         1.0|                        0.0|                    0.0|                     1.0|                   0.0|                    0.0|                       0.0|                        1.0|\n",
      "|02HnChpHas|f600dcaa5ea4f7fb3...|2019-03-16 00:00:00|                 0|                  1|                    1|                0|                 0|                   0|                    0|                     1|                       1|                        0|                         0|                           0|                       0|                        0|                          0|                           0|                            0|                              0|                  0.0|                  51.0|                    51.0|                      0.0|                     0.0|                       1.0|                      0.0|                         1.0|                        0.0|                    0.0|                     1.0|                   0.0|                    0.0|                       0.0|                        1.0|\n",
      "|02TrrTKVv7|4edcef099908e9890...|2019-03-17 00:00:00|                 0|                  0|                    0|                0|                 5|                   5|                    0|                     5|                       5|                        0|                         0|                           0|                       0|                        0|                          0|                           0|                            0|                              0|                  0.0|                   0.0|                     0.0|                      0.0|                     0.0|                       0.0|                      1.0|                         0.0|                        1.0|                    0.0|                     0.0|                   0.0|                    1.0|                       0.0|                        1.0|\n",
      "|02Zmp8aJyh|829dfe86e97c0094f...|2019-03-11 00:00:00|                 0|                  4|                    4|                0|                 0|                   0|                    0|                     4|                       4|                        0|                         0|                           0|                       0|                        0|                          0|                           0|                            0|                              0|                  0.0|                 231.0|                   231.0|                      0.0|                     0.0|                       1.0|                      0.0|                         1.0|                        0.0|                    0.0|                     1.0|                   0.0|                    0.0|                       0.0|                        1.0|\n",
      "|02aQab8mK8|8a1fa42c0c117f28b...|2019-03-28 00:00:00|                 0|                  0|                    0|                0|                 4|                   4|                    0|                     4|                       4|                        0|                         0|                           0|                       0|                        0|                          0|                           0|                            0|                              0|                  0.0|                   0.0|                     0.0|                      0.0|                     0.0|                       0.0|                      1.0|                         0.0|                        1.0|                    0.0|                     0.0|                   0.0|                    1.0|                       0.0|                        1.0|\n",
      "|02ebVZ8Llq|0431565b331835ed3...|2019-03-13 00:00:00|                 0|                  0|                    0|                0|                 4|                   4|                    0|                     4|                       4|                        0|                         0|                           0|                       0|                        0|                          0|                           0|                            0|                              0|                  0.0|                   0.0|                     0.0|                      0.0|                     0.0|                       0.0|                      1.0|                         0.0|                        1.0|                    0.0|                     0.0|                   0.0|                    1.0|                       0.0|                        1.0|\n",
      "|02ebVZ8Llq|5e7038685eb63728e...|2019-03-28 00:00:00|                 0|                  0|                    0|                0|                 8|                   8|                    0|                     8|                       8|                        0|                         0|                           0|                       0|                        0|                          0|                           0|                            0|                              0|                  0.0|                   0.0|                     0.0|                      0.0|                     0.0|                       0.0|                      1.0|                         0.0|                        1.0|                    0.0|                     0.0|                   0.0|                    1.0|                       0.0|                        1.0|\n",
      "|02hLZb2xbW|14c6f9c1b33dae67f...|2019-03-11 00:00:00|                 0|                  0|                    0|                0|                 5|                   5|                    0|                     5|                       5|                        0|                         0|                           0|                       0|                        0|                          0|                           0|                            0|                              0|                  0.0|                   0.0|                     0.0|                      0.0|                     0.0|                       0.0|                      1.0|                         0.0|                        1.0|                    0.0|                     0.0|                   0.0|                    1.0|                       0.0|                        1.0|\n",
      "|030xITmPa1|139d85dc924a85f1d...|2019-03-21 00:00:00|                 0|                  8|                    8|                0|                 0|                   0|                    0|                     8|                       8|                        0|                         0|                           0|                       0|                        0|                          0|                           0|                            0|                              0|                  0.0|                 297.0|                   297.0|                      0.0|                     0.0|                       1.0|                      0.0|                         1.0|                        0.0|                    0.0|                     1.0|                   0.0|                    0.0|                       0.0|                        1.0|\n",
      "|030ykWg7Mt|12f8a5dbaa8b60bc8...|2019-03-13 00:00:00|                 0|                  3|                    3|                0|                 0|                   0|                    0|                     3|                       3|                        0|                         0|                           0|                       0|                        0|                          0|                           0|                            0|                              0|                  0.0|                 245.0|                   245.0|                      0.0|                     0.0|                       1.0|                      0.0|                         1.0|                        0.0|                    0.0|                     1.0|                   0.0|                    0.0|                       0.0|                        1.0|\n",
      "+----------+--------------------+-------------------+------------------+-------------------+---------------------+-----------------+------------------+--------------------+---------------------+----------------------+------------------------+-------------------------+--------------------------+----------------------------+------------------------+-------------------------+---------------------------+----------------------------+-----------------------------+-------------------------------+---------------------+----------------------+------------------------+-------------------------+------------------------+--------------------------+-------------------------+----------------------------+---------------------------+-----------------------+------------------------+----------------------+-----------------------+--------------------------+---------------------------+\n",
      "only showing top 20 rows\n",
      "\n"
     ]
    }
   ],
   "source": [
    "my_fg = FeatureGroup(name=\"comm_day_three\")\n",
    "my_fg_two = FeatureGroup(name=\"comm_day_three\")\n",
    "fs = FeatureLookup(source=my_fg)\n",
    "fs_two = FeatureLookup(source=my_fg_two, features=[\"comm_count_call_in\"])\n",
    "fillnull = FillNull(value=\"0.0\", dataType=\"double\")\n",
    "hist = HistoricalFeatures(lookups=[fs], fill_nulls=[fillnull])\n",
    "df = hist.to_dataframe(feature_start_time=datetime(2019, 3, 5))\n",
    "df.show()"
   ]
  },
  {
   "cell_type": "code",
   "execution_count": 10,
   "metadata": {},
   "outputs": [
    {
     "data": {
      "text/plain": [
       "FeatureGroup(name='comm_day_three', entity=Entity(name='msisdn', join_keys=['msisdn'], pii_keys=None, description=None), id=3, materialization=Materialization(event_time_col='day', date_pattern=None, offline=True, online=False, offline_materialization=OfflineMaterialization(store=OfflineStore(value=FeatureStoreFileOutput(path='s3a://warehouse/feature_store', kind=<FileKindEnum.DELTA: 'delta'>), kind='file', name='object_storage'), mode='overwrite', ttl=None), online_materialization=OnlineMaterialization(store=OnlineStore(value=None, kind='file', name=None), ttl=1440)), source=Flow(name='my_flow_for_fg', input=FlowInput(value='comm_day', kind=<FlowInputEnum.HIVE_TABLE: 'hive_table'>), input_date_col=None, tasks=None, output=FlowOutput(value=None, kind=<FlowOutputEnum.SPARK_DATAFRAME: 'spark_dataframe'>), description=''), description=None, features=[Feature(name='comm_count_call_in', feature_id='67', description='', data_type='long', online_data_type='long', created_at='2024-12-30 02:51:17', updated_at='2024-12-30 02:51:17'), Feature(name='comm_count_call_out', feature_id='68', description='', data_type='long', online_data_type='long', created_at='2024-12-30 02:51:17', updated_at='2024-12-30 02:51:17'), Feature(name='comm_count_call_inout', feature_id='69', description='', data_type='long', online_data_type='long', created_at='2024-12-30 02:51:17', updated_at='2024-12-30 02:51:17'), Feature(name='comm_count_sms_in', feature_id='70', description='', data_type='long', online_data_type='long', created_at='2024-12-30 02:51:17', updated_at='2024-12-30 02:51:17'), Feature(name='comm_count_sms_out', feature_id='71', description='', data_type='long', online_data_type='long', created_at='2024-12-30 02:51:18', updated_at='2024-12-30 02:51:18'), Feature(name='comm_count_sms_inout', feature_id='72', description='', data_type='long', online_data_type='long', created_at='2024-12-30 02:51:18', updated_at='2024-12-30 02:51:18'), Feature(name='comm_count_callsms_in', feature_id='73', description='', data_type='long', online_data_type='long', created_at='2024-12-30 02:51:18', updated_at='2024-12-30 02:51:18'), Feature(name='comm_count_callsms_out', feature_id='74', description='', data_type='long', online_data_type='long', created_at='2024-12-30 02:51:18', updated_at='2024-12-30 02:51:18'), Feature(name='comm_count_callsms_inout', feature_id='75', description='', data_type='long', online_data_type='long', created_at='2024-12-30 02:51:18', updated_at='2024-12-30 02:51:18'), Feature(name='comm_roamingcount_call_in', feature_id='76', description='', data_type='long', online_data_type='long', created_at='2024-12-30 02:51:19', updated_at='2024-12-30 02:51:19'), Feature(name='comm_roamingcount_call_out', feature_id='77', description='', data_type='long', online_data_type='long', created_at='2024-12-30 02:51:19', updated_at='2024-12-30 02:51:19'), Feature(name='comm_roamingcount_call_inout', feature_id='78', description='', data_type='long', online_data_type='long', created_at='2024-12-30 02:51:19', updated_at='2024-12-30 02:51:19'), Feature(name='comm_roamingcount_sms_in', feature_id='79', description='', data_type='long', online_data_type='long', created_at='2024-12-30 02:51:19', updated_at='2024-12-30 02:51:19'), Feature(name='comm_roamingcount_sms_out', feature_id='80', description='', data_type='long', online_data_type='long', created_at='2024-12-30 02:51:19', updated_at='2024-12-30 02:51:19'), Feature(name='comm_roamingcount_sms_inout', feature_id='81', description='', data_type='long', online_data_type='long', created_at='2024-12-30 02:51:20', updated_at='2024-12-30 02:51:20'), Feature(name='comm_roamingcount_callsms_in', feature_id='82', description='', data_type='long', online_data_type='long', created_at='2024-12-30 02:51:20', updated_at='2024-12-30 02:51:20'), Feature(name='comm_roamingcount_callsms_out', feature_id='83', description='', data_type='long', online_data_type='long', created_at='2024-12-30 02:51:20', updated_at='2024-12-30 02:51:20'), Feature(name='comm_roamingcount_callsms_inout', feature_id='84', description='', data_type='long', online_data_type='long', created_at='2024-12-30 02:51:20', updated_at='2024-12-30 02:51:20'), Feature(name='comm_duration_call_in', feature_id='85', description='', data_type='double', online_data_type='double', created_at='2024-12-30 02:51:20', updated_at='2024-12-30 02:51:20'), Feature(name='comm_duration_call_out', feature_id='86', description='', data_type='double', online_data_type='double', created_at='2024-12-30 02:51:21', updated_at='2024-12-30 02:51:21'), Feature(name='comm_duration_call_inout', feature_id='87', description='', data_type='double', online_data_type='double', created_at='2024-12-30 02:51:21', updated_at='2024-12-30 02:51:21'), Feature(name='comm_callratio_callsms_in', feature_id='88', description='', data_type='double', online_data_type='double', created_at='2024-12-30 02:51:21', updated_at='2024-12-30 02:51:21'), Feature(name='comm_smsratio_callsms_in', feature_id='89', description='', data_type='double', online_data_type='double', created_at='2024-12-30 02:51:21', updated_at='2024-12-30 02:51:21'), Feature(name='comm_callratio_callsms_out', feature_id='90', description='', data_type='double', online_data_type='double', created_at='2024-12-30 02:51:21', updated_at='2024-12-30 02:51:21'), Feature(name='comm_smsratio_callsms_out', feature_id='91', description='', data_type='double', online_data_type='double', created_at='2024-12-30 02:51:22', updated_at='2024-12-30 02:51:22'), Feature(name='comm_callratio_callsms_inout', feature_id='92', description='', data_type='double', online_data_type='double', created_at='2024-12-30 02:51:22', updated_at='2024-12-30 02:51:22'), Feature(name='comm_smsratio_callsms_inout', feature_id='93', description='', data_type='double', online_data_type='double', created_at='2024-12-30 02:51:22', updated_at='2024-12-30 02:51:22'), Feature(name='comm_inratio_inout_call', feature_id='94', description='', data_type='double', online_data_type='double', created_at='2024-12-30 02:51:22', updated_at='2024-12-30 02:51:22'), Feature(name='comm_outratio_inout_call', feature_id='95', description='', data_type='double', online_data_type='double', created_at='2024-12-30 02:51:22', updated_at='2024-12-30 02:51:22'), Feature(name='comm_inratio_inout_sms', feature_id='96', description='', data_type='double', online_data_type='double', created_at='2024-12-30 02:51:23', updated_at='2024-12-30 02:51:23'), Feature(name='comm_outratio_inout_sms', feature_id='97', description='', data_type='double', online_data_type='double', created_at='2024-12-30 02:51:23', updated_at='2024-12-30 02:51:23'), Feature(name='comm_inratio_inout_callsms', feature_id='98', description='', data_type='double', online_data_type='double', created_at='2024-12-30 02:51:23', updated_at='2024-12-30 02:51:23'), Feature(name='comm_outratio_inout_callsms', feature_id='99', description='', data_type='double', online_data_type='double', created_at='2024-12-30 02:51:23', updated_at='2024-12-30 02:51:23')], tag=None, feature_group_id=3, offline_watermarks=['2019-03-25 00:00:00', '2019-03-06 00:00:00', '2019-03-19 00:00:00', '2019-03-17 00:00:00', '2019-03-13 00:00:00', '2019-03-18 00:00:00', '2019-03-23 00:00:00', '2019-03-12 00:00:00', '2019-03-16 00:00:00', '2019-03-31 00:00:00', '2019-03-21 00:00:00', '2019-03-24 00:00:00', '2019-03-10 00:00:00', '2019-03-05 00:00:00', '2019-03-08 00:00:00', '2019-03-22 00:00:00', '2019-03-29 00:00:00', '2019-03-20 00:00:00', '2019-03-28 00:00:00', '2019-03-14 00:00:00', '2019-03-15 00:00:00', '2019-03-26 00:00:00', '2019-03-30 00:00:00', '2019-03-09 00:00:00', '2019-03-27 00:00:00', '2019-03-11 00:00:00', '2019-03-07 00:00:00'], online_watermarks=[], version=1, created_at=None, updated_at=None, avro_schema={'type': 'record', 'name': 'topLevelRecord', 'fields': [{'name': 'comm_count_call_in', 'type': ['long', 'null']}, {'name': 'comm_count_call_out', 'type': ['long', 'null']}, {'name': 'comm_count_call_inout', 'type': ['long', 'null']}, {'name': 'comm_count_sms_in', 'type': ['long', 'null']}, {'name': 'comm_count_sms_out', 'type': ['long', 'null']}, {'name': 'comm_count_sms_inout', 'type': ['long', 'null']}, {'name': 'comm_count_callsms_in', 'type': ['long', 'null']}, {'name': 'comm_count_callsms_out', 'type': ['long', 'null']}, {'name': 'comm_count_callsms_inout', 'type': ['long', 'null']}, {'name': 'comm_roamingcount_call_in', 'type': ['long', 'null']}, {'name': 'comm_roamingcount_call_out', 'type': ['long', 'null']}, {'name': 'comm_roamingcount_call_inout', 'type': ['long', 'null']}, {'name': 'comm_roamingcount_sms_in', 'type': ['long', 'null']}, {'name': 'comm_roamingcount_sms_out', 'type': ['long', 'null']}, {'name': 'comm_roamingcount_sms_inout', 'type': ['long', 'null']}, {'name': 'comm_roamingcount_callsms_in', 'type': ['long', 'null']}, {'name': 'comm_roamingcount_callsms_out', 'type': ['long', 'null']}, {'name': 'comm_roamingcount_callsms_inout', 'type': ['long', 'null']}, {'name': 'comm_duration_call_in', 'type': ['double', 'null']}, {'name': 'comm_duration_call_out', 'type': ['double', 'null']}, {'name': 'comm_duration_call_inout', 'type': ['double', 'null']}, {'name': 'comm_callratio_callsms_in', 'type': ['double', 'null']}, {'name': 'comm_smsratio_callsms_in', 'type': ['double', 'null']}, {'name': 'comm_callratio_callsms_out', 'type': ['double', 'null']}, {'name': 'comm_smsratio_callsms_out', 'type': ['double', 'null']}, {'name': 'comm_callratio_callsms_inout', 'type': ['double', 'null']}, {'name': 'comm_smsratio_callsms_inout', 'type': ['double', 'null']}, {'name': 'comm_inratio_inout_call', 'type': ['double', 'null']}, {'name': 'comm_outratio_inout_call', 'type': ['double', 'null']}, {'name': 'comm_inratio_inout_sms', 'type': ['double', 'null']}, {'name': 'comm_outratio_inout_sms', 'type': ['double', 'null']}, {'name': 'comm_inratio_inout_callsms', 'type': ['double', 'null']}, {'name': 'comm_outratio_inout_callsms', 'type': ['double', 'null']}]})"
      ]
     },
     "execution_count": 10,
     "metadata": {},
     "output_type": "execute_result"
    }
   ],
   "source": [
    "my_fg"
   ]
  },
  {
   "cell_type": "code",
   "execution_count": 9,
   "metadata": {},
   "outputs": [
    {
     "name": "stdout",
     "output_type": "stream",
     "text": [
      "[2024-12-30 02:10:56+0700] WARNING - seeknal | Feature group already exists. Loading the feature group.\n",
      "[2024-12-30 02:10:56+0700] WARNING - seeknal | Using an existing Flow.\n",
      "+----------+--------------------+-------------------+------------------+-------------------+---------------------+-----------------+------------------+--------------------+---------------------+----------------------+------------------------+-------------------------+--------------------------+----------------------------+------------------------+-------------------------+---------------------------+----------------------------+-----------------------------+-------------------------------+---------------------+----------------------+------------------------+-------------------------+------------------------+--------------------------+-------------------------+----------------------------+---------------------------+-----------------------+------------------------+----------------------+-----------------------+--------------------------+---------------------------+-----+\n",
      "|    msisdn|              __pk__|         event_time|comm_count_call_in|comm_count_call_out|comm_count_call_inout|comm_count_sms_in|comm_count_sms_out|comm_count_sms_inout|comm_count_callsms_in|comm_count_callsms_out|comm_count_callsms_inout|comm_roamingcount_call_in|comm_roamingcount_call_out|comm_roamingcount_call_inout|comm_roamingcount_sms_in|comm_roamingcount_sms_out|comm_roamingcount_sms_inout|comm_roamingcount_callsms_in|comm_roamingcount_callsms_out|comm_roamingcount_callsms_inout|comm_duration_call_in|comm_duration_call_out|comm_duration_call_inout|comm_callratio_callsms_in|comm_smsratio_callsms_in|comm_callratio_callsms_out|comm_smsratio_callsms_out|comm_callratio_callsms_inout|comm_smsratio_callsms_inout|comm_inratio_inout_call|comm_outratio_inout_call|comm_inratio_inout_sms|comm_outratio_inout_sms|comm_inratio_inout_callsms|comm_outratio_inout_callsms|label|\n",
      "+----------+--------------------+-------------------+------------------+-------------------+---------------------+-----------------+------------------+--------------------+---------------------+----------------------+------------------------+-------------------------+--------------------------+----------------------------+------------------------+-------------------------+---------------------------+----------------------------+-----------------------------+-------------------------------+---------------------+----------------------+------------------------+-------------------------+------------------------+--------------------------+-------------------------+----------------------------+---------------------------+-----------------------+------------------------+----------------------+-----------------------+--------------------------+---------------------------+-----+\n",
      "|01ViZtJZCj|7783c6aca8fdc30a3...|2019-03-06 00:00:00|                 0|                  0|                    0|                0|                 7|                   7|                    0|                     7|                       7|                        0|                         0|                           0|                       0|                        0|                          0|                           0|                            0|                              0|                  0.0|                   0.0|                     0.0|                      NaN|                     NaN|                       0.0|                      1.0|                         0.0|                        1.0|                    NaN|                     NaN|                   0.0|                    1.0|                       0.0|                        1.0|    0|\n",
      "|011ezY2Kjs|8492525c1ec37da36...|2019-03-18 00:00:00|                 0|                  0|                    0|                0|                 0|                   0|                    0|                     0|                       0|                        0|                         0|                           0|                       0|                        0|                          0|                           0|                            0|                              0|                  0.0|                 417.0|                   417.0|                      NaN|                     NaN|                       NaN|                      NaN|                         NaN|                        NaN|                    NaN|                     NaN|                   NaN|                    NaN|                       NaN|                        NaN|    1|\n",
      "+----------+--------------------+-------------------+------------------+-------------------+---------------------+-----------------+------------------+--------------------+---------------------+----------------------+------------------------+-------------------------+--------------------------+----------------------------+------------------------+-------------------------+---------------------------+----------------------------+-----------------------------+-------------------------------+---------------------+----------------------+------------------------+-------------------------+------------------------+--------------------------+-------------------------+----------------------------+---------------------------+-----------------------+------------------------+----------------------+-----------------------+--------------------------+---------------------------+-----+\n",
      "\n"
     ]
    }
   ],
   "source": [
    "my_fg = FeatureGroup(name=\"comm_day\")\n",
    "fs = FeatureLookup(source=my_fg)\n",
    "\n",
    "hist = HistoricalFeatures(lookups=[fs])\n",
    "spine_dummy_data = pd.DataFrame(\n",
    "    [\n",
    "        {\"msisdn\": \"011ezY2Kjs\", \"app_date\": \"2019-03-19\", \"label\": 1},\n",
    "        {\"msisdn\": \"01ViZtJZCj\", \"app_date\": \"2019-03-10\", \"label\": 0},\n",
    "    ]\n",
    ")\n",
    "df = hist.using_spine(\n",
    "    spine=spine_dummy_data, date_col=\"app_date\", keep_cols=[\"label\"]\n",
    ").to_dataframe()\n",
    "df.show()"
   ]
  },
  {
   "cell_type": "code",
   "execution_count": 10,
   "metadata": {},
   "outputs": [
    {
     "name": "stdout",
     "output_type": "stream",
     "text": [
      "[2024-12-30 02:11:07+0700] WARNING - seeknal | Feature group already exists. Loading the feature group.\n",
      "[2024-12-30 02:11:07+0700] WARNING - seeknal | Using an existing Flow.\n",
      "[2024-12-30 02:11:07+0700] WARNING - seeknal | Feature group already exists. Loading the feature group.\n"
     ]
    },
    {
     "name": "stderr",
     "output_type": "stream",
     "text": [
      "24/12/30 02:11:09 INFO FeatureStoreSerDe: Duplicate columns are found, will rename intersect columns with prefix feature group name\n"
     ]
    },
    {
     "name": "stdout",
     "output_type": "stream",
     "text": [
      "+----------+--------------------+-------------------+---------------------------+----------------------------+------------------------------+--------------------------+---------------------------+-----------------------------+------------------------------+-------------------------------+---------------------------------+----------------------------------+-----------------------------------+-------------------------------------+---------------------------------+----------------------------------+------------------------------------+-------------------------------------+--------------------------------------+----------------------------------------+------------------------------+-------------------------------+---------------------------------+----------------------------------+---------------------------------+-----------------------------------+----------------------------------+-------------------------------------+------------------------------------+--------------------------------+---------------------------------+-------------------------------+--------------------------------+-----------------------------------+------------------------------------+-------------------------------+--------------------------------+----------------------------------+------------------------------+-------------------------------+---------------------------------+----------------------------------+-----------------------------------+-------------------------------------+--------------------------------------+---------------------------------------+-----------------------------------------+-------------------------------------+--------------------------------------+----------------------------------------+-----------------------------------------+------------------------------------------+--------------------------------------------+----------------------------------+-----------------------------------+-------------------------------------+--------------------------------------+-------------------------------------+---------------------------------------+--------------------------------------+-----------------------------------------+----------------------------------------+------------------------------------+-------------------------------------+-----------------------------------+------------------------------------+---------------------------------------+----------------------------------------+\n",
      "|    msisdn|              __pk__|         event_time|comm_day_comm_count_call_in|comm_day_comm_count_call_out|comm_day_comm_count_call_inout|comm_day_comm_count_sms_in|comm_day_comm_count_sms_out|comm_day_comm_count_sms_inout|comm_day_comm_count_callsms_in|comm_day_comm_count_callsms_out|comm_day_comm_count_callsms_inout|comm_day_comm_roamingcount_call_in|comm_day_comm_roamingcount_call_out|comm_day_comm_roamingcount_call_inout|comm_day_comm_roamingcount_sms_in|comm_day_comm_roamingcount_sms_out|comm_day_comm_roamingcount_sms_inout|comm_day_comm_roamingcount_callsms_in|comm_day_comm_roamingcount_callsms_out|comm_day_comm_roamingcount_callsms_inout|comm_day_comm_duration_call_in|comm_day_comm_duration_call_out|comm_day_comm_duration_call_inout|comm_day_comm_callratio_callsms_in|comm_day_comm_smsratio_callsms_in|comm_day_comm_callratio_callsms_out|comm_day_comm_smsratio_callsms_out|comm_day_comm_callratio_callsms_inout|comm_day_comm_smsratio_callsms_inout|comm_day_comm_inratio_inout_call|comm_day_comm_outratio_inout_call|comm_day_comm_inratio_inout_sms|comm_day_comm_outratio_inout_sms|comm_day_comm_inratio_inout_callsms|comm_day_comm_outratio_inout_callsms|comm_day_two_comm_count_call_in|comm_day_two_comm_count_call_out|comm_day_two_comm_count_call_inout|comm_day_two_comm_count_sms_in|comm_day_two_comm_count_sms_out|comm_day_two_comm_count_sms_inout|comm_day_two_comm_count_callsms_in|comm_day_two_comm_count_callsms_out|comm_day_two_comm_count_callsms_inout|comm_day_two_comm_roamingcount_call_in|comm_day_two_comm_roamingcount_call_out|comm_day_two_comm_roamingcount_call_inout|comm_day_two_comm_roamingcount_sms_in|comm_day_two_comm_roamingcount_sms_out|comm_day_two_comm_roamingcount_sms_inout|comm_day_two_comm_roamingcount_callsms_in|comm_day_two_comm_roamingcount_callsms_out|comm_day_two_comm_roamingcount_callsms_inout|comm_day_two_comm_duration_call_in|comm_day_two_comm_duration_call_out|comm_day_two_comm_duration_call_inout|comm_day_two_comm_callratio_callsms_in|comm_day_two_comm_smsratio_callsms_in|comm_day_two_comm_callratio_callsms_out|comm_day_two_comm_smsratio_callsms_out|comm_day_two_comm_callratio_callsms_inout|comm_day_two_comm_smsratio_callsms_inout|comm_day_two_comm_inratio_inout_call|comm_day_two_comm_outratio_inout_call|comm_day_two_comm_inratio_inout_sms|comm_day_two_comm_outratio_inout_sms|comm_day_two_comm_inratio_inout_callsms|comm_day_two_comm_outratio_inout_callsms|\n",
      "+----------+--------------------+-------------------+---------------------------+----------------------------+------------------------------+--------------------------+---------------------------+-----------------------------+------------------------------+-------------------------------+---------------------------------+----------------------------------+-----------------------------------+-------------------------------------+---------------------------------+----------------------------------+------------------------------------+-------------------------------------+--------------------------------------+----------------------------------------+------------------------------+-------------------------------+---------------------------------+----------------------------------+---------------------------------+-----------------------------------+----------------------------------+-------------------------------------+------------------------------------+--------------------------------+---------------------------------+-------------------------------+--------------------------------+-----------------------------------+------------------------------------+-------------------------------+--------------------------------+----------------------------------+------------------------------+-------------------------------+---------------------------------+----------------------------------+-----------------------------------+-------------------------------------+--------------------------------------+---------------------------------------+-----------------------------------------+-------------------------------------+--------------------------------------+----------------------------------------+-----------------------------------------+------------------------------------------+--------------------------------------------+----------------------------------+-----------------------------------+-------------------------------------+--------------------------------------+-------------------------------------+---------------------------------------+--------------------------------------+-----------------------------------------+----------------------------------------+------------------------------------+-------------------------------------+-----------------------------------+------------------------------------+---------------------------------------+----------------------------------------+\n",
      "|011LWnfDSK|0aab0b2ccf83db6fd...|2019-03-31 00:00:00|                          0|                           0|                             0|                         0|                          0|                            0|                             0|                              0|                                0|                                 0|                                  0|                                    0|                                0|                                 0|                                   0|                                    0|                                     0|                                       0|                           0.0|                           70.0|                             70.0|                               NaN|                              NaN|                                NaN|                               NaN|                                  NaN|                                 NaN|                             NaN|                              NaN|                            NaN|                             NaN|                                NaN|                                 NaN|                              0|                               0|                                 0|                             0|                              0|                                0|                                 0|                                  0|                                    0|                                     0|                                      0|                                        0|                                    0|                                     0|                                       0|                                        0|                                         0|                                           0|                               0.0|                               70.0|                                 70.0|                                   NaN|                                  NaN|                                    NaN|                                   NaN|                                      NaN|                                     NaN|                                 NaN|                                  NaN|                                NaN|                                 NaN|                                    NaN|                                     NaN|\n",
      "|05X5wBWKN3|938637639a535d9c0...|2019-03-31 00:00:00|                          0|                           2|                             2|                         0|                          0|                            0|                             0|                              2|                                2|                                 0|                                  0|                                    0|                                0|                                 0|                                   0|                                    0|                                     0|                                       0|                           0.0|                          227.0|                            227.0|                               NaN|                              NaN|                                1.0|                               0.0|                                  1.0|                                 0.0|                             0.0|                              1.0|                            NaN|                             NaN|                                0.0|                                 1.0|                              0|                               2|                                 2|                             0|                              0|                                0|                                 0|                                  2|                                    2|                                     0|                                      0|                                        0|                                    0|                                     0|                                       0|                                        0|                                         0|                                           0|                               0.0|                              227.0|                                227.0|                                   NaN|                                  NaN|                                    1.0|                                   0.0|                                      1.0|                                     0.0|                                 0.0|                                  1.0|                                NaN|                                 NaN|                                    0.0|                                     1.0|\n",
      "|077kjsIFBG|55dc41277698a68cc...|2019-03-31 00:00:00|                          0|                           0|                             0|                         0|                          0|                            0|                             0|                              0|                                0|                                 0|                                  0|                                    0|                                0|                                 0|                                   0|                                    0|                                     0|                                       0|                           0.0|                           78.0|                             78.0|                               NaN|                              NaN|                                NaN|                               NaN|                                  NaN|                                 NaN|                             NaN|                              NaN|                            NaN|                             NaN|                                NaN|                                 NaN|                              0|                               0|                                 0|                             0|                              0|                                0|                                 0|                                  0|                                    0|                                     0|                                      0|                                        0|                                    0|                                     0|                                       0|                                        0|                                         0|                                           0|                               0.0|                               78.0|                                 78.0|                                   NaN|                                  NaN|                                    NaN|                                   NaN|                                      NaN|                                     NaN|                                 NaN|                                  NaN|                                NaN|                                 NaN|                                    NaN|                                     NaN|\n",
      "|09GIin6cYR|dea1f4b9643280c61...|2019-03-31 00:00:00|                          0|                           3|                             3|                         0|                          0|                            0|                             0|                              3|                                3|                                 0|                                  0|                                    0|                                0|                                 0|                                   0|                                    0|                                     0|                                       0|                           0.0|                            1.0|                              1.0|                               NaN|                              NaN|                                1.0|                               0.0|                                  1.0|                                 0.0|                             0.0|                              1.0|                            NaN|                             NaN|                                0.0|                                 1.0|                              0|                               3|                                 3|                             0|                              0|                                0|                                 0|                                  3|                                    3|                                     0|                                      0|                                        0|                                    0|                                     0|                                       0|                                        0|                                         0|                                           0|                               0.0|                                1.0|                                  1.0|                                   NaN|                                  NaN|                                    1.0|                                   0.0|                                      1.0|                                     0.0|                                 0.0|                                  1.0|                                NaN|                                 NaN|                                    0.0|                                     1.0|\n",
      "|09r6GYZH54|3be871811adadea82...|2019-03-31 00:00:00|                          0|                           0|                             0|                         0|                          7|                            7|                             0|                              7|                                7|                                 0|                                  0|                                    0|                                0|                                 0|                                   0|                                    0|                                     0|                                       0|                           0.0|                            0.0|                              0.0|                               NaN|                              NaN|                                0.0|                               1.0|                                  0.0|                                 1.0|                             NaN|                              NaN|                            0.0|                             1.0|                                0.0|                                 1.0|                              0|                               0|                                 0|                             0|                              7|                                7|                                 0|                                  7|                                    7|                                     0|                                      0|                                        0|                                    0|                                     0|                                       0|                                        0|                                         0|                                           0|                               0.0|                                0.0|                                  0.0|                                   NaN|                                  NaN|                                    0.0|                                   1.0|                                      0.0|                                     1.0|                                 NaN|                                  NaN|                                0.0|                                 1.0|                                    0.0|                                     1.0|\n",
      "|0BGjXpyWtl|d66bb19726677bd9a...|2019-03-31 00:00:00|                          0|                           0|                             0|                         0|                          6|                            6|                             0|                              6|                                6|                                 0|                                  0|                                    0|                                0|                                 0|                                   0|                                    0|                                     0|                                       0|                           0.0|                            0.0|                              0.0|                               NaN|                              NaN|                                0.0|                               1.0|                                  0.0|                                 1.0|                             NaN|                              NaN|                            0.0|                             1.0|                                0.0|                                 1.0|                              0|                               0|                                 0|                             0|                              6|                                6|                                 0|                                  6|                                    6|                                     0|                                      0|                                        0|                                    0|                                     0|                                       0|                                        0|                                         0|                                           0|                               0.0|                                0.0|                                  0.0|                                   NaN|                                  NaN|                                    0.0|                                   1.0|                                      0.0|                                     1.0|                                 NaN|                                  NaN|                                0.0|                                 1.0|                                    0.0|                                     1.0|\n",
      "|0DoNxkhv50|570636fe948c217f1...|2019-03-31 00:00:00|                          4|                           0|                             4|                         0|                          0|                            0|                             4|                              0|                                4|                                 0|                                  0|                                    0|                                0|                                 0|                                   0|                                    0|                                     0|                                       0|                         211.0|                            0.0|                            211.0|                               1.0|                              0.0|                                NaN|                               NaN|                                  1.0|                                 0.0|                             1.0|                              0.0|                            NaN|                             NaN|                                1.0|                                 0.0|                              4|                               0|                                 4|                             0|                              0|                                0|                                 4|                                  0|                                    4|                                     0|                                      0|                                        0|                                    0|                                     0|                                       0|                                        0|                                         0|                                           0|                             211.0|                                0.0|                                211.0|                                   1.0|                                  0.0|                                    NaN|                                   NaN|                                      1.0|                                     0.0|                                 1.0|                                  0.0|                                NaN|                                 NaN|                                    1.0|                                     0.0|\n",
      "|0F6aNK1tOd|eeba4ffee3a8f845c...|2019-03-31 00:00:00|                          8|                           0|                             8|                         0|                          0|                            0|                             8|                              0|                                8|                                 0|                                  0|                                    0|                                0|                                 0|                                   0|                                    0|                                     0|                                       0|                         659.0|                            0.0|                            659.0|                               1.0|                              0.0|                                NaN|                               NaN|                                  1.0|                                 0.0|                             1.0|                              0.0|                            NaN|                             NaN|                                1.0|                                 0.0|                              8|                               0|                                 8|                             0|                              0|                                0|                                 8|                                  0|                                    8|                                     0|                                      0|                                        0|                                    0|                                     0|                                       0|                                        0|                                         0|                                           0|                             659.0|                                0.0|                                659.0|                                   1.0|                                  0.0|                                    NaN|                                   NaN|                                      1.0|                                     0.0|                                 1.0|                                  0.0|                                NaN|                                 NaN|                                    1.0|                                     0.0|\n",
      "|0cExwRz3rc|35f55a08fb3375958...|2019-03-31 00:00:00|                          0|                           7|                             7|                         4|                          0|                            4|                             4|                              7|                               11|                                 0|                                  7|                                    7|                                4|                                 0|                                   4|                                    4|                                     7|                                      11|                           0.0|                          360.0|                            360.0|                               0.0|                              1.0|                                1.0|                               0.0|                   0.6363636363636364|                  0.3636363636363636|                             0.0|                              1.0|                            1.0|                             0.0|                 0.3636363636363636|                  0.6363636363636364|                              0|                               7|                                 7|                             4|                              0|                                4|                                 4|                                  7|                                   11|                                     0|                                      7|                                        7|                                    4|                                     0|                                       4|                                        4|                                         7|                                          11|                               0.0|                              360.0|                                360.0|                                   0.0|                                  1.0|                                    1.0|                                   0.0|                       0.6363636363636364|                      0.3636363636363636|                                 0.0|                                  1.0|                                1.0|                                 0.0|                     0.3636363636363636|                      0.6363636363636364|\n",
      "|0cFKoRBZO7|e252e8240fbf3b2f0...|2019-03-31 00:00:00|                          4|                           0|                             4|                         0|                          0|                            0|                             4|                              0|                                4|                                 0|                                  0|                                    0|                                0|                                 0|                                   0|                                    0|                                     0|                                       0|                         401.0|                            0.0|                            401.0|                               1.0|                              0.0|                                NaN|                               NaN|                                  1.0|                                 0.0|                             1.0|                              0.0|                            NaN|                             NaN|                                1.0|                                 0.0|                              4|                               0|                                 4|                             0|                              0|                                0|                                 4|                                  0|                                    4|                                     0|                                      0|                                        0|                                    0|                                     0|                                       0|                                        0|                                         0|                                           0|                             401.0|                                0.0|                                401.0|                                   1.0|                                  0.0|                                    NaN|                                   NaN|                                      1.0|                                     0.0|                                 1.0|                                  0.0|                                NaN|                                 NaN|                                    1.0|                                     0.0|\n",
      "|0hjNvczP4m|c6c818e49eebdecef...|2019-03-31 00:00:00|                          0|                           8|                             8|                         0|                          0|                            0|                             0|                              8|                                8|                                 0|                                  0|                                    0|                                0|                                 0|                                   0|                                    0|                                     0|                                       0|                           0.0|                           29.0|                             29.0|                               NaN|                              NaN|                                1.0|                               0.0|                                  1.0|                                 0.0|                             0.0|                              1.0|                            NaN|                             NaN|                                0.0|                                 1.0|                              0|                               8|                                 8|                             0|                              0|                                0|                                 0|                                  8|                                    8|                                     0|                                      0|                                        0|                                    0|                                     0|                                       0|                                        0|                                         0|                                           0|                               0.0|                               29.0|                                 29.0|                                   NaN|                                  NaN|                                    1.0|                                   0.0|                                      1.0|                                     0.0|                                 0.0|                                  1.0|                                NaN|                                 NaN|                                    0.0|                                     1.0|\n",
      "|0kGmPgoZ3C|69fa79f0f604cab50...|2019-03-31 00:00:00|                          0|                           0|                             0|                         0|                          0|                            0|                             0|                              0|                                0|                                 0|                                  0|                                    0|                                0|                                 0|                                   0|                                    0|                                     0|                                       0|                           0.0|                          617.0|                            617.0|                               NaN|                              NaN|                                NaN|                               NaN|                                  NaN|                                 NaN|                             NaN|                              NaN|                            NaN|                             NaN|                                NaN|                                 NaN|                              0|                               0|                                 0|                             0|                              0|                                0|                                 0|                                  0|                                    0|                                     0|                                      0|                                        0|                                    0|                                     0|                                       0|                                        0|                                         0|                                           0|                               0.0|                              617.0|                                617.0|                                   NaN|                                  NaN|                                    NaN|                                   NaN|                                      NaN|                                     NaN|                                 NaN|                                  NaN|                                NaN|                                 NaN|                                    NaN|                                     NaN|\n",
      "|0pmqIQyFEC|e472ae142a7097153...|2019-03-31 00:00:00|                          0|                           0|                             0|                         6|                          1|                            7|                             6|                              1|                                7|                                 0|                                  0|                                    0|                                0|                                 0|                                   0|                                    0|                                     0|                                       0|                           0.0|                            0.0|                              0.0|                               0.0|                              1.0|                                0.0|                               1.0|                                  0.0|                                 1.0|                             NaN|                              NaN|             0.8571428571428571|              0.1428571428571428|                 0.8571428571428571|                  0.1428571428571428|                              0|                               0|                                 0|                             6|                              1|                                7|                                 6|                                  1|                                    7|                                     0|                                      0|                                        0|                                    0|                                     0|                                       0|                                        0|                                         0|                                           0|                               0.0|                                0.0|                                  0.0|                                   0.0|                                  1.0|                                    0.0|                                   1.0|                                      0.0|                                     1.0|                                 NaN|                                  NaN|                 0.8571428571428571|                  0.1428571428571428|                     0.8571428571428571|                      0.1428571428571428|\n",
      "|0snPnEyxdp|9d042e0c46abb4fa5...|2019-03-31 00:00:00|                          0|                           0|                             0|                         0|                          0|                            0|                             0|                              0|                                0|                                 0|                                  0|                                    0|                                0|                                 0|                                   0|                                    0|                                     0|                                       0|                           0.0|                            0.0|                              0.0|                               NaN|                              NaN|                                NaN|                               NaN|                                  NaN|                                 NaN|                             NaN|                              NaN|                            NaN|                             NaN|                                NaN|                                 NaN|                              0|                               0|                                 0|                             0|                              0|                                0|                                 0|                                  0|                                    0|                                     0|                                      0|                                        0|                                    0|                                     0|                                       0|                                        0|                                         0|                                           0|                               0.0|                                0.0|                                  0.0|                                   NaN|                                  NaN|                                    NaN|                                   NaN|                                      NaN|                                     NaN|                                 NaN|                                  NaN|                                NaN|                                 NaN|                                    NaN|                                     NaN|\n",
      "|0sozDNN3xB|2dfb344459b593855...|2019-03-31 00:00:00|                          0|                           0|                             0|                         5|                          0|                            5|                             5|                              0|                                5|                                 0|                                  0|                                    0|                                5|                                 0|                                   5|                                    5|                                     0|                                       5|                           0.0|                            0.0|                              0.0|                               0.0|                              1.0|                                NaN|                               NaN|                                  0.0|                                 1.0|                             NaN|                              NaN|                            1.0|                             0.0|                                1.0|                                 0.0|                              0|                               0|                                 0|                             5|                              0|                                5|                                 5|                                  0|                                    5|                                     0|                                      0|                                        0|                                    5|                                     0|                                       5|                                        5|                                         0|                                           5|                               0.0|                                0.0|                                  0.0|                                   0.0|                                  1.0|                                    NaN|                                   NaN|                                      0.0|                                     1.0|                                 NaN|                                  NaN|                                1.0|                                 0.0|                                    1.0|                                     0.0|\n",
      "|0ulH94QDfX|1ad1a6abcb548248a...|2019-03-31 00:00:00|                          0|                           5|                             5|                         0|                          0|                            0|                             0|                              5|                                5|                                 0|                                  5|                                    5|                                0|                                 0|                                   0|                                    0|                                     5|                                       5|                           0.0|                          165.0|                            165.0|                               NaN|                              NaN|                                1.0|                               0.0|                                  1.0|                                 0.0|                             0.0|                              1.0|                            NaN|                             NaN|                                0.0|                                 1.0|                              0|                               5|                                 5|                             0|                              0|                                0|                                 0|                                  5|                                    5|                                     0|                                      5|                                        5|                                    0|                                     0|                                       0|                                        0|                                         5|                                           5|                               0.0|                              165.0|                                165.0|                                   NaN|                                  NaN|                                    1.0|                                   0.0|                                      1.0|                                     0.0|                                 0.0|                                  1.0|                                NaN|                                 NaN|                                    0.0|                                     1.0|\n",
      "|0uweUu6DSg|c70b7e62adac79cef...|2019-03-31 00:00:00|                          0|                           0|                             0|                         0|                          4|                            4|                             0|                              4|                                4|                                 0|                                  0|                                    0|                                0|                                 0|                                   0|                                    0|                                     0|                                       0|                           0.0|                            0.0|                              0.0|                               NaN|                              NaN|                                0.0|                               1.0|                                  0.0|                                 1.0|                             NaN|                              NaN|                            0.0|                             1.0|                                0.0|                                 1.0|                              0|                               0|                                 0|                             0|                              4|                                4|                                 0|                                  4|                                    4|                                     0|                                      0|                                        0|                                    0|                                     0|                                       0|                                        0|                                         0|                                           0|                               0.0|                                0.0|                                  0.0|                                   NaN|                                  NaN|                                    0.0|                                   1.0|                                      0.0|                                     1.0|                                 NaN|                                  NaN|                                0.0|                                 1.0|                                    0.0|                                     1.0|\n",
      "|0vbQh3D9uw|1f711678ef153b3e7...|2019-03-31 00:00:00|                          0|                           0|                             0|                         0|                          4|                            4|                             0|                              4|                                4|                                 0|                                  0|                                    0|                                0|                                 0|                                   0|                                    0|                                     0|                                       0|                           0.0|                            0.0|                              0.0|                               NaN|                              NaN|                                0.0|                               1.0|                                  0.0|                                 1.0|                             NaN|                              NaN|                            0.0|                             1.0|                                0.0|                                 1.0|                              0|                               0|                                 0|                             0|                              4|                                4|                                 0|                                  4|                                    4|                                     0|                                      0|                                        0|                                    0|                                     0|                                       0|                                        0|                                         0|                                           0|                               0.0|                                0.0|                                  0.0|                                   NaN|                                  NaN|                                    0.0|                                   1.0|                                      0.0|                                     1.0|                                 NaN|                                  NaN|                                0.0|                                 1.0|                                    0.0|                                     1.0|\n",
      "|11PfLjDcB6|c34944958776f4d4f...|2019-03-31 00:00:00|                          0|                           1|                             1|                         0|                          0|                            0|                             0|                              1|                                1|                                 0|                                  1|                                    1|                                0|                                 0|                                   0|                                    0|                                     1|                                       1|                           0.0|                          339.0|                            339.0|                               NaN|                              NaN|                                1.0|                               0.0|                                  1.0|                                 0.0|                             0.0|                              1.0|                            NaN|                             NaN|                                0.0|                                 1.0|                              0|                               1|                                 1|                             0|                              0|                                0|                                 0|                                  1|                                    1|                                     0|                                      1|                                        1|                                    0|                                     0|                                       0|                                        0|                                         1|                                           1|                               0.0|                              339.0|                                339.0|                                   NaN|                                  NaN|                                    1.0|                                   0.0|                                      1.0|                                     0.0|                                 0.0|                                  1.0|                                NaN|                                 NaN|                                    0.0|                                     1.0|\n",
      "|12KxgM97nZ|a4d263732828cff06...|2019-03-31 00:00:00|                          0|                           0|                             0|                         0|                          0|                            0|                             0|                              0|                                0|                                 0|                                  0|                                    0|                                0|                                 0|                                   0|                                    0|                                     0|                                       0|                           0.0|                            0.0|                              0.0|                               NaN|                              NaN|                                NaN|                               NaN|                                  NaN|                                 NaN|                             NaN|                              NaN|                            NaN|                             NaN|                                NaN|                                 NaN|                              0|                               0|                                 0|                             0|                              0|                                0|                                 0|                                  0|                                    0|                                     0|                                      0|                                        0|                                    0|                                     0|                                       0|                                        0|                                         0|                                           0|                               0.0|                                0.0|                                  0.0|                                   NaN|                                  NaN|                                    NaN|                                   NaN|                                      NaN|                                     NaN|                                 NaN|                                  NaN|                                NaN|                                 NaN|                                    NaN|                                     NaN|\n",
      "+----------+--------------------+-------------------+---------------------------+----------------------------+------------------------------+--------------------------+---------------------------+-----------------------------+------------------------------+-------------------------------+---------------------------------+----------------------------------+-----------------------------------+-------------------------------------+---------------------------------+----------------------------------+------------------------------------+-------------------------------------+--------------------------------------+----------------------------------------+------------------------------+-------------------------------+---------------------------------+----------------------------------+---------------------------------+-----------------------------------+----------------------------------+-------------------------------------+------------------------------------+--------------------------------+---------------------------------+-------------------------------+--------------------------------+-----------------------------------+------------------------------------+-------------------------------+--------------------------------+----------------------------------+------------------------------+-------------------------------+---------------------------------+----------------------------------+-----------------------------------+-------------------------------------+--------------------------------------+---------------------------------------+-----------------------------------------+-------------------------------------+--------------------------------------+----------------------------------------+-----------------------------------------+------------------------------------------+--------------------------------------------+----------------------------------+-----------------------------------+-------------------------------------+--------------------------------------+-------------------------------------+---------------------------------------+--------------------------------------+-----------------------------------------+----------------------------------------+------------------------------------+-------------------------------------+-----------------------------------+------------------------------------+---------------------------------------+----------------------------------------+\n",
      "only showing top 20 rows\n",
      "\n"
     ]
    }
   ],
   "source": [
    "my_fg = FeatureGroup(name=\"comm_day\")\n",
    "my_fg_two = FeatureGroup(name=\"comm_day_two\")\n",
    "fs = FeatureLookup(source=my_fg)\n",
    "fs_two = FeatureLookup(source=my_fg_two)\n",
    "\n",
    "hist = HistoricalFeatures(lookups=[fs, fs_two])\n",
    "df = hist.using_latest(\n",
    "    fetch_strategy=GetLatestTimeStrategy.REQUIRE_ANY\n",
    ").to_dataframe()\n",
    "df.show()"
   ]
  },
  {
   "cell_type": "markdown",
   "metadata": {},
   "source": [
    "## 4.2 Serve features to Online Store"
   ]
  },
  {
   "cell_type": "markdown",
   "metadata": {},
   "source": []
  },
  {
   "cell_type": "code",
   "execution_count": 21,
   "metadata": {},
   "outputs": [
    {
     "name": "stdout",
     "output_type": "stream",
     "text": [
      "[2024-12-30 16:15:00+0700] WARNING - seeknal | Feature group already exists. Loading the feature group.\n",
      "[2024-12-30 16:15:00+0700] WARNING - seeknal | Feature group already exists. Loading the feature group.\n",
      "[2024-12-30 16:15:01+0700] WARNING - seeknal | Using an existing Flow.\n",
      "[2024-12-30 16:15:01+0700] WARNING - seeknal | Using an existing Flow.\n",
      "[2024-12-30 16:15:02+0700] WARNING - seeknal | Feature group already exists. Loading the feature group.\n",
      "[2024-12-30 16:15:02+0700] WARNING - seeknal | Feature group already exists. Loading the feature group.\n"
     ]
    },
    {
     "name": "stderr",
     "output_type": "stream",
     "text": [
      "/Users/fitrakacamarga/project/mta/signal/.venv/lib/python3.11/site-packages/pydantic/main.py:426: UserWarning: Pydantic serializer warnings:\n",
      "  Expected `enum` but got `str` with value `'file'` - serialized value may not be as expected\n",
      "  return self.__pydantic_serializer__.to_python(\n"
     ]
    },
    {
     "name": "stdout",
     "output_type": "stream",
     "text": [
      "[2024-12-30 16:15:02+0700] WARNING - seeknal | Using an existing Flow.\n",
      "[2024-12-30 16:15:02+0700] WARNING - seeknal | Using an existing Flow.\n",
      "[{'msisdn': '05X5wBWKN3', 'comm_count_call_in': 0, 'comm_count_call_out': 2, 'comm_count_call_inout': 2, 'comm_count_sms_in': 0, 'comm_count_sms_out': 0, 'comm_count_sms_inout': 0, 'comm_count_callsms_in': 0, 'comm_count_callsms_out': 2, 'comm_count_callsms_inout': 2, 'comm_roamingcount_call_in': 0, 'comm_roamingcount_call_out': 0, 'comm_roamingcount_call_inout': 0, 'comm_roamingcount_sms_in': 0, 'comm_roamingcount_sms_out': 0, 'comm_roamingcount_sms_inout': 0, 'comm_roamingcount_callsms_in': 0, 'comm_roamingcount_callsms_out': 0, 'comm_roamingcount_callsms_inout': 0, 'comm_duration_call_in': 0.0, 'comm_duration_call_out': 227.0, 'comm_duration_call_inout': 227.0, 'comm_callratio_callsms_in': 0.0, 'comm_smsratio_callsms_in': 0.0, 'comm_callratio_callsms_out': 1.0, 'comm_smsratio_callsms_out': 0.0, 'comm_callratio_callsms_inout': 1.0, 'comm_smsratio_callsms_inout': 0.0, 'comm_inratio_inout_call': 0.0, 'comm_outratio_inout_call': 1.0, 'comm_inratio_inout_sms': 0.0, 'comm_outratio_inout_sms': 0.0, 'comm_inratio_inout_callsms': 0.0, 'comm_outratio_inout_callsms': 1.0}]\n"
     ]
    }
   ],
   "source": [
    "my_fg = FeatureGroup(name=\"comm_day_three\")\n",
    "fs = FeatureLookup(source=my_fg)\n",
    "\n",
    "user_one = Entity(name=\"msisdn\").get_or_create().set_key_values(\"05X5wBWKN3\")\n",
    "fillnull = FillNull(value=\"0.0\", dataType=\"double\")\n",
    "hist = HistoricalFeatures(lookups=[fs], fill_nulls=[fillnull])\n",
    "hist = hist.using_latest().serve()\n",
    "abc = hist.get_features(keys=[user_one])\n",
    "print(abc)"
   ]
  },
  {
   "cell_type": "code",
   "execution_count": 22,
   "metadata": {},
   "outputs": [
    {
     "name": "stdout",
     "output_type": "stream",
     "text": [
      "[2024-12-30 16:15:10+0700] WARNING - seeknal | Feature group already exists. Loading the feature group.\n",
      "[2024-12-30 16:15:10+0700] WARNING - seeknal | Feature group already exists. Loading the feature group.\n",
      "[2024-12-30 16:15:12+0700] WARNING - seeknal | Feature group already exists. Loading the feature group.\n",
      "[2024-12-30 16:15:12+0700] WARNING - seeknal | Feature group already exists. Loading the feature group.\n",
      "[2024-12-30 16:15:12+0700] WARNING - seeknal | Using an existing Flow.\n",
      "[2024-12-30 16:15:12+0700] WARNING - seeknal | Using an existing Flow.\n",
      "[2024-12-30 16:15:12+0700] WARNING - seeknal | Refreshing online_table since it is expired based specified ttl.\n",
      "[2024-12-30 16:15:12+0700] WARNING - seeknal | Refreshing online_table since it is expired based specified ttl.\n"
     ]
    },
    {
     "ename": "TypeError",
     "evalue": "string indices must be integers, not 'str'",
     "output_type": "error",
     "traceback": [
      "\u001b[0;31m---------------------------------------------------------------------------\u001b[0m",
      "\u001b[0;31mTypeError\u001b[0m                                 Traceback (most recent call last)",
      "Cell \u001b[0;32mIn[22], line 8\u001b[0m\n\u001b[1;32m      6\u001b[0m hist \u001b[38;5;241m=\u001b[39m HistoricalFeatures(lookups\u001b[38;5;241m=\u001b[39m[fs], fill_nulls\u001b[38;5;241m=\u001b[39m[fillnull])\n\u001b[1;32m      7\u001b[0m online_store \u001b[38;5;241m=\u001b[39m OnlineStore(value\u001b[38;5;241m=\u001b[39mFeatureStoreFileOutput(path\u001b[38;5;241m=\u001b[39m\u001b[38;5;124m\"\u001b[39m\u001b[38;5;124m/tmp/online_store\u001b[39m\u001b[38;5;124m\"\u001b[39m))\n\u001b[0;32m----> 8\u001b[0m online_table \u001b[38;5;241m=\u001b[39m \u001b[43mhist\u001b[49m\u001b[38;5;241;43m.\u001b[39;49m\u001b[43musing_latest\u001b[49m\u001b[43m(\u001b[49m\u001b[43m)\u001b[49m\u001b[38;5;241;43m.\u001b[39;49m\u001b[43mserve\u001b[49m\u001b[43m(\u001b[49m\n\u001b[1;32m      9\u001b[0m \u001b[43m    \u001b[49m\u001b[43mtarget\u001b[49m\u001b[38;5;241;43m=\u001b[39;49m\u001b[43monline_store\u001b[49m\u001b[43m,\u001b[49m\u001b[43m \u001b[49m\u001b[43mttl\u001b[49m\u001b[38;5;241;43m=\u001b[39;49m\u001b[43mtimedelta\u001b[49m\u001b[43m(\u001b[49m\u001b[43mminutes\u001b[49m\u001b[38;5;241;43m=\u001b[39;49m\u001b[38;5;241;43m1\u001b[39;49m\u001b[43m)\u001b[49m\n\u001b[1;32m     10\u001b[0m \u001b[43m)\u001b[49m\n\u001b[1;32m     11\u001b[0m \u001b[38;5;28mprint\u001b[39m(online_table\u001b[38;5;241m.\u001b[39mget_features(keys\u001b[38;5;241m=\u001b[39m[user_one]))\n",
      "File \u001b[0;32m~/project/mta/signal/src/seeknal/featurestore/feature_group.py:1141\u001b[0m, in \u001b[0;36mHistoricalFeatures.serve\u001b[0;34m(self, feature_start_time, feature_end_time, target, name, ttl)\u001b[0m\n\u001b[1;32m   1139\u001b[0m df \u001b[38;5;241m=\u001b[39m \u001b[38;5;28mself\u001b[39m\u001b[38;5;241m.\u001b[39mflow\u001b[38;5;241m.\u001b[39mtransform(spark\u001b[38;5;241m=\u001b[39m\u001b[38;5;28mself\u001b[39m\u001b[38;5;241m.\u001b[39mspark)\n\u001b[1;32m   1140\u001b[0m df \u001b[38;5;241m=\u001b[39m \u001b[38;5;28mself\u001b[39m\u001b[38;5;241m.\u001b[39m_filter_by_start_end_time(df, feature_start_time, feature_end_time)\n\u001b[0;32m-> 1141\u001b[0m \u001b[38;5;28;01mreturn\u001b[39;00m \u001b[43mOnlineFeatures\u001b[49m\u001b[43m(\u001b[49m\n\u001b[1;32m   1142\u001b[0m \u001b[43m    \u001b[49m\u001b[43mname\u001b[49m\u001b[38;5;241;43m=\u001b[39;49m\u001b[43mname\u001b[49m\u001b[43m,\u001b[49m\n\u001b[1;32m   1143\u001b[0m \u001b[43m    \u001b[49m\u001b[43mlookup_key\u001b[49m\u001b[38;5;241;43m=\u001b[39;49m\u001b[38;5;28;43mself\u001b[39;49m\u001b[38;5;241;43m.\u001b[39;49m\u001b[43mlookup_key\u001b[49m\u001b[43m,\u001b[49m\n\u001b[1;32m   1144\u001b[0m \u001b[43m    \u001b[49m\u001b[43mlookups\u001b[49m\u001b[38;5;241;43m=\u001b[39;49m\u001b[38;5;28;43mself\u001b[39;49m\u001b[38;5;241;43m.\u001b[39;49m\u001b[43mlookups\u001b[49m\u001b[43m,\u001b[49m\n\u001b[1;32m   1145\u001b[0m \u001b[43m    \u001b[49m\u001b[43mdataframe\u001b[49m\u001b[38;5;241;43m=\u001b[39;49m\u001b[43mdf\u001b[49m\u001b[43m,\u001b[49m\n\u001b[1;32m   1146\u001b[0m \u001b[43m    \u001b[49m\u001b[43mttl\u001b[49m\u001b[38;5;241;43m=\u001b[39;49m\u001b[43mttl\u001b[49m\u001b[43m,\u001b[49m\n\u001b[1;32m   1147\u001b[0m \u001b[43m    \u001b[49m\u001b[43monline_store\u001b[49m\u001b[38;5;241;43m=\u001b[39;49m\u001b[43mtarget\u001b[49m\u001b[43m,\u001b[49m\n\u001b[1;32m   1148\u001b[0m \u001b[43m\u001b[49m\u001b[43m)\u001b[49m\n",
      "File \u001b[0;32m<string>:13\u001b[0m, in \u001b[0;36m__init__\u001b[0;34m(self, lookup_key, dataframe, name, description, lookups, ttl, online_store, tag, online_watermarks, _online_reader)\u001b[0m\n",
      "File \u001b[0;32m~/project/mta/signal/src/seeknal/context.py:233\u001b[0m, in \u001b[0;36mrequire_project.<locals>.wrapper\u001b[0;34m(*args, **kwargs)\u001b[0m\n\u001b[1;32m    231\u001b[0m \u001b[38;5;28;01mdef\u001b[39;00m \u001b[38;5;21mwrapper\u001b[39m(\u001b[38;5;241m*\u001b[39margs, \u001b[38;5;241m*\u001b[39m\u001b[38;5;241m*\u001b[39mkwargs):\n\u001b[1;32m    232\u001b[0m     check_project_id()\n\u001b[0;32m--> 233\u001b[0m     \u001b[38;5;28;01mreturn\u001b[39;00m \u001b[43mfunc\u001b[49m\u001b[43m(\u001b[49m\u001b[38;5;241;43m*\u001b[39;49m\u001b[43margs\u001b[49m\u001b[43m,\u001b[49m\u001b[43m \u001b[49m\u001b[38;5;241;43m*\u001b[39;49m\u001b[38;5;241;43m*\u001b[39;49m\u001b[43mkwargs\u001b[49m\u001b[43m)\u001b[49m\n",
      "File \u001b[0;32m~/project/mta/signal/src/seeknal/workspace.py:20\u001b[0m, in \u001b[0;36mrequire_workspace.<locals>.wrapper\u001b[0;34m(*args, **kwargs)\u001b[0m\n\u001b[1;32m     18\u001b[0m \u001b[38;5;28;01mif\u001b[39;00m get_workspace_id() \u001b[38;5;129;01mis\u001b[39;00m \u001b[38;5;28;01mNone\u001b[39;00m:\n\u001b[1;32m     19\u001b[0m     Workspace(name\u001b[38;5;241m=\u001b[39mAccount\u001b[38;5;241m.\u001b[39mget_username(), private\u001b[38;5;241m=\u001b[39m\u001b[38;5;28;01mTrue\u001b[39;00m)\u001b[38;5;241m.\u001b[39mget_or_create()\n\u001b[0;32m---> 20\u001b[0m \u001b[38;5;28;01mreturn\u001b[39;00m \u001b[43mfunc\u001b[49m\u001b[43m(\u001b[49m\u001b[38;5;241;43m*\u001b[39;49m\u001b[43margs\u001b[49m\u001b[43m,\u001b[49m\u001b[43m \u001b[49m\u001b[38;5;241;43m*\u001b[39;49m\u001b[38;5;241;43m*\u001b[39;49m\u001b[43mkwargs\u001b[49m\u001b[43m)\u001b[49m\n",
      "File \u001b[0;32m~/project/mta/signal/src/seeknal/featurestore/feature_group.py:1310\u001b[0m, in \u001b[0;36mOnlineFeatures.__post_init__\u001b[0;34m(self, **kwargs)\u001b[0m\n\u001b[1;32m   1302\u001b[0m logger\u001b[38;5;241m.\u001b[39mwarn(\n\u001b[1;32m   1303\u001b[0m     \u001b[38;5;124m\"\u001b[39m\u001b[38;5;124mRefreshing online_table since it is expired based specified ttl.\u001b[39m\u001b[38;5;124m\"\u001b[39m\n\u001b[1;32m   1304\u001b[0m )\n\u001b[1;32m   1305\u001b[0m dataframe \u001b[38;5;241m=\u001b[39m (\n\u001b[1;32m   1306\u001b[0m     HistoricalFeatures(lookups\u001b[38;5;241m=\u001b[39m\u001b[38;5;28mself\u001b[39m\u001b[38;5;241m.\u001b[39mlookups)\n\u001b[1;32m   1307\u001b[0m     \u001b[38;5;241m.\u001b[39musing_latest()\n\u001b[1;32m   1308\u001b[0m     \u001b[38;5;241m.\u001b[39mto_dataframe()\n\u001b[1;32m   1309\u001b[0m )\n\u001b[0;32m-> 1310\u001b[0m \u001b[38;5;28mself\u001b[39m\u001b[38;5;241m.\u001b[39m_online_reader \u001b[38;5;241m=\u001b[39m \u001b[38;5;28;43mself\u001b[39;49m\u001b[38;5;241;43m.\u001b[39;49m\u001b[43monline_store\u001b[49m\u001b[43m(\u001b[49m\n\u001b[1;32m   1311\u001b[0m \u001b[43m    \u001b[49m\u001b[43mresult\u001b[49m\u001b[38;5;241;43m=\u001b[39;49m\u001b[43mdataframe\u001b[49m\u001b[43m,\u001b[49m\n\u001b[1;32m   1312\u001b[0m \u001b[43m    \u001b[49m\u001b[43mwrite\u001b[49m\u001b[38;5;241;43m=\u001b[39;49m\u001b[38;5;28;43;01mTrue\u001b[39;49;00m\u001b[43m,\u001b[49m\n\u001b[1;32m   1313\u001b[0m \u001b[43m    \u001b[49m\u001b[43mname\u001b[49m\u001b[38;5;241;43m=\u001b[39;49m\u001b[43mname\u001b[49m\u001b[43m,\u001b[49m\n\u001b[1;32m   1314\u001b[0m \u001b[43m    \u001b[49m\u001b[43mproject\u001b[49m\u001b[38;5;241;43m=\u001b[39;49m\u001b[43mcontext\u001b[49m\u001b[38;5;241;43m.\u001b[39;49m\u001b[43mproject_id\u001b[49m\u001b[43m,\u001b[49m\n\u001b[1;32m   1315\u001b[0m \u001b[43m\u001b[49m\u001b[43m)\u001b[49m\n\u001b[1;32m   1316\u001b[0m query \u001b[38;5;241m=\u001b[39m copy\u001b[38;5;241m.\u001b[39mdeepcopy(\u001b[38;5;28mself\u001b[39m\u001b[38;5;241m.\u001b[39m_online_reader)\n\u001b[1;32m   1317\u001b[0m distinct_dt_df \u001b[38;5;241m=\u001b[39m query\u001b[38;5;241m.\u001b[39madd_sql(\n\u001b[1;32m   1318\u001b[0m     \u001b[38;5;124m\"\u001b[39m\u001b[38;5;124mSELECT distinct event_time FROM __THIS__\u001b[39m\u001b[38;5;124m\"\u001b[39m\n\u001b[1;32m   1319\u001b[0m )\u001b[38;5;241m.\u001b[39mtransform(params\u001b[38;5;241m=\u001b[39m{\u001b[38;5;124m\"\u001b[39m\u001b[38;5;124mreturn_as_pandas\u001b[39m\u001b[38;5;124m\"\u001b[39m: \u001b[38;5;28;01mTrue\u001b[39;00m})\n",
      "File \u001b[0;32m~/project/mta/signal/src/seeknal/featurestore/featurestore.py:409\u001b[0m, in \u001b[0;36mOnlineStore.__call__\u001b[0;34m(self, result, spark, write, *args, **kwargs)\u001b[0m\n\u001b[1;32m    407\u001b[0m     path \u001b[38;5;241m=\u001b[39m os\u001b[38;5;241m.\u001b[39mpath\u001b[38;5;241m.\u001b[39mjoin(base_path, \u001b[38;5;124m\"\u001b[39m\u001b[38;5;124mdata\u001b[39m\u001b[38;5;124m\"\u001b[39m, file_name_complete)\n\u001b[1;32m    408\u001b[0m \u001b[38;5;28;01melse\u001b[39;00m:\n\u001b[0;32m--> 409\u001b[0m     base_path \u001b[38;5;241m=\u001b[39m \u001b[38;5;28;43mself\u001b[39;49m\u001b[38;5;241;43m.\u001b[39;49m\u001b[43mvalue\u001b[49m\u001b[43m[\u001b[49m\u001b[38;5;124;43m\"\u001b[39;49m\u001b[38;5;124;43mpath\u001b[39;49m\u001b[38;5;124;43m\"\u001b[39;49m\u001b[43m]\u001b[49m\n\u001b[1;32m    410\u001b[0m     path \u001b[38;5;241m=\u001b[39m os\u001b[38;5;241m.\u001b[39mpath\u001b[38;5;241m.\u001b[39mjoin(base_path, file_name_complete)\n\u001b[1;32m    411\u001b[0m \u001b[38;5;28;01mif\u001b[39;00m write:\n",
      "\u001b[0;31mTypeError\u001b[0m: string indices must be integers, not 'str'"
     ]
    }
   ],
   "source": [
    "my_fg = FeatureGroup(name=\"comm_day_two\")\n",
    "fs = FeatureLookup(source=my_fg)\n",
    "\n",
    "user_one = Entity(name=\"msisdn\").get_or_create().set_key_values(\"05X5wBWKN3\")\n",
    "fillnull = FillNull(value=\"0.0\", dataType=\"double\")\n",
    "hist = HistoricalFeatures(lookups=[fs], fill_nulls=[fillnull])\n",
    "online_store = OnlineStore(value=FeatureStoreFileOutput(path=\"/tmp/online_store\"))\n",
    "online_table = hist.using_latest().serve(\n",
    "    target=online_store, ttl=timedelta(minutes=1)\n",
    ")\n",
    "print(online_table.get_features(keys=[user_one]))"
   ]
  },
  {
   "cell_type": "code",
   "execution_count": 9,
   "metadata": {},
   "outputs": [
    {
     "name": "stdout",
     "output_type": "stream",
     "text": [
      "[{'comm_count_call_in': 0, 'comm_count_call_out': 2, 'comm_count_call_inout': 2, 'comm_count_sms_in': 0, 'comm_count_sms_out': 0, 'comm_count_sms_inout': 0, 'comm_count_callsms_in': 0, 'comm_count_callsms_out': 2, 'comm_count_callsms_inout': 2, 'comm_roamingcount_call_in': 0, 'comm_roamingcount_call_out': 0, 'comm_roamingcount_call_inout': 0, 'comm_roamingcount_sms_in': 0, 'comm_roamingcount_sms_out': 0, 'comm_roamingcount_sms_inout': 0, 'comm_roamingcount_callsms_in': 0, 'comm_roamingcount_callsms_out': 0, 'comm_roamingcount_callsms_inout': 0, 'comm_duration_call_in': 0.0, 'comm_duration_call_out': 548.0, 'comm_duration_call_inout': 548.0, 'comm_callratio_callsms_in': None, 'comm_smsratio_callsms_in': None, 'comm_callratio_callsms_out': 1.0, 'comm_smsratio_callsms_out': 0.0, 'comm_callratio_callsms_inout': 1.0, 'comm_smsratio_callsms_inout': 0.0, 'comm_inratio_inout_call': 0.0, 'comm_outratio_inout_call': 1.0, 'comm_inratio_inout_sms': None, 'comm_outratio_inout_sms': None, 'comm_inratio_inout_callsms': 0.0, 'comm_outratio_inout_callsms': 1.0, 'msisdn': '05X5wBWKN3'}, {'comm_count_call_in': 0, 'comm_count_call_out': 2, 'comm_count_call_inout': 2, 'comm_count_sms_in': 0, 'comm_count_sms_out': 0, 'comm_count_sms_inout': 0, 'comm_count_callsms_in': 0, 'comm_count_callsms_out': 2, 'comm_count_callsms_inout': 2, 'comm_roamingcount_call_in': 0, 'comm_roamingcount_call_out': 0, 'comm_roamingcount_call_inout': 0, 'comm_roamingcount_sms_in': 0, 'comm_roamingcount_sms_out': 0, 'comm_roamingcount_sms_inout': 0, 'comm_roamingcount_callsms_in': 0, 'comm_roamingcount_callsms_out': 0, 'comm_roamingcount_callsms_inout': 0, 'comm_duration_call_in': 0.0, 'comm_duration_call_out': 227.0, 'comm_duration_call_inout': 227.0, 'comm_callratio_callsms_in': None, 'comm_smsratio_callsms_in': None, 'comm_callratio_callsms_out': 1.0, 'comm_smsratio_callsms_out': 0.0, 'comm_callratio_callsms_inout': 1.0, 'comm_smsratio_callsms_inout': 0.0, 'comm_inratio_inout_call': 0.0, 'comm_outratio_inout_call': 1.0, 'comm_inratio_inout_sms': None, 'comm_outratio_inout_sms': None, 'comm_inratio_inout_callsms': 0.0, 'comm_outratio_inout_callsms': 1.0, 'msisdn': '05X5wBWKN3'}, {'comm_count_call_in': 0, 'comm_count_call_out': 2, 'comm_count_call_inout': 2, 'comm_count_sms_in': 0, 'comm_count_sms_out': 0, 'comm_count_sms_inout': 0, 'comm_count_callsms_in': 0, 'comm_count_callsms_out': 2, 'comm_count_callsms_inout': 2, 'comm_roamingcount_call_in': 0, 'comm_roamingcount_call_out': 0, 'comm_roamingcount_call_inout': 0, 'comm_roamingcount_sms_in': 0, 'comm_roamingcount_sms_out': 0, 'comm_roamingcount_sms_inout': 0, 'comm_roamingcount_callsms_in': 0, 'comm_roamingcount_callsms_out': 0, 'comm_roamingcount_callsms_inout': 0, 'comm_duration_call_in': 0.0, 'comm_duration_call_out': 227.0, 'comm_duration_call_inout': 227.0, 'comm_callratio_callsms_in': None, 'comm_smsratio_callsms_in': None, 'comm_callratio_callsms_out': 1.0, 'comm_smsratio_callsms_out': 0.0, 'comm_callratio_callsms_inout': 1.0, 'comm_smsratio_callsms_inout': 0.0, 'comm_inratio_inout_call': 0.0, 'comm_outratio_inout_call': 1.0, 'comm_inratio_inout_sms': None, 'comm_outratio_inout_sms': None, 'comm_inratio_inout_callsms': 0.0, 'comm_outratio_inout_callsms': 1.0, 'msisdn': '05X5wBWKN3'}]\n"
     ]
    }
   ],
   "source": [
    "abc = spark.read.table(\"comm_day\").withColumnRenamed(\"day\", \"event_time\")\n",
    "online_table = OnlineFeatures(\n",
    "    lookup_key=Entity(name=\"msisdn\").get_or_create(), dataframe=abc\n",
    ")\n",
    "abc = online_table.get_features(keys=[{\"msisdn\": \"05X5wBWKN3\"}])\n",
    "print(abc)"
   ]
  },
  {
   "cell_type": "code",
   "execution_count": null,
   "metadata": {},
   "outputs": [],
   "source": []
  }
 ],
 "metadata": {
  "kernelspec": {
   "display_name": ".venv",
   "language": "python",
   "name": "python3"
  },
  "language_info": {
   "codemirror_mode": {
    "name": "ipython",
    "version": 3
   },
   "file_extension": ".py",
   "mimetype": "text/x-python",
   "name": "python",
   "nbconvert_exporter": "python",
   "pygments_lexer": "ipython3",
   "version": "3.11.8"
  }
 },
 "nbformat": 4,
 "nbformat_minor": 2
}
